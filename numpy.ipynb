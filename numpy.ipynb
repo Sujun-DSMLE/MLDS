{
 "cells": [
  {
   "cell_type": "code",
   "execution_count": null,
   "source": [
    "\r\n",
    "l = list(range(1,100000000))\r\n",
    "sum = 0\r\n",
    "for e in l:\r\n",
    "    sum += e**5\r\n"
   ],
   "outputs": [],
   "metadata": {}
  },
  {
   "cell_type": "code",
   "execution_count": null,
   "source": [
    "import numpy as np\r\n",
    "\r\n",
    "nparray = np.arange(1,100000000)\r\n",
    "np.sum(nparray**5)"
   ],
   "outputs": [],
   "metadata": {}
  },
  {
   "cell_type": "code",
   "execution_count": null,
   "source": [
    "# 1D array\r\n",
    "a = np.array([8,7,6,5,4,3,2,9], dtype=np.float64)\r\n",
    "type(a)\r\n",
    "a\r\n",
    "a.ndim\r\n",
    "a.shape\r\n",
    "a.size\r\n",
    "a.itemsize\r\n",
    "a.dtype\r\n",
    "\r\n",
    "# Accessing\r\n",
    "a[2:5:2]\r\n",
    "\r\n",
    "#update\r\n",
    "a[2] = 11\r\n",
    "a.dtype\r\n",
    "a\r\n",
    "a.reshape(4,2)\r\n",
    "a = a.reshape(2,4)\r\n",
    "a = a.transpose()\r\n",
    "a\r\n",
    "a.transpose()\r\n"
   ],
   "outputs": [],
   "metadata": {}
  },
  {
   "cell_type": "code",
   "execution_count": null,
   "source": [
    "# 2D\r\n",
    "d2 = np.array([\r\n",
    "    [2,3,9],\r\n",
    "    [3,4,9],\r\n",
    "    [4,5,9]\r\n",
    "])\r\n",
    "a.shape\r\n",
    "a.ndim\r\n",
    "\r\n",
    "# Accessing\r\n",
    "d2[0,0]\r\n",
    "d2[0,1]\r\n",
    "d2[:, 0]\r\n",
    "d2[:, 1]\r\n",
    "d2[0, 0:2]\r\n",
    "d2[:, 0:2]\r\n",
    "d2[:2:2, 0:2]\r\n",
    "d2[::2, 0:2]\r\n"
   ],
   "outputs": [],
   "metadata": {}
  },
  {
   "cell_type": "code",
   "execution_count": null,
   "source": [
    "# Multi Dimentional Data\r\n",
    "image = np.arange(0, 784)\r\n",
    "image.ndim\r\n",
    "image.shape\r\n",
    "# img = image.reshape(28,28)\r\n",
    "# img.shape\r\n",
    "image = np.arange(0, 27)\r\n",
    "img = image.reshape(3,3,3)\r\n",
    "img[:,:,0]\r\n",
    "img.ndim\r\n",
    "img.shape"
   ],
   "outputs": [],
   "metadata": {}
  },
  {
   "cell_type": "code",
   "execution_count": 108,
   "source": [
    "# Aggregate\r\n",
    "np.sum(image)\r\n",
    "np.mean(image)\r\n",
    "np.median(image)\r\n",
    "image.std()\r\n",
    "image.sort()\r\n",
    "sorted(image, reverse=True)\r\n",
    "image.max()\r\n",
    "img = image.reshape(3,3,3)\r\n",
    "img[0].mean(axis=1)\r\n",
    "img"
   ],
   "outputs": [
    {
     "output_type": "execute_result",
     "data": {
      "text/plain": [
       "array([[[ 0,  1,  2],\n",
       "        [ 3,  4,  5],\n",
       "        [ 6,  7,  8]],\n",
       "\n",
       "       [[ 9, 10, 11],\n",
       "        [12, 13, 14],\n",
       "        [15, 16, 17]],\n",
       "\n",
       "       [[18, 19, 20],\n",
       "        [21, 22, 23],\n",
       "        [24, 25, 26]]])"
      ]
     },
     "metadata": {},
     "execution_count": 108
    }
   ],
   "metadata": {}
  },
  {
   "cell_type": "code",
   "execution_count": 112,
   "source": [
    "img[0].mean(axis=1)"
   ],
   "outputs": [
    {
     "output_type": "execute_result",
     "data": {
      "text/plain": [
       "array([1., 4., 7.])"
      ]
     },
     "metadata": {},
     "execution_count": 112
    }
   ],
   "metadata": {}
  },
  {
   "cell_type": "code",
   "execution_count": 91,
   "source": [
    "image[(image >= 20) & (image <= 24)]"
   ],
   "outputs": [
    {
     "output_type": "execute_result",
     "data": {
      "text/plain": [
       "array([20, 21, 22, 23, 24])"
      ]
     },
     "metadata": {},
     "execution_count": 91
    }
   ],
   "metadata": {}
  },
  {
   "cell_type": "code",
   "execution_count": 92,
   "source": [
    "image[~(image <= 24)]"
   ],
   "outputs": [
    {
     "output_type": "execute_result",
     "data": {
      "text/plain": [
       "array([25, 26])"
      ]
     },
     "metadata": {},
     "execution_count": 92
    }
   ],
   "metadata": {}
  },
  {
   "cell_type": "code",
   "execution_count": 94,
   "source": [
    "np.zeros((4,4))"
   ],
   "outputs": [
    {
     "output_type": "execute_result",
     "data": {
      "text/plain": [
       "array([[0., 0., 0., 0.],\n",
       "       [0., 0., 0., 0.],\n",
       "       [0., 0., 0., 0.],\n",
       "       [0., 0., 0., 0.]])"
      ]
     },
     "metadata": {},
     "execution_count": 94
    }
   ],
   "metadata": {}
  },
  {
   "cell_type": "code",
   "execution_count": 96,
   "source": [
    "np.ones((4,4))"
   ],
   "outputs": [
    {
     "output_type": "execute_result",
     "data": {
      "text/plain": [
       "array([[1., 1., 1., 1.],\n",
       "       [1., 1., 1., 1.],\n",
       "       [1., 1., 1., 1.],\n",
       "       [1., 1., 1., 1.]])"
      ]
     },
     "metadata": {},
     "execution_count": 96
    }
   ],
   "metadata": {}
  },
  {
   "cell_type": "code",
   "execution_count": 98,
   "source": [
    "np.eye(4,4)"
   ],
   "outputs": [
    {
     "output_type": "execute_result",
     "data": {
      "text/plain": [
       "array([[1., 0., 0., 0.],\n",
       "       [0., 1., 0., 0.],\n",
       "       [0., 0., 1., 0.],\n",
       "       [0., 0., 0., 1.]])"
      ]
     },
     "metadata": {},
     "execution_count": 98
    }
   ],
   "metadata": {}
  },
  {
   "cell_type": "code",
   "execution_count": 100,
   "source": [
    "a1 = np.array([2,3,4,5])\r\n",
    "np.in1d(a1, [4,5]).sum()"
   ],
   "outputs": [
    {
     "output_type": "execute_result",
     "data": {
      "text/plain": [
       "2"
      ]
     },
     "metadata": {},
     "execution_count": 100
    }
   ],
   "metadata": {}
  },
  {
   "cell_type": "code",
   "execution_count": 101,
   "source": [
    "a1 = np.array([2,2,2,2,3,4,5])\r\n",
    "np.unique(a1)"
   ],
   "outputs": [
    {
     "output_type": "execute_result",
     "data": {
      "text/plain": [
       "array([2, 3, 4, 5])"
      ]
     },
     "metadata": {},
     "execution_count": 101
    }
   ],
   "metadata": {}
  },
  {
   "cell_type": "code",
   "execution_count": 115,
   "source": [
    "a =np.random.randint(1,255, size=33)"
   ],
   "outputs": [],
   "metadata": {}
  },
  {
   "cell_type": "code",
   "execution_count": 116,
   "source": [
    "np.sin(a)"
   ],
   "outputs": [
    {
     "output_type": "execute_result",
     "data": {
      "text/plain": [
       "array([ 0.23669068, -0.95892427,  0.97659087, -0.94252453,  0.59493278,\n",
       "        0.88592482, -0.33830503, -0.89792768,  0.62298863,  0.90929743,\n",
       "       -0.99177885, -0.87331198, -0.06192034,  0.73319032, -0.28790332,\n",
       "       -0.7568025 , -0.93009488, -0.7391807 , -0.75098725,  0.0353983 ,\n",
       "        0.32999083, -0.99568419,  0.87757534,  0.60904402,  0.92002604,\n",
       "        0.31322878,  0.70865914,  0.69605849,  0.77389068, -0.99717102,\n",
       "       -0.19344382, -0.7568025 ,  0.67022918])"
      ]
     },
     "metadata": {},
     "execution_count": 116
    }
   ],
   "metadata": {}
  },
  {
   "cell_type": "code",
   "execution_count": 124,
   "source": [
    "# Matrix Operation\r\n",
    "a = np.eye(3,3)\r\n",
    "b = img[0]\r\n",
    "\r\n",
    "a"
   ],
   "outputs": [
    {
     "output_type": "execute_result",
     "data": {
      "text/plain": [
       "array([[1., 0., 0.],\n",
       "       [0., 1., 0.],\n",
       "       [0., 0., 1.]])"
      ]
     },
     "metadata": {},
     "execution_count": 124
    }
   ],
   "metadata": {}
  },
  {
   "cell_type": "code",
   "execution_count": 125,
   "source": [
    "b\r\n",
    "0*3 + 1*4 + 0*7"
   ],
   "outputs": [
    {
     "output_type": "execute_result",
     "data": {
      "text/plain": [
       "array([[0, 1, 2],\n",
       "       [3, 4, 5],\n",
       "       [6, 7, 8]])"
      ]
     },
     "metadata": {},
     "execution_count": 125
    }
   ],
   "metadata": {}
  },
  {
   "cell_type": "code",
   "execution_count": 133,
   "source": [
    "a + b\r\n",
    "a - b\r\n",
    "a * b\r\n",
    "# a / b\r\n",
    "a ** 4"
   ],
   "outputs": [
    {
     "output_type": "execute_result",
     "data": {
      "text/plain": [
       "array([[1., 0., 0.],\n",
       "       [0., 1., 0.],\n",
       "       [0., 0., 1.]])"
      ]
     },
     "metadata": {},
     "execution_count": 133
    }
   ],
   "metadata": {}
  },
  {
   "cell_type": "code",
   "execution_count": null,
   "source": [],
   "outputs": [],
   "metadata": {}
  }
 ],
 "metadata": {
  "orig_nbformat": 4,
  "language_info": {
   "name": "python",
   "version": "3.9.5",
   "mimetype": "text/x-python",
   "codemirror_mode": {
    "name": "ipython",
    "version": 3
   },
   "pygments_lexer": "ipython3",
   "nbconvert_exporter": "python",
   "file_extension": ".py"
  },
  "kernelspec": {
   "name": "python3",
   "display_name": "Python 3.9.5 64-bit"
  },
  "interpreter": {
   "hash": "b3a1bebe63c7b2a053642fa9fe52396479a14cfcd0c0746e926f464b03352c88"
  }
 },
 "nbformat": 4,
 "nbformat_minor": 2
}