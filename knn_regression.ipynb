{
 "cells": [
  {
   "cell_type": "markdown",
   "source": [
    "# 8 Steps Of Machine Learning\r\n",
    "* Data Gathering\r\n",
    "* Data pre-processing\r\n",
    "* Feature Engineering\r\n",
    "* Choosing Model\r\n",
    "* Training Model\r\n",
    "* Test Model/ Model Evaluation\r\n",
    "* Parameter Tuning\r\n",
    "* Prediction\r\n"
   ],
   "metadata": {}
  },
  {
   "cell_type": "code",
   "execution_count": 23,
   "source": [
    "import numpy as np\r\n",
    "import pandas as pd\r\n",
    "import matplotlib.pyplot as plt\r\n",
    "%matplotlib inline"
   ],
   "outputs": [],
   "metadata": {}
  },
  {
   "cell_type": "code",
   "execution_count": 24,
   "source": [
    "# Data Gathering\r\n",
    "from sklearn.metrics import mean_squared_error, r2_score\r\n",
    "from sklearn import linear_model\r\n",
    "from sklearn import model_selection\r\n",
    "import seaborn as sns\r\n",
    "df = pd.read_csv(\"FuelConsumption.csv\")\r\n",
    "df.head()\r\n",
    "df.describe()\r\n",
    "\r\n",
    "#data Pre-Processing\r\n",
    "df.info()\r\n",
    "data = df[[\"ENGINESIZE\", \"CYLINDERS\", \"FUELCONSUMPTION_CITY\",\r\n",
    "           \"FUELCONSUMPTION_HWY\", \"FUELCONSUMPTION_COMB\", \"CO2EMISSIONS\"]]\r\n",
    "data.info()\r\n",
    "\r\n",
    "## Feature Engineering Analyssis\r\n",
    "corr = data.corr()\r\n",
    "# sns.heatmap(corr)\r\n",
    "# sns.pairplot(data)\r\n",
    "data = df[[\"ENGINESIZE\", \"CYLINDERS\", \"FUELCONSUMPTION_CITY\",\r\n",
    "           \"FUELCONSUMPTION_HWY\", \"FUELCONSUMPTION_COMB\", \"CO2EMISSIONS\"]]\r\n",
    "\r\n",
    "## Split data into training and test set\r\n",
    "X = data[[\"ENGINESIZE\",\"FUELCONSUMPTION_COMB\"]]\r\n",
    "Y = data[[\"CO2EMISSIONS\"]]\r\n",
    "xtrain, xtest, ytrain, ytest = model_selection.train_test_split(\r\n",
    "    X, Y, test_size=0.2, random_state=1)\r\n",
    "\r\n",
    "\r\n"
   ],
   "outputs": [
    {
     "output_type": "stream",
     "name": "stdout",
     "text": [
      "<class 'pandas.core.frame.DataFrame'>\n",
      "RangeIndex: 1067 entries, 0 to 1066\n",
      "Data columns (total 13 columns):\n",
      " #   Column                    Non-Null Count  Dtype  \n",
      "---  ------                    --------------  -----  \n",
      " 0   MODELYEAR                 1067 non-null   int64  \n",
      " 1   MAKE                      1067 non-null   object \n",
      " 2   MODEL                     1067 non-null   object \n",
      " 3   VEHICLECLASS              1067 non-null   object \n",
      " 4   ENGINESIZE                1067 non-null   float64\n",
      " 5   CYLINDERS                 1067 non-null   int64  \n",
      " 6   TRANSMISSION              1067 non-null   object \n",
      " 7   FUELTYPE                  1067 non-null   object \n",
      " 8   FUELCONSUMPTION_CITY      1067 non-null   float64\n",
      " 9   FUELCONSUMPTION_HWY       1067 non-null   float64\n",
      " 10  FUELCONSUMPTION_COMB      1067 non-null   float64\n",
      " 11  FUELCONSUMPTION_COMB_MPG  1067 non-null   int64  \n",
      " 12  CO2EMISSIONS              1067 non-null   int64  \n",
      "dtypes: float64(4), int64(4), object(5)\n",
      "memory usage: 108.5+ KB\n",
      "<class 'pandas.core.frame.DataFrame'>\n",
      "RangeIndex: 1067 entries, 0 to 1066\n",
      "Data columns (total 6 columns):\n",
      " #   Column                Non-Null Count  Dtype  \n",
      "---  ------                --------------  -----  \n",
      " 0   ENGINESIZE            1067 non-null   float64\n",
      " 1   CYLINDERS             1067 non-null   int64  \n",
      " 2   FUELCONSUMPTION_CITY  1067 non-null   float64\n",
      " 3   FUELCONSUMPTION_HWY   1067 non-null   float64\n",
      " 4   FUELCONSUMPTION_COMB  1067 non-null   float64\n",
      " 5   CO2EMISSIONS          1067 non-null   int64  \n",
      "dtypes: float64(4), int64(2)\n",
      "memory usage: 50.1 KB\n"
     ]
    }
   ],
   "metadata": {}
  },
  {
   "cell_type": "markdown",
   "source": [
    "## Linear Regression"
   ],
   "metadata": {}
  },
  {
   "cell_type": "code",
   "execution_count": 25,
   "source": [
    "## Choosing Model\r\n",
    "#Init\r\n",
    "model = linear_model.LinearRegression()\r\n",
    "\r\n",
    "## Train Model\r\n",
    "model.fit(xtrain, ytrain)\r\n",
    "print(model.score(xtrain, ytrain))\r\n",
    "\r\n",
    "## Predict/Test\r\n",
    "yhat = model.predict(xtest)\r\n",
    "\r\n",
    "## Metrics Evaluation\r\n",
    "print(\"MSE: \", mean_squared_error(yhat, ytest))\r\n",
    "print(\"R2 Score: \", r2_score(yhat, ytest))\r\n",
    "print(xtrain.shape, ytrain.shape)\r\n",
    "\r\n",
    "\r\n",
    "# Regression Analyssis\r\n",
    "line1 = np.linspace(1, 8.4, 853).reshape(-1, 1)\r\n",
    "line2 = np.linspace(1, 8.4, 853).reshape(-1, 1)\r\n",
    "line3 = np.linspace(1, 8.4, 853).reshape(-1, 1)\r\n",
    "lines = pd.DataFrame(\r\n",
    "    {\r\n",
    "        \"E\": line1[:, 0],\r\n",
    "        \"C\": line2[:, 0],\r\n",
    "        \"F\": line3[:, 0]\r\n",
    "    }\r\n",
    ")\r\n",
    "\r\n",
    "# fig, axes = plt.subplots(1, 1, figsize=(10, 6))\r\n",
    "# axes.scatter(xtrain[[\"ENGINESIZE\"]], ytrain, label=\"Actual Data\", c=\"hotpink\")\r\n",
    "# axes.plot(lines[[\"E\"]].values, model.predict(lines), label=\"Regression Line\", c=\"darkorange\")\r\n",
    "# axes.legend()\r\n",
    "# axes.set_xlabel(\"EngineSize\")\r\n",
    "# axes.set_ylabel(\"CO2Emission\")\r\n",
    "# plt.show()\r\n"
   ],
   "outputs": [
    {
     "output_type": "stream",
     "name": "stdout",
     "text": [
      "0.8587780560563772\n",
      "MSE:  585.5245034046521\n",
      "R2 Score:  0.8419548727356092\n",
      "(853, 2) (853, 1)\n"
     ]
    }
   ],
   "metadata": {}
  },
  {
   "cell_type": "code",
   "execution_count": 26,
   "source": [
    "## KFold Cross Validation\r\n",
    "from sklearn.model_selection import KFold\r\n",
    "\r\n",
    "folds = KFold(n_splits=5)\r\n",
    "accuracies = []\r\n",
    "fig, axes = plt.subplots(1, 5, figsize=(25, 6))\r\n",
    "for Index, axis in zip(folds.split(X), axes):\r\n",
    "    ##Training data\r\n",
    "    xtrain = X.iloc[Index[0]]\r\n",
    "    ytrain = Y.iloc[Index[0]]\r\n",
    "\r\n",
    "    ## Testing\r\n",
    "    xtest = X.iloc[Index[1]]\r\n",
    "    ytest = Y.iloc[Index[1]]\r\n",
    "\r\n",
    "    ## Model\r\n",
    "    model = linear_model.LinearRegression()\r\n",
    "    \r\n",
    "    ## Train Model\r\n",
    "    model.fit(xtrain, ytrain)\r\n",
    "\r\n",
    "    ## Test Prediction\r\n",
    "    ypred = model.predict(xtest)\r\n",
    "\r\n",
    "    ## Evaluation Metrices\r\n",
    "    print(\"================== Fold ================\")\r\n",
    "    print(\"MSE: \", mean_squared_error(ypred, ytest))\r\n",
    "    print(\"R2 Score: \", r2_score(ytest, ypred))\r\n",
    "\r\n",
    "    accuracies.append(r2_score(ytest, ypred))\r\n",
    "\r\n",
    "    ## Regression Analyssis\r\n",
    "#     line = np.linspace(1, 8.4, 853).reshape(-1, 1)\r\n",
    "#     axis.scatter(xtrain, ytrain, label=\"Actual Data\", c=\"hotpink\")\r\n",
    "#     axis.plot(line, model.predict(line), label=\"Regression Line\", c=\"black\", linewidth=5)\r\n",
    "#     axis.legend()\r\n",
    "#     axis.set_xlabel(\"EngineSize\")\r\n",
    "#     axis.set_ylabel(\"CO2Emission\")\r\n",
    "# plt.show()\r\n",
    "    \r\n",
    "sum(accuracies)/len(accuracies)\r\n"
   ],
   "outputs": [
    {
     "output_type": "stream",
     "name": "stdout",
     "text": [
      "================== Fold ================\n",
      "MSE:  492.4652138889949\n",
      "R2 Score:  0.8563746991791382\n",
      "================== Fold ================\n",
      "MSE:  1166.1509188516175\n",
      "R2 Score:  0.7610611039444628\n",
      "================== Fold ================\n",
      "MSE:  740.2786288987121\n",
      "R2 Score:  0.8128139071191258\n",
      "================== Fold ================\n",
      "MSE:  448.6668277765826\n",
      "R2 Score:  0.8817597364542984\n",
      "================== Fold ================\n",
      "MSE:  338.59445143092626\n",
      "R2 Score:  0.9032128090811866\n"
     ]
    },
    {
     "output_type": "execute_result",
     "data": {
      "text/plain": [
       "0.8430444511556423"
      ]
     },
     "metadata": {},
     "execution_count": 26
    },
    {
     "output_type": "display_data",
     "data": {
      "image/png": "[encoded data removed]",
      "text/plain": [
       "<Figure size 1800x432 with 5 Axes>"
      ]
     },
     "metadata": {
      "needs_background": "light"
     }
    }
   ],
   "metadata": {}
  },
  {
   "cell_type": "code",
   "execution_count": 27,
   "source": [
    "## Cross val score\r\n",
    "from sklearn import model_selection\r\n",
    "model = linear_model.LinearRegression()\r\n",
    "\r\n",
    "# metrics.SCORERS.keys()\r\n",
    "cv = model_selection.cross_val_score(\r\n",
    "    model,\r\n",
    "    X,Y,\r\n",
    "    cv=5,\r\n",
    "    scoring='r2', verbose=4\r\n",
    ")\r\n",
    "cv.mean()\r\n"
   ],
   "outputs": [
    {
     "output_type": "stream",
     "name": "stdout",
     "text": [
      "[CV] END ................................ score: (test=0.856) total time=   0.0s\n",
      "[CV] END ................................ score: (test=0.761) total time=   0.0s\n",
      "[CV] END ................................ score: (test=0.813) total time=   0.0s\n",
      "[CV] END ................................ score: (test=0.882) total time=   0.0s\n",
      "[CV] END ................................ score: (test=0.903) total time=   0.0s\n"
     ]
    },
    {
     "output_type": "stream",
     "name": "stderr",
     "text": [
      "[Parallel(n_jobs=1)]: Using backend SequentialBackend with 1 concurrent workers.\n",
      "[Parallel(n_jobs=1)]: Done   1 out of   1 | elapsed:    0.0s remaining:    0.0s\n",
      "[Parallel(n_jobs=1)]: Done   2 out of   2 | elapsed:    0.0s remaining:    0.0s\n",
      "[Parallel(n_jobs=1)]: Done   3 out of   3 | elapsed:    0.0s remaining:    0.0s\n",
      "[Parallel(n_jobs=1)]: Done   5 out of   5 | elapsed:    0.0s finished\n"
     ]
    },
    {
     "output_type": "execute_result",
     "data": {
      "text/plain": [
       "0.8430444511556423"
      ]
     },
     "metadata": {},
     "execution_count": 27
    }
   ],
   "metadata": {}
  },
  {
   "cell_type": "code",
   "execution_count": 28,
   "source": [
    "list(zip([1,2,3], ['a','b','c']))"
   ],
   "outputs": [
    {
     "output_type": "execute_result",
     "data": {
      "text/plain": [
       "[(1, 'a'), (2, 'b'), (3, 'c')]"
      ]
     },
     "metadata": {},
     "execution_count": 28
    }
   ],
   "metadata": {}
  },
  {
   "cell_type": "markdown",
   "source": [
    "# KNN Regression"
   ],
   "metadata": {}
  },
  {
   "cell_type": "code",
   "execution_count": 29,
   "source": [
    "### KNN\r\n",
    "from sklearn import neighbors\r\n",
    "\r\n",
    "#MOdel INit\r\n",
    "knn_model = neighbors.KNeighborsRegressor(n_neighbors=3)\r\n",
    "\r\n",
    "## MOdel Training\r\n",
    "knn_model.fit(xtrain, ytrain)\r\n",
    "\r\n",
    "## Test Prediction\r\n",
    "knn_model.predict([[2.8, 9.4]])\r\n",
    "ypred = knn_model.predict(xtest)\r\n",
    "\r\n",
    "\r\n",
    "## Evaluation\r\n",
    "print(\"MSE: \", mean_squared_error(ypred, ytest))\r\n",
    "print(\"R2 Score: \", r2_score(ypred, ytest))\r\n",
    "\r\n",
    "## Hyper Prameter Tuning\r\n",
    "for k in range(3,30,2):\r\n",
    "    knn_model = neighbors.KNeighborsRegressor(n_neighbors=k, weights=\"distance\")\r\n",
    "\r\n",
    "    ## MOdel Training\r\n",
    "    knn_model.fit(xtrain, ytrain)\r\n",
    "\r\n",
    "    ## Test Prediction\r\n",
    "    ypred = knn_model.predict(xtest)\r\n",
    "\r\n",
    "\r\n",
    "    ## Evaluation\r\n",
    "    print(\"k=\", k)\r\n",
    "    print(\"MSE: \", mean_squared_error(ypred, ytest))\r\n",
    "    print(\"R2 Score: \", r2_score(ypred, ytest))\r\n",
    "\r\n"
   ],
   "outputs": [
    {
     "output_type": "stream",
     "name": "stdout",
     "text": [
      "MSE:  132.30620761606673\n",
      "R2 Score:  0.9610584746766396\n",
      "k= 3\n",
      "MSE:  109.8098317092952\n",
      "R2 Score:  0.9677666479436966\n",
      "k= 5\n",
      "MSE:  92.21627702762024\n",
      "R2 Score:  0.9726583959996952\n",
      "k= 7\n",
      "MSE:  99.27452906899049\n",
      "R2 Score:  0.9702077958209124\n",
      "k= 9\n",
      "MSE:  108.59305404107631\n",
      "R2 Score:  0.9669144264144709\n",
      "k= 11\n",
      "MSE:  110.42421529569029\n",
      "R2 Score:  0.9661490176955009\n",
      "k= 13\n",
      "MSE:  107.41626387155904\n",
      "R2 Score:  0.9672109168213212\n",
      "k= 15\n",
      "MSE:  108.49418045332386\n",
      "R2 Score:  0.9667057834382252\n",
      "k= 17\n",
      "MSE:  107.87738089047572\n",
      "R2 Score:  0.966807072560549\n",
      "k= 19\n",
      "MSE:  106.5095661303035\n",
      "R2 Score:  0.9671970943466581\n",
      "k= 21\n",
      "MSE:  108.01695621121145\n",
      "R2 Score:  0.966253706171728\n",
      "k= 23\n",
      "MSE:  110.05352670532504\n",
      "R2 Score:  0.9651883059132954\n",
      "k= 25\n",
      "MSE:  109.63957769669739\n",
      "R2 Score:  0.9652210003604778\n",
      "k= 27\n",
      "MSE:  110.50138394047006\n",
      "R2 Score:  0.9648334819345674\n",
      "k= 29\n",
      "MSE:  111.97698954127056\n",
      "R2 Score:  0.9642838981188774\n"
     ]
    }
   ],
   "metadata": {}
  },
  {
   "cell_type": "code",
   "execution_count": 30,
   "source": [
    "## Perform KFold"
   ],
   "outputs": [],
   "metadata": {}
  },
  {
   "cell_type": "code",
   "execution_count": 31,
   "source": [
    "## Grid SearchCV\r\n",
    "estimator = neighbors.KNeighborsRegressor()\r\n",
    "grid = model_selection.GridSearchCV(\r\n",
    "    estimator,\r\n",
    "    param_grid={\r\n",
    "        \"n_neighbors\": list(range(3, 30, 2)),\r\n",
    "        \"weights\":[\"uniform\", \"distance\"]\r\n",
    "    },\r\n",
    "    cv=5, verbose=1\r\n",
    ")\r\n",
    "grid.fit(X,Y)\r\n",
    "\r\n",
    "grid.best_params_"
   ],
   "outputs": [
    {
     "output_type": "stream",
     "name": "stdout",
     "text": [
      "Fitting 5 folds for each of 28 candidates, totalling 140 fits\n"
     ]
    },
    {
     "output_type": "execute_result",
     "data": {
      "text/plain": [
       "{'n_neighbors': 19, 'weights': 'distance'}"
      ]
     },
     "metadata": {},
     "execution_count": 31
    }
   ],
   "metadata": {}
  },
  {
   "cell_type": "code",
   "execution_count": 32,
   "source": [
    "## KNN Analyssis\r\n",
    "line1 = np.linspace(1, 8.4, 853).reshape(-1, 1)\r\n",
    "## Split data into training and test set\r\n",
    "X = data[[\"ENGINESIZE\"]]\r\n",
    "Y = data[[\"CO2EMISSIONS\"]]\r\n",
    "xtrain, xtest, ytrain, ytest = model_selection.train_test_split(\r\n",
    "    X, Y, test_size=0.2, random_state=1)\r\n",
    "fig, axes = plt.subplots(1,3, figsize=(25,5))\r\n",
    "for k, axis in zip([9,15,19], axes):\r\n",
    "    knn_model = neighbors.KNeighborsRegressor(n_neighbors=k, weights=\"distance\")\r\n",
    "\r\n",
    "    ## MOdel Training\r\n",
    "    knn_model.fit(xtrain, ytrain)\r\n",
    "\r\n",
    "    ## Test Prediction\r\n",
    "    ypred = knn_model.predict(xtest)\r\n",
    "\r\n",
    "    ## Evaluation\r\n",
    "    print(\"k=\", k)\r\n",
    "    print(\"MSE: \", mean_squared_error(ypred, ytest))\r\n",
    "    print(\"R2 Score: \", r2_score(ypred, ytest))\r\n",
    "\r\n",
    "    ## Visualize\r\n",
    "    ## Regression Analyssis\r\n",
    "    line = np.linspace(1, 8.4, 853).reshape(-1, 1)\r\n",
    "    axis.scatter(xtrain, ytrain, label=\"Actual Data\", c=\"hotpink\")\r\n",
    "    axis.plot(line1, knn_model.predict(line1),\r\n",
    "              label=\"Regression Line\", c=\"black\", linewidth=4)\r\n",
    "    axis.legend()\r\n",
    "    axis.set_title(f\"When K={k}\")\r\n",
    "    axis.set_xlabel(\"EngineSize\")\r\n",
    "    axis.set_ylabel(\"CO2Emission\")\r\n",
    "plt.show()\r\n",
    "    \r\n"
   ],
   "outputs": [
    {
     "output_type": "stream",
     "name": "stdout",
     "text": [
      "k= 9\n",
      "MSE:  842.4166620529312\n",
      "R2 Score:  0.762392153811607\n",
      "k= 15\n",
      "MSE:  783.0920761208143\n",
      "R2 Score:  0.7767762199690186\n",
      "k= 19\n",
      "MSE:  772.6272495602336\n",
      "R2 Score:  0.7790055778704459\n"
     ]
    },
    {
     "output_type": "display_data",
     "data": {
      "image/png": "[encoded data removed]",
      "text/plain": [
       "<Figure size 1800x360 with 3 Axes>"
      ]
     },
     "metadata": {
      "needs_background": "light"
     }
    }
   ],
   "metadata": {}
  },
  {
   "cell_type": "code",
   "execution_count": null,
   "source": [],
   "outputs": [],
   "metadata": {}
  }
 ],
 "metadata": {
  "orig_nbformat": 4,
  "language_info": {
   "name": "python",
   "version": "3.9.7",
   "mimetype": "text/x-python",
   "codemirror_mode": {
    "name": "ipython",
    "version": 3
   },
   "pygments_lexer": "ipython3",
   "nbconvert_exporter": "python",
   "file_extension": ".py"
  },
  "kernelspec": {
   "name": "python3",
   "display_name": "Python 3.9.7 64-bit"
  },
  "interpreter": {
   "hash": "14a336a61cfaefff504b47e2b8e6e50961f0feafa7b211f8ff23081790c52144"
  }
 },
 "nbformat": 4,
 "nbformat_minor": 2
}