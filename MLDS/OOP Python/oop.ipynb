{
 "cells": [
  {
   "cell_type": "markdown",
   "source": [
    "## OOP\r\n",
    "* Class\r\n",
    "* Object"
   ],
   "metadata": {}
  },
  {
   "cell_type": "code",
   "execution_count": null,
   "source": [
    "# Classs\r\n",
    "class Student:\r\n",
    "    ## Features or Attributes\r\n",
    "    stream = \"CSE\"\r\n",
    "    __streamCode = 3\r\n",
    "\r\n",
    "    ## Constructor\r\n",
    "    def __init__(self, roll):\r\n",
    "        self.__roll = roll\r\n",
    "\r\n",
    "    ## Behaviours\r\n",
    "    def say(self):\r\n",
    "        print(f\"Hi My Roll is {self.__roll}\")\r\n",
    "    \r\n",
    "    def updateRoll(self, roll):\r\n",
    "        self.__roll = roll\r\n",
    "    \r\n",
    "    def showStreamCode(self):\r\n",
    "        return f'StreamCode -> {__class__.__streamCode}'\r\n"
   ],
   "outputs": [],
   "metadata": {}
  },
  {
   "cell_type": "code",
   "execution_count": null,
   "source": [
    "## Object\r\n",
    "alexa = Student(1)\r\n",
    "alexa.say()\r\n",
    "alexa.updateRoll(5)\r\n",
    "alexa.showStreamCode()\r\n",
    "alexa.__roll"
   ],
   "outputs": [],
   "metadata": {}
  },
  {
   "cell_type": "code",
   "execution_count": null,
   "source": [],
   "outputs": [],
   "metadata": {}
  },
  {
   "cell_type": "code",
   "execution_count": null,
   "source": [
    "john = Student(2)\r\n",
    "john.say()\r\n",
    "john.stream = \"ME\"\r\n",
    "john.stream"
   ],
   "outputs": [],
   "metadata": {}
  },
  {
   "cell_type": "code",
   "execution_count": null,
   "source": [
    "alexa = Student(1)\r\n",
    "alexa.say()\r\n",
    "alexa.stream\r\n",
    "alexa.roll = 3\r\n",
    "alexa.say()\r\n",
    "alexa.roll"
   ],
   "outputs": [],
   "metadata": {}
  },
  {
   "cell_type": "markdown",
   "source": [
    "* Encapsulation\r\n",
    "* Abstraction\r\n",
    "* Inheritance\r\n",
    "* Polymorphism"
   ],
   "metadata": {}
  },
  {
   "cell_type": "code",
   "execution_count": 3,
   "source": [
    "## Inheritance\r\n",
    "class Human:\r\n",
    "    hands = 2\r\n",
    "    legs = 2\r\n",
    "    eyes = 2\r\n",
    "\r\n",
    "    def __init__(self, name):\r\n",
    "        self.name = name\r\n",
    "    \r\n",
    "    def speak(self):\r\n",
    "        return f'{self.name} is Speaking..'    "
   ],
   "outputs": [],
   "metadata": {}
  },
  {
   "cell_type": "code",
   "execution_count": 14,
   "source": [
    "# Single Inheritance\r\n",
    "class Male(Human):\r\n",
    "    gender = \"Male\"\r\n",
    "\r\n",
    "class Female(Human):\r\n",
    "    gender = \"Female\"\r\n"
   ],
   "outputs": [],
   "metadata": {}
  },
  {
   "cell_type": "code",
   "execution_count": 24,
   "source": [
    "## Multiple Inheritance\r\n",
    "class child(Female, Male):\r\n",
    "    gender = \"Male\""
   ],
   "outputs": [],
   "metadata": {}
  },
  {
   "cell_type": "code",
   "execution_count": 15,
   "source": [
    "john = Male(\"John\")\r\n",
    "john.speak()\r\n",
    "john.eyes\r\n",
    "john.gender"
   ],
   "outputs": [
    {
     "output_type": "execute_result",
     "data": {
      "text/plain": [
       "'Male'"
      ]
     },
     "metadata": {},
     "execution_count": 15
    }
   ],
   "metadata": {}
  },
  {
   "cell_type": "code",
   "execution_count": 29,
   "source": [
    "alexa = Female(\"Alexa\")\r\n",
    "alexa.speak()\r\n",
    "alexa.eyes\r\n",
    "alexa.gender"
   ],
   "outputs": [
    {
     "output_type": "execute_result",
     "data": {
      "text/plain": [
       "2"
      ]
     },
     "metadata": {},
     "execution_count": 29
    }
   ],
   "metadata": {}
  },
  {
   "cell_type": "code",
   "execution_count": 30,
   "source": [
    "johny = child(\"Jhony\")\r\n",
    "johny.speak()\r\n"
   ],
   "outputs": [
    {
     "output_type": "execute_result",
     "data": {
      "text/plain": [
       "'Jhony is Speaking..'"
      ]
     },
     "metadata": {},
     "execution_count": 30
    }
   ],
   "metadata": {}
  },
  {
   "cell_type": "code",
   "execution_count": null,
   "source": [],
   "outputs": [],
   "metadata": {}
  },
  {
   "cell_type": "code",
   "execution_count": 26,
   "source": [
    "#Polymorphism\r\n",
    "def add(a,b,z=0):\r\n",
    "    return a+b+z"
   ],
   "outputs": [],
   "metadata": {}
  },
  {
   "cell_type": "code",
   "execution_count": 27,
   "source": [
    "add(1,2)"
   ],
   "outputs": [
    {
     "output_type": "execute_result",
     "data": {
      "text/plain": [
       "3"
      ]
     },
     "metadata": {},
     "execution_count": 27
    }
   ],
   "metadata": {}
  },
  {
   "cell_type": "code",
   "execution_count": 28,
   "source": [
    "add(1,2,3)"
   ],
   "outputs": [
    {
     "output_type": "execute_result",
     "data": {
      "text/plain": [
       "6"
      ]
     },
     "metadata": {},
     "execution_count": 28
    }
   ],
   "metadata": {}
  },
  {
   "cell_type": "code",
   "execution_count": 46,
   "source": [
    "class child(Female, Male):\r\n",
    "    gender = \"Male\"\r\n",
    "\r\n",
    "    ## Runtime Polymorphism or Function Overriding\r\n",
    "    def speak(self):\r\n",
    "        return f\"{self.name} can't speak!\"\r\n",
    "\r\n",
    "    def genderShow(self):\r\n",
    "        return super().speak()"
   ],
   "outputs": [],
   "metadata": {}
  },
  {
   "cell_type": "code",
   "execution_count": 48,
   "source": [
    "johny = child(\"Johny\")\r\n",
    "johny.genderShow()"
   ],
   "outputs": [
    {
     "output_type": "execute_result",
     "data": {
      "text/plain": [
       "'Female'"
      ]
     },
     "metadata": {},
     "execution_count": 48
    }
   ],
   "metadata": {}
  }
 ],
 "metadata": {
  "orig_nbformat": 4,
  "language_info": {
   "name": "python",
   "version": "3.9.5",
   "mimetype": "text/x-python",
   "codemirror_mode": {
    "name": "ipython",
    "version": 3
   },
   "pygments_lexer": "ipython3",
   "nbconvert_exporter": "python",
   "file_extension": ".py"
  },
  "kernelspec": {
   "name": "python3",
   "display_name": "Python 3.9.5 64-bit"
  },
  "interpreter": {
   "hash": "b3a1bebe63c7b2a053642fa9fe52396479a14cfcd0c0746e926f464b03352c88"
  }
 },
 "nbformat": 4,
 "nbformat_minor": 2
}