{
 "cells": [
  {
   "cell_type": "code",
   "execution_count": null,
   "metadata": {},
   "outputs": [],
   "source": [
    "! pip install -U scikit-image"
   ]
  },
  {
   "cell_type": "code",
   "execution_count": null,
   "metadata": {},
   "outputs": [],
   "source": [
    "import numpy as np\n",
    "import matplotlib.pyplot as plt\n",
    "import skimage\n",
    "from skimage import io\n",
    "%matplotlib inline"
   ]
  },
  {
   "cell_type": "code",
   "execution_count": null,
   "metadata": {},
   "outputs": [],
   "source": [
    "path = r'data\\Brown_spot\\DSC_0100.jpg'\n",
    "image = io.imread(path)\n",
    "type(image), image.shape\n",
    "plt.imshow(image)"
   ]
  },
  {
   "cell_type": "code",
   "execution_count": null,
   "metadata": {},
   "outputs": [],
   "source": [
    "path = r'data\\Brown_spot\\DSC_0100.jpg'\n",
    "image = io.imread(path, as_gray=True)\n",
    "type(image), image\n",
    "plt.imshow(image)"
   ]
  },
  {
   "cell_type": "code",
   "execution_count": null,
   "metadata": {},
   "outputs": [],
   "source": [
    "image.shape[0]*image.shape[1]"
   ]
  },
  {
   "cell_type": "code",
   "execution_count": null,
   "metadata": {},
   "outputs": [],
   "source": [
    "## Scaling\n",
    "from skimage.transform import rescale, resize\n",
    "scimg = rescale(image, 1/2)\n",
    "image.shape, scimg.shape"
   ]
  },
  {
   "cell_type": "code",
   "execution_count": null,
   "metadata": {},
   "outputs": [],
   "source": [
    "plt.imshow(scimg)"
   ]
  },
  {
   "cell_type": "code",
   "execution_count": null,
   "metadata": {},
   "outputs": [],
   "source": [
    "plt.imshow(image)"
   ]
  },
  {
   "cell_type": "code",
   "execution_count": null,
   "metadata": {},
   "outputs": [],
   "source": [
    "# Resize \n",
    "resizedimg = resize(scimg, output_shape=(28,28))\n",
    "resizedimg.shape"
   ]
  },
  {
   "cell_type": "code",
   "execution_count": null,
   "metadata": {},
   "outputs": [],
   "source": [
    "plt.imshow(resizedimg)"
   ]
  },
  {
   "cell_type": "code",
   "execution_count": null,
   "metadata": {},
   "outputs": [],
   "source": [
    "import os\n",
    "os.getcwd()\n",
    "# data\\Bacterial_leaf_blight\\DSC_0365.JPG\n",
    "os.listdir('data')\n",
    "os.listdir('data\\Bacterial_leaf_blight')"
   ]
  },
  {
   "cell_type": "code",
   "execution_count": null,
   "metadata": {},
   "outputs": [],
   "source": [
    "# Trnasformatiom\n",
    "class Transform:\n",
    "    def __init__(self, dirs: list[str]) -> None:\n",
    "        self.from_path = 'data'\n",
    "        self.to_path = 'processed_data'\n",
    "        self.dirs = dirs\n",
    "        self.cls = {dirs[i]: i for i in range(len(dirs))}\n",
    "        self.images_path = [\n",
    "            (f'data\\\\{dir}\\\\{img}', f'processed_data\\\\{img.split(\".\")[0]}_{self.cls[dir]}.{img.split(\".\")[1]}') for dir in self.dirs for img in os.listdir(f'data\\\\{dir}')]\n",
    "        print(len(self.images_path))\n",
    "    \n",
    "    def transform(self):\n",
    "        pass\n"
   ]
  },
  {
   "cell_type": "code",
   "execution_count": null,
   "metadata": {},
   "outputs": [],
   "source": [
    "for dir in ['Bacterial_leaf_blight','Brown_spot', 'Leaf_smut']:\n",
    "    for img in os.listdir(f'data\\\\{dir}'):\n",
    "        img_path = img.split('.')\n",
    "        img_path = img_path[0]+f'_0.'+img_path[1]\n",
    "        print((f'data\\\\{dir}\\\\{img}', f'processed_data\\\\{img_path}'))\n"
   ]
  },
  {
   "cell_type": "code",
   "execution_count": null,
   "metadata": {},
   "outputs": [],
   "source": [
    "Transform(['Bacterial_leaf_blight','Brown_spot', 'Leaf_smut'])"
   ]
  },
  {
   "cell_type": "code",
   "execution_count": null,
   "metadata": {},
   "outputs": [],
   "source": []
  }
 ],
 "metadata": {
  "interpreter": {
   "hash": "14a336a61cfaefff504b47e2b8e6e50961f0feafa7b211f8ff23081790c52144"
  },
  "kernelspec": {
   "display_name": "Python 3.9.7 64-bit",
   "language": "python",
   "name": "python3"
  },
  "language_info": {
   "codemirror_mode": {
    "name": "ipython",
    "version": 3
   },
   "file_extension": ".py",
   "mimetype": "text/x-python",
   "name": "python",
   "nbconvert_exporter": "python",
   "pygments_lexer": "ipython3",
   "version": "3.9.7"
  },
  "orig_nbformat": 4
 },
 "nbformat": 4,
 "nbformat_minor": 2
}
