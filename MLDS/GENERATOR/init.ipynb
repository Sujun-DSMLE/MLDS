{
 "cells": [
  {
   "cell_type": "markdown",
   "source": [
    "# Data Types\n",
    "* Integer = 3\n",
    "* Float = 3.34\n",
    "* String = John\n",
    "* Boolean = True/False\n",
    "* complex = 2+3j"
   ],
   "metadata": {}
  },
  {
   "cell_type": "code",
   "execution_count": null,
   "source": [
    "roll = 9\r\n",
    "roll"
   ],
   "outputs": [],
   "metadata": {}
  },
  {
   "cell_type": "code",
   "execution_count": null,
   "source": [
    "!pip install numpy"
   ],
   "outputs": [],
   "metadata": {}
  },
  {
   "cell_type": "code",
   "execution_count": null,
   "source": [
    "tem = 98.8\r\n",
    "print(tem)"
   ],
   "outputs": [],
   "metadata": {}
  },
  {
   "cell_type": "code",
   "execution_count": null,
   "source": [
    "string = \"Python\"\r\n",
    "string"
   ],
   "outputs": [],
   "metadata": {}
  },
  {
   "cell_type": "code",
   "execution_count": null,
   "source": [
    "married = False\r\n",
    "married"
   ],
   "outputs": [],
   "metadata": {}
  },
  {
   "cell_type": "code",
   "execution_count": null,
   "source": [
    "married = bool(0)\r\n",
    "married"
   ],
   "outputs": [],
   "metadata": {}
  },
  {
   "cell_type": "code",
   "execution_count": null,
   "source": [],
   "outputs": [],
   "metadata": {}
  },
  {
   "cell_type": "markdown",
   "source": [
    "# How to use print()"
   ],
   "metadata": {}
  },
  {
   "cell_type": "code",
   "execution_count": null,
   "source": [
    "print(\"hello World\")"
   ],
   "outputs": [],
   "metadata": {}
  },
  {
   "cell_type": "markdown",
   "source": [
    "# Keywords"
   ],
   "metadata": {}
  },
  {
   "cell_type": "code",
   "execution_count": null,
   "source": [
    "import keyword\r\n",
    "keyword.kwlist"
   ],
   "outputs": [],
   "metadata": {}
  },
  {
   "cell_type": "code",
   "execution_count": null,
   "source": [
    "while = 56"
   ],
   "outputs": [],
   "metadata": {}
  },
  {
   "cell_type": "markdown",
   "source": [
    "# String Formatting\r\n",
    "* .format()\r\n",
    "* f-String\r\n",
    "* place-holder"
   ],
   "metadata": {}
  },
  {
   "cell_type": "code",
   "execution_count": null,
   "source": [
    "name=input('Enter Your Name: ')\r\n",
    "age=int(input(\"Enter Your age: \"))\r\n",
    "weight=float(input(\"Enter Your weight: \"))\r\n",
    "\r\n",
    "print('Welcome '+ name)\r\n",
    "print(\"Your age :\",age)\r\n",
    "print(\"Your weight :\", weight)\r\n",
    "print(\"Hello world\")"
   ],
   "outputs": [],
   "metadata": {}
  },
  {
   "cell_type": "code",
   "execution_count": null,
   "source": [
    "print(\"Welcome {0}! Your age {1} Your Weight {2}\".format(name, age, weight))"
   ],
   "outputs": [],
   "metadata": {}
  },
  {
   "cell_type": "code",
   "execution_count": null,
   "source": [
    "print(\"Welcome {0}!\\n Your age {1}\\n Your Weight {2}\".format(name, age, weight))"
   ],
   "outputs": [],
   "metadata": {}
  },
  {
   "cell_type": "code",
   "execution_count": null,
   "source": [
    "print(f\"Welcome {name}! Your age {age} Your Weight {weight}\")"
   ],
   "outputs": [],
   "metadata": {}
  },
  {
   "cell_type": "code",
   "execution_count": null,
   "source": [
    "print(\"Welcome %s! Your age %d Your Weight %.2f\" %(name, age, weight,56))"
   ],
   "outputs": [],
   "metadata": {}
  },
  {
   "cell_type": "markdown",
   "source": [
    "# Types Of Operators\r\n",
    "* Arithmetic [+, -, *, /, %, **, //]\r\n",
    "* Conditional Operators [==, !=, <, >, <=, >=]\r\n",
    "* Logical [and, or, not]\r\n",
    "* Bitwise Operators [&, |, ~, ^, <<, >>]\r\n",
    "* Assignment Operators [=, +=, -=, *=, /=, **=, %=, //=]\r\n",
    "* Special Operators [is , is not, in]"
   ],
   "metadata": {}
  },
  {
   "cell_type": "code",
   "execution_count": null,
   "source": [
    "5+2"
   ],
   "outputs": [],
   "metadata": {}
  },
  {
   "cell_type": "code",
   "execution_count": null,
   "source": [
    "5-2"
   ],
   "outputs": [],
   "metadata": {}
  },
  {
   "cell_type": "code",
   "execution_count": null,
   "source": [
    "5*2"
   ],
   "outputs": [],
   "metadata": {}
  },
  {
   "cell_type": "code",
   "execution_count": null,
   "source": [
    "5/2"
   ],
   "outputs": [],
   "metadata": {}
  },
  {
   "cell_type": "code",
   "execution_count": null,
   "source": [
    "5//2"
   ],
   "outputs": [],
   "metadata": {}
  },
  {
   "cell_type": "code",
   "execution_count": null,
   "source": [
    "5%2"
   ],
   "outputs": [],
   "metadata": {}
  },
  {
   "cell_type": "code",
   "execution_count": null,
   "source": [
    "5**3"
   ],
   "outputs": [],
   "metadata": {}
  },
  {
   "cell_type": "code",
   "execution_count": null,
   "source": [
    "5>2"
   ],
   "outputs": [],
   "metadata": {}
  },
  {
   "cell_type": "code",
   "execution_count": null,
   "source": [
    "5 >= 5"
   ],
   "outputs": [],
   "metadata": {}
  },
  {
   "cell_type": "code",
   "execution_count": null,
   "source": [
    "5<2"
   ],
   "outputs": [],
   "metadata": {}
  },
  {
   "cell_type": "code",
   "execution_count": null,
   "source": [
    "5 <= 5"
   ],
   "outputs": [],
   "metadata": {}
  },
  {
   "cell_type": "code",
   "execution_count": null,
   "source": [
    "5 == 2"
   ],
   "outputs": [],
   "metadata": {}
  },
  {
   "cell_type": "code",
   "execution_count": null,
   "source": [
    "5 == 5"
   ],
   "outputs": [],
   "metadata": {}
  },
  {
   "cell_type": "code",
   "execution_count": null,
   "source": [
    "5 != 2"
   ],
   "outputs": [],
   "metadata": {}
  },
  {
   "cell_type": "code",
   "execution_count": null,
   "source": [],
   "outputs": [],
   "metadata": {}
  },
  {
   "cell_type": "code",
   "execution_count": null,
   "source": [
    "True and False"
   ],
   "outputs": [],
   "metadata": {}
  },
  {
   "cell_type": "code",
   "execution_count": null,
   "source": [
    "True and True"
   ],
   "outputs": [],
   "metadata": {}
  },
  {
   "cell_type": "code",
   "execution_count": null,
   "source": [
    "False and False"
   ],
   "outputs": [],
   "metadata": {}
  },
  {
   "cell_type": "code",
   "execution_count": null,
   "source": [
    "True or False"
   ],
   "outputs": [],
   "metadata": {}
  },
  {
   "cell_type": "code",
   "execution_count": null,
   "source": [
    "False or False"
   ],
   "outputs": [],
   "metadata": {}
  },
  {
   "cell_type": "code",
   "execution_count": null,
   "source": [
    "not True"
   ],
   "outputs": [],
   "metadata": {}
  },
  {
   "cell_type": "code",
   "execution_count": null,
   "source": [
    "not False"
   ],
   "outputs": [],
   "metadata": {}
  },
  {
   "cell_type": "code",
   "execution_count": null,
   "source": [
    "5 & 3\r\n",
    "# 101\r\n",
    "# 011\r\n",
    "# = 001"
   ],
   "outputs": [],
   "metadata": {}
  },
  {
   "cell_type": "code",
   "execution_count": null,
   "source": [
    "21 & 13\r\n",
    "# 10101\r\n",
    "# 01101\r\n",
    "# = 00101"
   ],
   "outputs": [],
   "metadata": {}
  },
  {
   "cell_type": "code",
   "execution_count": null,
   "source": [
    "5 | 2"
   ],
   "outputs": [],
   "metadata": {}
  },
  {
   "cell_type": "code",
   "execution_count": null,
   "source": [
    "~5"
   ],
   "outputs": [],
   "metadata": {}
  },
  {
   "cell_type": "code",
   "execution_count": null,
   "source": [
    "2<<2\r\n",
    "# 0010\r\n",
    "# 0100\r\n",
    "# 1000"
   ],
   "outputs": [],
   "metadata": {}
  },
  {
   "cell_type": "code",
   "execution_count": null,
   "source": [
    "2>>2\r\n",
    "# 0010\r\n",
    "# 0001\r\n",
    "# 1000"
   ],
   "outputs": [],
   "metadata": {}
  },
  {
   "cell_type": "code",
   "execution_count": null,
   "source": [
    "~(5^2)\r\n",
    "# 101\r\n",
    "# 010\r\n",
    "# ---\r\n",
    "# 111\r\n"
   ],
   "outputs": [],
   "metadata": {}
  },
  {
   "cell_type": "code",
   "execution_count": null,
   "source": [
    "a = 4\r\n",
    "b = 2\r\n",
    "a+b"
   ],
   "outputs": [],
   "metadata": {}
  },
  {
   "cell_type": "code",
   "execution_count": null,
   "source": [
    "# a = a+b\r\n",
    "a += b\r\n",
    "a"
   ],
   "outputs": [],
   "metadata": {}
  },
  {
   "cell_type": "code",
   "execution_count": null,
   "source": [
    "a *= b\r\n",
    "a"
   ],
   "outputs": [],
   "metadata": {}
  },
  {
   "cell_type": "code",
   "execution_count": null,
   "source": [
    "# in, is , not in\r\n",
    "\"h\" in \"Happy\""
   ],
   "outputs": [],
   "metadata": {}
  },
  {
   "cell_type": "code",
   "execution_count": null,
   "source": [
    "\"C\" not in \"Happy\""
   ],
   "outputs": [],
   "metadata": {}
  },
  {
   "cell_type": "code",
   "execution_count": null,
   "source": [
    "a = 2\r\n",
    "b = 2\r\n",
    "a is b"
   ],
   "outputs": [],
   "metadata": {}
  },
  {
   "cell_type": "markdown",
   "source": [],
   "metadata": {}
  },
  {
   "cell_type": "code",
   "execution_count": null,
   "source": [],
   "outputs": [],
   "metadata": {}
  },
  {
   "cell_type": "markdown",
   "source": [
    "# Conditional Statements\n",
    "* if\n",
    "* elif\n",
    "* else"
   ],
   "metadata": {}
  },
  {
   "cell_type": "code",
   "execution_count": null,
   "source": [
    "age = int(input(\"Enter your age: \"))\r\n",
    "if (age > 17) and (age<60):\r\n",
    "    print(\"You are eligible for Major Acc!\")\r\n",
    "else:\r\n",
    "    print(\"Not eligible for Major Acc\")"
   ],
   "outputs": [],
   "metadata": {}
  },
  {
   "cell_type": "code",
   "execution_count": null,
   "source": [
    "age = 21\r\n",
    "salary = 10000\r\n",
    "if (age > 17) and (age<60):\r\n",
    "    if salary >= 20000:\r\n",
    "        print(\"Gold Card\")\r\n",
    "    else:\r\n",
    "        print(\"Platinum Card\")\r\n",
    "    print(\"You are eligible for Major Acc!\")\r\n",
    "elif (age > 12) and (age<18):\r\n",
    "    print(\" eligible for Minor Acc\")\r\n",
    "else:\r\n",
    "    print(\"Not eligible for Any Acc\")"
   ],
   "outputs": [],
   "metadata": {}
  },
  {
   "cell_type": "code",
   "execution_count": null,
   "source": [
    "is_raining = input(\"Raining? yes/no \").lower()\r\n",
    "if is_raining == \"yes\":\r\n",
    "    print(\"Want to eat hotchpotch!\")\r\n",
    "else:\r\n",
    "    print(\"Ice Cream!\")"
   ],
   "outputs": [],
   "metadata": {}
  },
  {
   "cell_type": "code",
   "execution_count": null,
   "source": [
    "# Create a Program to give grade to student's score\r\n",
    "#  AA(91-100),A+(76-90), A(61-75), B(46-61),C(31-45),D\r\n",
    "grade = 1\r\n",
    "total = 0\r\n",
    "while grade <= 6:\r\n",
    "    g =  int(input(\"Enter your grade: \"))\r\n",
    "    if g > 100:\r\n",
    "        print(\"Invaid Grade\")\r\n",
    "        continue\r\n",
    "    total += g\r\n",
    "    grade += 1\r\n",
    "grade = total//6\r\n",
    "if (grade>100):\r\n",
    "    print(\"Invalid Grade!\")\r\n",
    "elif(grade >= 91) and (grade<=100):\r\n",
    "    print(f\"{grade} AA\")\r\n",
    "elif (grade>=76) and (grade<=90):\r\n",
    "    print(f\"{grade} A+\")\r\n",
    "elif (grade>=61) and (grade<=75):\r\n",
    "    print(f\"{grade} A\")\r\n",
    "elif (grade>=46) and (grade<=61):\r\n",
    "    print(f\"{grade} B\")\r\n",
    "elif (grade>=31) and (grade<=45):\r\n",
    "    print(f\"{grade}C\")\r\n",
    "else:\r\n",
    "    print(f\"{grade}Failed! :(\")"
   ],
   "outputs": [],
   "metadata": {}
  },
  {
   "cell_type": "code",
   "execution_count": null,
   "source": [],
   "outputs": [],
   "metadata": {}
  },
  {
   "cell_type": "markdown",
   "source": [
    "# While Loop"
   ],
   "metadata": {}
  },
  {
   "cell_type": "code",
   "execution_count": null,
   "source": [
    "low = 1\r\n",
    "up = 5\r\n",
    "\r\n",
    "while low <= up:\r\n",
    "    print(low)\r\n",
    "    low = low + 1"
   ],
   "outputs": [],
   "metadata": {}
  },
  {
   "cell_type": "code",
   "execution_count": null,
   "source": [
    "low = 1\r\n",
    "up = 5\r\n",
    "\r\n",
    "while low <= up:\r\n",
    "    print(low)\r\n",
    "    low += 1"
   ],
   "outputs": [],
   "metadata": {}
  },
  {
   "cell_type": "code",
   "execution_count": null,
   "source": [
    "low = 1\r\n",
    "up = 5\r\n",
    "\r\n",
    "while low <= up:\r\n",
    "    if low%2 == 0:\r\n",
    "        print(low)\r\n",
    "    low += 2"
   ],
   "outputs": [],
   "metadata": {}
  },
  {
   "cell_type": "code",
   "execution_count": null,
   "source": [
    "low = 1\r\n",
    "up = 5\r\n",
    "\r\n",
    "while low <= up:\r\n",
    "    if low%2 != 0:\r\n",
    "        print(low)\r\n",
    "    low += 1"
   ],
   "outputs": [],
   "metadata": {}
  },
  {
   "cell_type": "code",
   "execution_count": null,
   "source": [
    "word = \"Python\"\r\n",
    "l = len(word)\r\n",
    "word[1:5:3]"
   ],
   "outputs": [],
   "metadata": {}
  },
  {
   "cell_type": "code",
   "execution_count": null,
   "source": [
    "word = \"Python\"\r\n",
    "l = len(word)\r\n",
    "print(l)\r\n",
    "index = 0\r\n",
    "while index <= l-1:\r\n",
    "    # word[0] word[1]  word[2]\r\n",
    "    print(word[index], end=\"\") \r\n",
    "    index += 1"
   ],
   "outputs": [],
   "metadata": {}
  },
  {
   "cell_type": "markdown",
   "source": [
    "# For Loop"
   ],
   "metadata": {}
  },
  {
   "cell_type": "code",
   "execution_count": null,
   "source": [
    "list(range(1,6))"
   ],
   "outputs": [],
   "metadata": {}
  },
  {
   "cell_type": "code",
   "execution_count": null,
   "source": [
    "for num in range(1,6):\r\n",
    "    if num%2 ==0:\r\n",
    "        print(num)"
   ],
   "outputs": [],
   "metadata": {}
  },
  {
   "cell_type": "code",
   "execution_count": null,
   "source": [
    "for num in range(1,6,2):\r\n",
    "    print(num)"
   ],
   "outputs": [],
   "metadata": {}
  },
  {
   "cell_type": "code",
   "execution_count": null,
   "source": [
    "for num in range(5,0,-1):\r\n",
    "    print(num)"
   ],
   "outputs": [],
   "metadata": {}
  },
  {
   "cell_type": "code",
   "execution_count": null,
   "source": [
    "word = \"Python\"\r\n",
    "word[::-1]"
   ],
   "outputs": [],
   "metadata": {}
  },
  {
   "cell_type": "code",
   "execution_count": null,
   "source": [
    "for alpha in \"Python\"[::-1][:3]:\r\n",
    "    print(alpha)"
   ],
   "outputs": [],
   "metadata": {}
  },
  {
   "cell_type": "code",
   "execution_count": null,
   "source": [
    "for alpha in \"Python\":\r\n",
    "    if alpha.isupper():\r\n",
    "        print(alpha)"
   ],
   "outputs": [],
   "metadata": {}
  },
  {
   "cell_type": "code",
   "execution_count": null,
   "source": [
    "\"Python\".lower()"
   ],
   "outputs": [],
   "metadata": {}
  },
  {
   "cell_type": "code",
   "execution_count": null,
   "source": [
    "\"Python\".upper()"
   ],
   "outputs": [],
   "metadata": {}
  },
  {
   "cell_type": "code",
   "execution_count": null,
   "source": [
    "for alpha in \"Python\":\r\n",
    "    if alpha == \"t\":\r\n",
    "        print(alpha.upper(),end='')\r\n",
    "    else:\r\n",
    "        print(alpha, end='')"
   ],
   "outputs": [],
   "metadata": {}
  },
  {
   "cell_type": "code",
   "execution_count": null,
   "source": [],
   "outputs": [],
   "metadata": {}
  },
  {
   "cell_type": "markdown",
   "source": [
    "# Built-in Data Structure"
   ],
   "metadata": {}
  },
  {
   "cell_type": "markdown",
   "source": [
    "* List\\[]\r\n",
    "* Tuple()\r\n",
    "* Set {}\r\n",
    "* Dictionary{key:Value}"
   ],
   "metadata": {}
  },
  {
   "cell_type": "markdown",
   "source": [
    "## List"
   ],
   "metadata": {}
  },
  {
   "cell_type": "code",
   "execution_count": null,
   "source": [
    "list1 = [1,2,3,4,5,6,5,8,9, True, \"Python\"]\r\n",
    "list1"
   ],
   "outputs": [],
   "metadata": {}
  },
  {
   "cell_type": "code",
   "execution_count": null,
   "source": [
    "list1[3:6]"
   ],
   "outputs": [],
   "metadata": {}
  },
  {
   "cell_type": "code",
   "execution_count": null,
   "source": [
    "list1[3:6:2]"
   ],
   "outputs": [],
   "metadata": {}
  },
  {
   "cell_type": "code",
   "execution_count": null,
   "source": [
    "list1.remove(5)\r\n",
    "list1.index(5)"
   ],
   "outputs": [],
   "metadata": {}
  },
  {
   "cell_type": "code",
   "execution_count": null,
   "source": [
    "len(list1)-1"
   ],
   "outputs": [],
   "metadata": {}
  },
  {
   "cell_type": "code",
   "execution_count": null,
   "source": [
    "for el in list1:\r\n",
    "    print(el)"
   ],
   "outputs": [],
   "metadata": {}
  },
  {
   "cell_type": "code",
   "execution_count": null,
   "source": [
    "list2 = [8,5,6,3,4,6]\r\n",
    "list2"
   ],
   "outputs": [],
   "metadata": {}
  },
  {
   "cell_type": "code",
   "execution_count": null,
   "source": [
    "list2.append(8)\r\n",
    "list2"
   ],
   "outputs": [],
   "metadata": {}
  },
  {
   "cell_type": "code",
   "execution_count": null,
   "source": [
    "list2.insert(0, 9)\r\n",
    "list2"
   ],
   "outputs": [],
   "metadata": {}
  },
  {
   "cell_type": "code",
   "execution_count": null,
   "source": [
    "list2[0] = 1\r\n",
    "list2"
   ],
   "outputs": [],
   "metadata": {}
  },
  {
   "cell_type": "code",
   "execution_count": null,
   "source": [
    "del list2[4]"
   ],
   "outputs": [],
   "metadata": {}
  },
  {
   "cell_type": "code",
   "execution_count": null,
   "source": [
    "list2"
   ],
   "outputs": [],
   "metadata": {}
  },
  {
   "cell_type": "code",
   "execution_count": null,
   "source": [
    "list2.sort()\r\n",
    "list2"
   ],
   "outputs": [],
   "metadata": {}
  },
  {
   "cell_type": "code",
   "execution_count": null,
   "source": [
    "list2.sort(reverse=True)\r\n",
    "list2"
   ],
   "outputs": [],
   "metadata": {}
  },
  {
   "cell_type": "code",
   "execution_count": null,
   "source": [
    "list2.extend([2,4,6])\r\n",
    "list2"
   ],
   "outputs": [],
   "metadata": {}
  },
  {
   "cell_type": "code",
   "execution_count": null,
   "source": [
    "list2.count(6)"
   ],
   "outputs": [],
   "metadata": {}
  },
  {
   "cell_type": "code",
   "execution_count": null,
   "source": [
    "list1+list2"
   ],
   "outputs": [],
   "metadata": {}
  },
  {
   "cell_type": "code",
   "execution_count": null,
   "source": [
    "list1, list2 = list2, list1\r\n",
    "list1"
   ],
   "outputs": [],
   "metadata": {}
  },
  {
   "cell_type": "code",
   "execution_count": null,
   "source": [
    "list(range(1,1000))"
   ],
   "outputs": [],
   "metadata": {}
  },
  {
   "cell_type": "code",
   "execution_count": null,
   "source": [
    "#Problem 2\r\n",
    "# Write program for a smart door\r\n",
    "# opendoor@2021\r\n",
    "# Which will take password and will try to match with actual password\r\n",
    "# if matches then door will opwn\r\n",
    "# other wise it will show enter password again\r\n",
    "# maximum try will be 3, after that door will be locked.\r\n"
   ],
   "outputs": [],
   "metadata": {}
  },
  {
   "cell_type": "markdown",
   "source": [
    "## Tuple"
   ],
   "metadata": {}
  },
  {
   "cell_type": "code",
   "execution_count": null,
   "source": [
    "tup = (1, True, \"Python\")\r\n",
    "type(tup)"
   ],
   "outputs": [],
   "metadata": {}
  },
  {
   "cell_type": "code",
   "execution_count": null,
   "source": [
    "tup[2]"
   ],
   "outputs": [],
   "metadata": {}
  },
  {
   "cell_type": "code",
   "execution_count": null,
   "source": [
    "tup[2] = \"Java\""
   ],
   "outputs": [],
   "metadata": {}
  },
  {
   "cell_type": "code",
   "execution_count": null,
   "source": [
    "del tup[2]"
   ],
   "outputs": [],
   "metadata": {}
  },
  {
   "cell_type": "code",
   "execution_count": null,
   "source": [
    "l = list(tup)\r\n",
    "del l[2]"
   ],
   "outputs": [],
   "metadata": {}
  },
  {
   "cell_type": "code",
   "execution_count": null,
   "source": [
    "l"
   ],
   "outputs": [],
   "metadata": {}
  },
  {
   "cell_type": "code",
   "execution_count": null,
   "source": [
    "del tup"
   ],
   "outputs": [],
   "metadata": {}
  },
  {
   "cell_type": "code",
   "execution_count": null,
   "source": [
    "tup"
   ],
   "outputs": [],
   "metadata": {}
  },
  {
   "cell_type": "code",
   "execution_count": null,
   "source": [
    "list(tup)"
   ],
   "outputs": [],
   "metadata": {}
  },
  {
   "cell_type": "markdown",
   "source": [
    "## Set"
   ],
   "metadata": {}
  },
  {
   "cell_type": "code",
   "execution_count": null,
   "source": [
    "sett = {1,1,2,3,4}\r\n",
    "sett"
   ],
   "outputs": [],
   "metadata": {}
  },
  {
   "cell_type": "code",
   "execution_count": null,
   "source": [
    "sett2 = {2,3,4,5,6} \r\n",
    "sett2"
   ],
   "outputs": [],
   "metadata": {}
  },
  {
   "cell_type": "code",
   "execution_count": null,
   "source": [
    "sett[0]"
   ],
   "outputs": [],
   "metadata": {}
  },
  {
   "cell_type": "code",
   "execution_count": null,
   "source": [
    "for num in sett:\r\n",
    "    print(num)"
   ],
   "outputs": [],
   "metadata": {}
  },
  {
   "cell_type": "code",
   "execution_count": null,
   "source": [
    "sett.add(9)\r\n",
    "sett"
   ],
   "outputs": [],
   "metadata": {}
  },
  {
   "cell_type": "code",
   "execution_count": null,
   "source": [
    "sett.union(sett2)"
   ],
   "outputs": [],
   "metadata": {}
  },
  {
   "cell_type": "code",
   "execution_count": null,
   "source": [
    "sett.intersection(sett2)"
   ],
   "outputs": [],
   "metadata": {}
  },
  {
   "cell_type": "code",
   "execution_count": null,
   "source": [],
   "outputs": [],
   "metadata": {}
  },
  {
   "cell_type": "code",
   "execution_count": null,
   "source": [],
   "outputs": [],
   "metadata": {}
  },
  {
   "cell_type": "markdown",
   "source": [
    "## Dictionary"
   ],
   "metadata": {}
  },
  {
   "cell_type": "code",
   "execution_count": null,
   "source": [
    "d = {1:\"John\",2:\"Alexa\", 3:\"Johny\"}\r\n",
    "d"
   ],
   "outputs": [],
   "metadata": {}
  },
  {
   "cell_type": "code",
   "execution_count": null,
   "source": [
    "print(d[2])"
   ],
   "outputs": [],
   "metadata": {}
  },
  {
   "cell_type": "code",
   "execution_count": null,
   "source": [
    "ages = {\"John\":23, \"Alexa\":22}\r\n",
    "ages"
   ],
   "outputs": [],
   "metadata": {}
  },
  {
   "cell_type": "code",
   "execution_count": null,
   "source": [
    "ages[\"Alexa\"]"
   ],
   "outputs": [],
   "metadata": {}
  },
  {
   "cell_type": "code",
   "execution_count": null,
   "source": [
    "ages[\"Alexa\"] = 23\r\n",
    "ages"
   ],
   "outputs": [],
   "metadata": {}
  },
  {
   "cell_type": "code",
   "execution_count": null,
   "source": [
    "scores = {\"John\":[[23,56],98], \"Alexa\":[22,98,77]}\r\n",
    "scores"
   ],
   "outputs": [],
   "metadata": {}
  },
  {
   "cell_type": "code",
   "execution_count": null,
   "source": [
    "scores[\"Joh\"]"
   ],
   "outputs": [],
   "metadata": {}
  },
  {
   "cell_type": "code",
   "execution_count": null,
   "source": [
    "scores.get(\"Joh\")"
   ],
   "outputs": [],
   "metadata": {}
  },
  {
   "cell_type": "code",
   "execution_count": null,
   "source": [
    "scores.keys()"
   ],
   "outputs": [],
   "metadata": {}
  },
  {
   "cell_type": "code",
   "execution_count": null,
   "source": [
    "scores.values()"
   ],
   "outputs": [],
   "metadata": {}
  },
  {
   "cell_type": "code",
   "execution_count": null,
   "source": [
    "scores.items()"
   ],
   "outputs": [],
   "metadata": {}
  },
  {
   "cell_type": "code",
   "execution_count": null,
   "source": [
    "for key, val in scores.items():\r\n",
    "    print(key, val)"
   ],
   "outputs": [],
   "metadata": {}
  },
  {
   "cell_type": "code",
   "execution_count": null,
   "source": [
    "for val in scores.values():\r\n",
    "    print(val)"
   ],
   "outputs": [],
   "metadata": {}
  },
  {
   "cell_type": "code",
   "execution_count": null,
   "source": [
    "for key in scores.keys():\r\n",
    "    print(key)"
   ],
   "outputs": [],
   "metadata": {}
  },
  {
   "cell_type": "code",
   "execution_count": null,
   "source": [
    "for val in scores:\r\n",
    "    print(val)"
   ],
   "outputs": [],
   "metadata": {}
  },
  {
   "cell_type": "markdown",
   "source": [
    "# Function"
   ],
   "metadata": {}
  },
  {
   "cell_type": "code",
   "execution_count": null,
   "source": [
    "def create_acc():\r\n",
    "    print(\"Verifying Account!\")\r\n",
    "    print(\"Creating Account!\")\r\n",
    "    print(\"Created Account!\")"
   ],
   "outputs": [],
   "metadata": {}
  },
  {
   "cell_type": "code",
   "execution_count": null,
   "source": [
    "create_acc()"
   ],
   "outputs": [],
   "metadata": {}
  },
  {
   "cell_type": "code",
   "execution_count": null,
   "source": [
    "def calc_grade(grade):\r\n",
    "    if (grade>100):\r\n",
    "        print(\"Invalid Grade!\")\r\n",
    "    elif(grade >= 91) and (grade<=100):\r\n",
    "        print(f\"{grade} AA\")\r\n",
    "    elif (grade>=76) and (grade<=90):\r\n",
    "        print(f\"{grade} A+\")\r\n",
    "    elif (grade>=61) and (grade<=75):\r\n",
    "        print(f\"{grade} A\")\r\n",
    "    elif (grade>=46) and (grade<=61):\r\n",
    "        print(f\"{grade} B\")\r\n",
    "    elif (grade>=31) and (grade<=45):\r\n",
    "        print(f\"{grade}C\")\r\n",
    "    else:\r\n",
    "        print(f\"{grade}Failed! :(\")"
   ],
   "outputs": [],
   "metadata": {}
  },
  {
   "cell_type": "code",
   "execution_count": null,
   "source": [
    "calc_grade(78.5)"
   ],
   "outputs": [],
   "metadata": {}
  },
  {
   "cell_type": "code",
   "execution_count": null,
   "source": [
    "calc_grade(88.5)"
   ],
   "outputs": [],
   "metadata": {}
  },
  {
   "cell_type": "code",
   "execution_count": null,
   "source": [
    "def calc_grade(sub1, sub2, sub3):\r\n",
    "    grade = (sub1 + sub2 + sub3) / 3\r\n",
    "    if (grade>100):\r\n",
    "        print(\"Invalid Grade!\")\r\n",
    "    elif(grade >= 91) and (grade<=100):\r\n",
    "        print(f\"{grade} AA\")\r\n",
    "    elif (grade>=76) and (grade<=90):\r\n",
    "        print(f\"{grade} A+\")\r\n",
    "    elif (grade>=61) and (grade<=75):\r\n",
    "        print(f\"{grade} A\")\r\n",
    "    elif (grade>=46) and (grade<=61):\r\n",
    "        print(f\"{grade} B\")\r\n",
    "    elif (grade>=31) and (grade<=45):\r\n",
    "        print(f\"{grade}C\")\r\n",
    "    else:\r\n",
    "        print(f\"{grade}Failed! :(\")"
   ],
   "outputs": [],
   "metadata": {}
  },
  {
   "cell_type": "code",
   "execution_count": null,
   "source": [
    "calc_grade(45, 67, 98)"
   ],
   "outputs": [],
   "metadata": {}
  },
  {
   "cell_type": "code",
   "execution_count": null,
   "source": [
    "def calc_grade(sub1,sub4, sub3, sub2= 60):\r\n",
    "    grade = int((sub1 + sub2 + sub3+ sub4) / 4)\r\n",
    "    if (grade>100):\r\n",
    "        print(\"Invalid Grade!\")\r\n",
    "    elif(grade >= 91) and (grade<=100):\r\n",
    "        print(f\"{grade} AA\")\r\n",
    "    elif (grade>=76) and (grade<=90):\r\n",
    "        print(f\"{grade} A+\")\r\n",
    "    elif (grade>=61) and (grade<=75):\r\n",
    "        print(f\"{grade} A\")\r\n",
    "    elif (grade>=46) and (grade<=61):\r\n",
    "        print(f\"{grade} B\")\r\n",
    "    elif (grade>=31) and (grade<=45):\r\n",
    "        print(f\"{grade}C\")\r\n",
    "    else:\r\n",
    "        print(f\"{grade}Failed! :(\")"
   ],
   "outputs": [],
   "metadata": {}
  },
  {
   "cell_type": "code",
   "execution_count": null,
   "source": [
    "calc_grade(65,78,98,56)"
   ],
   "outputs": [],
   "metadata": {}
  },
  {
   "cell_type": "markdown",
   "source": [
    "## Dynamic args\r\n",
    "## Dynamic kwargs"
   ],
   "metadata": {}
  },
  {
   "cell_type": "code",
   "execution_count": null,
   "source": [
    "def average(n1,n2,n3):\r\n",
    "    summ = n1+n2+n3\r\n",
    "    return summ/3\r\n",
    "var = average(2,3,4) \r\n",
    "var"
   ],
   "outputs": [],
   "metadata": {}
  },
  {
   "cell_type": "code",
   "execution_count": null,
   "source": [
    "var"
   ],
   "outputs": [],
   "metadata": {}
  },
  {
   "cell_type": "code",
   "execution_count": null,
   "source": [
    "def average(nums):\r\n",
    "    summ = 0\r\n",
    "    for num in nums:\r\n",
    "        summ += num\r\n",
    "    return summ/len(nums)\r\n",
    "\r\n",
    "average([2,6,3,4])"
   ],
   "outputs": [],
   "metadata": {}
  },
  {
   "cell_type": "code",
   "execution_count": null,
   "source": [
    "n = int(input(\"No of Values:\"))\r\n",
    "nums = []\r\n",
    "for i in range(n):\r\n",
    "    nums.append(int(input(\"Enter Number: \")))"
   ],
   "outputs": [],
   "metadata": {}
  },
  {
   "cell_type": "code",
   "execution_count": null,
   "source": [
    "average(nums)"
   ],
   "outputs": [],
   "metadata": {}
  },
  {
   "cell_type": "code",
   "execution_count": null,
   "source": [
    "def average(*nums):\r\n",
    "    print(type(nums))\r\n",
    "    summ = 0\r\n",
    "    for num in nums:\r\n",
    "        summ += num\r\n",
    "    return summ/len(nums)\r\n",
    "\r\n",
    "average(2,6,3,5,6,7,8,4)"
   ],
   "outputs": [],
   "metadata": {}
  },
  {
   "cell_type": "code",
   "execution_count": null,
   "source": [
    "def createAcc(**info):\r\n",
    "    print(type(info))\r\n",
    "    print(info)\r\n",
    "    for key, value in info.items():\r\n",
    "       print(key, value)\r\n",
    "    return"
   ],
   "outputs": [],
   "metadata": {}
  },
  {
   "cell_type": "code",
   "execution_count": null,
   "source": [
    "key = ('name', 'John')\r\n",
    "key"
   ],
   "outputs": [],
   "metadata": {}
  },
  {
   "cell_type": "code",
   "execution_count": null,
   "source": [
    "key, value = ('name', 'John')\r\n",
    "print(key, value)"
   ],
   "outputs": [],
   "metadata": {}
  },
  {
   "cell_type": "code",
   "execution_count": null,
   "source": [
    "createAcc(name=\"John\", age=23, gender= \"Male\")"
   ],
   "outputs": [],
   "metadata": {}
  },
  {
   "cell_type": "code",
   "execution_count": null,
   "source": [
    "def createAcc(info):\r\n",
    "    print(type(info))\r\n",
    "    print(info)\r\n",
    "    for key, value in info.items():\r\n",
    "       if value == \"Male\":\r\n",
    "          continue\r\n",
    "       print(key, value)\r\n",
    "    return"
   ],
   "outputs": [],
   "metadata": {}
  },
  {
   "cell_type": "code",
   "execution_count": null,
   "source": [
    "createAcc({'name': 'John', 'age': 23, 'gender': 'Male','ag1': 23})"
   ],
   "outputs": [],
   "metadata": {}
  },
  {
   "cell_type": "code",
   "execution_count": null,
   "source": [],
   "outputs": [],
   "metadata": {}
  },
  {
   "cell_type": "markdown",
   "source": [
    "# Lambda Function"
   ],
   "metadata": {}
  },
  {
   "cell_type": "code",
   "execution_count": null,
   "source": [
    "def is_even(num):\r\n",
    "    if num%2 == 0:\r\n",
    "        return \"Even\"\r\n",
    "    else:\r\n",
    "        return \"Odd\"\r\n",
    "var = is_even(3)\r\n",
    "var"
   ],
   "outputs": [],
   "metadata": {}
  },
  {
   "cell_type": "code",
   "execution_count": null,
   "source": [
    "is_even = lambda num: \"Even\" if num%2 == 0 else \"Odd\""
   ],
   "outputs": [],
   "metadata": {}
  },
  {
   "cell_type": "code",
   "execution_count": null,
   "source": [
    "is_even(3)"
   ],
   "outputs": [],
   "metadata": {}
  },
  {
   "cell_type": "code",
   "execution_count": null,
   "source": [
    "add = lambda num1, num2: num1+num2"
   ],
   "outputs": [],
   "metadata": {}
  },
  {
   "cell_type": "code",
   "execution_count": null,
   "source": [
    "add(2,3)"
   ],
   "outputs": [],
   "metadata": {}
  },
  {
   "cell_type": "code",
   "execution_count": null,
   "source": [
    "# map\r\n",
    "is_even = lambda num: \"Even\" if num%2 == 0 else \"Odd\"\r\n",
    "list(map(is_even, [2,3,4,5,6,7,8,9]))"
   ],
   "outputs": [],
   "metadata": {}
  },
  {
   "cell_type": "code",
   "execution_count": null,
   "source": [
    "list(map(lambda num: \"Even\" if num%2 == 0 else \"Odd\", [2,3,4,5,6,7,8,9]))"
   ],
   "outputs": [],
   "metadata": {}
  },
  {
   "cell_type": "code",
   "execution_count": null,
   "source": [
    "# filter\r\n",
    "is_even = lambda num: True if num%2 == 0 else False\r\n",
    "list(filter(is_even, [2,3,4,5,6,7,8,9]))"
   ],
   "outputs": [],
   "metadata": {}
  },
  {
   "cell_type": "code",
   "execution_count": null,
   "source": [
    "is_odd = lambda num: False if num%2 == 0 else True\r\n",
    "list(filter(is_odd, [2,3,4,5,6,7,8,9]))"
   ],
   "outputs": [],
   "metadata": {}
  },
  {
   "cell_type": "code",
   "execution_count": null,
   "source": [
    "is_odd = lambda num: \"Even\" if num%2 == 0 else \"Odd\"\r\n",
    "list(filter(is_odd, [2,3,4,5,6,7,8,9]))"
   ],
   "outputs": [],
   "metadata": {}
  },
  {
   "cell_type": "code",
   "execution_count": null,
   "source": [
    "# Problem\r\n",
    "key = \"opendoor@2021\"\r\n",
    "noOftry = 0\r\n",
    "\r\n",
    "while True:\r\n",
    "    password = input(\"Enter Password: \")\r\n",
    "    if password == key:\r\n",
    "        print(\"Door Opening!\")\r\n",
    "        break\r\n",
    "    else:\r\n",
    "        noOftry += 1\r\n",
    "        if noOftry == 3:\r\n",
    "            print(\"Door Locked, You are Robber\")\r\n",
    "            break\r\n",
    "        print(\"Wrong Password,Try again\")"
   ],
   "outputs": [],
   "metadata": {}
  },
  {
   "cell_type": "markdown",
   "source": [
    "# Generator"
   ],
   "metadata": {}
  },
  {
   "cell_type": "code",
   "execution_count": null,
   "source": [
    "def square(*nums):\r\n",
    "    for num in nums:\r\n",
    "        return num**2"
   ],
   "outputs": [],
   "metadata": {}
  },
  {
   "cell_type": "code",
   "execution_count": null,
   "source": [
    "def square(*nums):\r\n",
    "    sqs = []\r\n",
    "    for num in nums:\r\n",
    "        sqs.append(num**2)\r\n",
    "    return sqs"
   ],
   "outputs": [],
   "metadata": {}
  },
  {
   "cell_type": "code",
   "execution_count": null,
   "source": [
    "square(2,3,4,5,6,7,8,9)"
   ],
   "outputs": [],
   "metadata": {}
  },
  {
   "cell_type": "code",
   "execution_count": null,
   "source": [
    "def square(*nums):\r\n",
    "    for num in nums:\r\n",
    "        yield num**2,\"Pause!\"\r\n",
    "        print(\"Resuming....\")"
   ],
   "outputs": [],
   "metadata": {}
  },
  {
   "cell_type": "code",
   "execution_count": null,
   "source": [
    "def square(*nums):\r\n",
    "    index = 0\r\n",
    "    while index < len(nums):\r\n",
    "        yield nums[index]**2,nums[index+1]**2,\"Pause!\"\r\n",
    "        index += 2\r\n",
    "        print(\"Resuming....\")"
   ],
   "outputs": [],
   "metadata": {}
  },
  {
   "cell_type": "code",
   "execution_count": null,
   "source": [
    "def square(*nums):\r\n",
    "    for index in range(0, len(nums), 3):\r\n",
    "        yield [nums[index]**2, nums[index+1]**2, nums[index+2]**2, \"Pause!\"]\r\n",
    "        print(\"Resuming....\")\r\n"
   ],
   "outputs": [],
   "metadata": {}
  },
  {
   "cell_type": "code",
   "execution_count": null,
   "source": [
    "sq = square(2,3,4,5,6,7,8,9,8)"
   ],
   "outputs": [],
   "metadata": {}
  },
  {
   "cell_type": "code",
   "execution_count": null,
   "source": [
    "next(sq)"
   ],
   "outputs": [],
   "metadata": {}
  },
  {
   "cell_type": "markdown",
   "source": [
    "# Decorator"
   ],
   "metadata": {}
  },
  {
   "cell_type": "code",
   "execution_count": null,
   "source": [
    "def verify(func):\r\n",
    "    print(\"Veryfying and Decorating...\")\r\n",
    "    func()\r\n",
    "\r\n",
    "@verify\r\n",
    "def create_acc():\r\n",
    "    print(\"Creating Account...\")\r\n",
    "\r\n",
    "@verify\r\n",
    "def delete_acc():\r\n",
    "    print(\"deleting Account...\")"
   ],
   "outputs": [],
   "metadata": {}
  },
  {
   "cell_type": "code",
   "execution_count": 83,
   "source": [
    "'''\r\n",
    "*\r\n",
    "**\r\n",
    "***\r\n",
    "'''\r\n",
    "for row in range(1,6):\r\n",
    "    for col in range(row):\r\n",
    "        print(\"*\", end='')\r\n",
    "    print()\r\n"
   ],
   "outputs": [
    {
     "output_type": "stream",
     "name": "stdout",
     "text": [
      "*\n",
      "**\n",
      "***\n",
      "****\n",
      "*****\n"
     ]
    }
   ],
   "metadata": {}
  },
  {
   "cell_type": "code",
   "execution_count": 84,
   "source": [
    "for row in range(5,0,-1):\r\n",
    "    for col in range(row):\r\n",
    "        print(\"*\", end='')\r\n",
    "    print()"
   ],
   "outputs": [
    {
     "output_type": "stream",
     "name": "stdout",
     "text": [
      "*****\n",
      "****\n",
      "***\n",
      "**\n",
      "*\n"
     ]
    }
   ],
   "metadata": {}
  },
  {
   "cell_type": "code",
   "execution_count": 94,
   "source": [
    "\"\"\"\r\n",
    "1\r\n",
    "12\r\n",
    "123\r\n",
    "1234\r\n",
    "12345\r\n",
    "\"\"\"\r\n",
    "\r\n",
    "for row in range(1,6):\r\n",
    "    for col in range(1,row+1):\r\n",
    "        print(col, end='')\r\n",
    "    print()"
   ],
   "outputs": [
    {
     "output_type": "stream",
     "name": "stdout",
     "text": [
      "1\n",
      "22\n",
      "333\n",
      "4444\n",
      "55555\n"
     ]
    }
   ],
   "metadata": {}
  },
  {
   "cell_type": "code",
   "execution_count": null,
   "source": [],
   "outputs": [],
   "metadata": {}
  },
  {
   "cell_type": "code",
   "execution_count": null,
   "source": [],
   "outputs": [],
   "metadata": {}
  },
  {
   "cell_type": "code",
   "execution_count": null,
   "source": [],
   "outputs": [],
   "metadata": {}
  },
  {
   "cell_type": "code",
   "execution_count": null,
   "source": [],
   "outputs": [],
   "metadata": {}
  }
 ],
 "metadata": {
  "interpreter": {
   "hash": "b3a1bebe63c7b2a053642fa9fe52396479a14cfcd0c0746e926f464b03352c88"
  },
  "kernelspec": {
   "name": "python3",
   "display_name": "Python 3.9.5 64-bit"
  },
  "language_info": {
   "codemirror_mode": {
    "name": "ipython",
    "version": 3
   },
   "file_extension": ".py",
   "mimetype": "text/x-python",
   "name": "python",
   "nbconvert_exporter": "python",
   "pygments_lexer": "ipython3",
   "version": "3.9.5"
  },
  "orig_nbformat": 4
 },
 "nbformat": 4,
 "nbformat_minor": 2
}