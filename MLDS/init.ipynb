{
  "nbformat": 4,
  "nbformat_minor": 0,
  "metadata": {
    "interpreter": {
      "hash": "5e02d0efff813a9368c354e505ea65821711dca306094a6f79d155d3e22f7a88"
    },
    "kernelspec": {
      "name": "python3",
      "display_name": "Python 3.9.5 64-bit"
    },
    "language_info": {
      "codemirror_mode": {
        "name": "ipython",
        "version": 3
      },
      "file_extension": ".py",
      "mimetype": "text/x-python",
      "name": "python",
      "nbconvert_exporter": "python",
      "pygments_lexer": "ipython3",
      "version": "3.9.5"
    },
    "orig_nbformat": 4,
    "colab": {
      "name": "init.ipynb",
      "provenance": [],
      "collapsed_sections": [
        "rnWgOtkd2YdD",
        "mJOOju3A2YdX",
        "ROBGcUJI2YdZ",
        "7CFmOPuX2Yda",
        "I4tIJHu42Ydb",
        "PGU-55cU2Ydc",
        "7h7Imxga2Ydd",
        "RHftiTJp2Yde",
        "8luRvqL12Ydf",
        "i_AD-Lzh2Ydf",
        "JD2HtkN-2Ydg"
      ]
    }
  },
  "cells": [
    {
      "cell_type": "markdown",
      "metadata": {
        "id": "m2EGn6B32Yc4"
      },
      "source": [
        "# Data Types\n",
        "* Integer = 3\n",
        "* Float = 3.34\n",
        "* String = John\n",
        "* Boolean = True/False\n",
        "* complex = 2+3j"
      ]
    },
    {
      "cell_type": "code",
      "metadata": {
        "colab": {
          "base_uri": "https://localhost:8080/"
        },
        "id": "gAz8aM3m2Yc6",
        "outputId": "87d6179b-a9c8-4531-b524-73063f67565b"
      },
      "source": [
        "roll = 9\n",
        "roll"
      ],
      "execution_count": 1,
      "outputs": [
        {
          "output_type": "execute_result",
          "data": {
            "text/plain": [
              "9"
            ]
          },
          "metadata": {
            "tags": []
          },
          "execution_count": 1
        }
      ]
    },
    {
      "cell_type": "code",
      "metadata": {
        "id": "RoZgqVSM2Yc7"
      },
      "source": [
        "tem = 98.8\n",
        "print(tem)"
      ],
      "execution_count": null,
      "outputs": []
    },
    {
      "cell_type": "code",
      "metadata": {
        "colab": {
          "base_uri": "https://localhost:8080/",
          "height": 35
        },
        "id": "K1poXnaK2Yc8",
        "outputId": "be31c998-914b-481f-fae2-84f44ee11f61"
      },
      "source": [
        "string = \"Python\"\n",
        "string"
      ],
      "execution_count": 3,
      "outputs": [
        {
          "output_type": "execute_result",
          "data": {
            "application/vnd.google.colaboratory.intrinsic+json": {
              "type": "string"
            },
            "text/plain": [
              "'Python'"
            ]
          },
          "metadata": {
            "tags": []
          },
          "execution_count": 3
        }
      ]
    },
    {
      "cell_type": "code",
      "metadata": {
        "colab": {
          "base_uri": "https://localhost:8080/"
        },
        "id": "BFd4sOMu2Yc8",
        "outputId": "6ec45750-e354-4691-c400-729221c5b12b"
      },
      "source": [
        "married = False\n",
        "married"
      ],
      "execution_count": 4,
      "outputs": [
        {
          "output_type": "execute_result",
          "data": {
            "text/plain": [
              "False"
            ]
          },
          "metadata": {
            "tags": []
          },
          "execution_count": 4
        }
      ]
    },
    {
      "cell_type": "code",
      "metadata": {
        "colab": {
          "base_uri": "https://localhost:8080/"
        },
        "id": "ThD9UehO2Yc9",
        "outputId": "d1d80bab-71dc-43f8-f92c-ccd80e687f65"
      },
      "source": [
        "married = bool(0)\n",
        "married"
      ],
      "execution_count": 10,
      "outputs": [
        {
          "output_type": "execute_result",
          "data": {
            "text/plain": [
              "False"
            ]
          },
          "metadata": {
            "tags": []
          },
          "execution_count": 10
        }
      ]
    },
    {
      "cell_type": "code",
      "metadata": {
        "id": "SkqXNT4C2Yc9"
      },
      "source": [
        ""
      ],
      "execution_count": null,
      "outputs": []
    },
    {
      "cell_type": "markdown",
      "metadata": {
        "id": "ZM6S16gF2Yc-"
      },
      "source": [
        "# How to use print()"
      ]
    },
    {
      "cell_type": "code",
      "metadata": {
        "id": "bfFWgmHd2Yc-"
      },
      "source": [
        "print(\"hello World\")"
      ],
      "execution_count": null,
      "outputs": []
    },
    {
      "cell_type": "markdown",
      "metadata": {
        "id": "9_JvZ-dC2Yc_"
      },
      "source": [
        "# Keywords"
      ]
    },
    {
      "cell_type": "code",
      "metadata": {
        "colab": {
          "base_uri": "https://localhost:8080/"
        },
        "id": "TYEMuoY72Yc_",
        "outputId": "8e8c3234-4935-46d5-cca0-5bc71b0b79e3"
      },
      "source": [
        "import keyword\n",
        "keyword.kwlist"
      ],
      "execution_count": 11,
      "outputs": [
        {
          "output_type": "execute_result",
          "data": {
            "text/plain": [
              "['False',\n",
              " 'None',\n",
              " 'True',\n",
              " 'and',\n",
              " 'as',\n",
              " 'assert',\n",
              " 'async',\n",
              " 'await',\n",
              " 'break',\n",
              " 'class',\n",
              " 'continue',\n",
              " 'def',\n",
              " 'del',\n",
              " 'elif',\n",
              " 'else',\n",
              " 'except',\n",
              " 'finally',\n",
              " 'for',\n",
              " 'from',\n",
              " 'global',\n",
              " 'if',\n",
              " 'import',\n",
              " 'in',\n",
              " 'is',\n",
              " 'lambda',\n",
              " 'nonlocal',\n",
              " 'not',\n",
              " 'or',\n",
              " 'pass',\n",
              " 'raise',\n",
              " 'return',\n",
              " 'try',\n",
              " 'while',\n",
              " 'with',\n",
              " 'yield']"
            ]
          },
          "metadata": {
            "tags": []
          },
          "execution_count": 11
        }
      ]
    },
    {
      "cell_type": "code",
      "metadata": {
        "id": "gd1J_JFi2Yc_"
      },
      "source": [
        "while = 56"
      ],
      "execution_count": null,
      "outputs": []
    },
    {
      "cell_type": "markdown",
      "metadata": {
        "id": "gKQxXGQz2YdA"
      },
      "source": [
        "# String Formatting\n",
        "* .format()\n",
        "* f-String\n",
        "* place-holder"
      ]
    },
    {
      "cell_type": "code",
      "metadata": {
        "colab": {
          "base_uri": "https://localhost:8080/"
        },
        "id": "vHixKllX2YdA",
        "outputId": "2540fb6b-45d5-45a0-b957-60c733f72bbf"
      },
      "source": [
        "name=input('Enter Your Name: ')\n",
        "age=int(input(\"Enter Your age: \"))\n",
        "weight=float(input(\"Enter Your weight: \"))\n",
        "\n",
        "print('Welcome '+ name)\n",
        "print(\"Your age :\",age)\n",
        "print(\"Your weight :\", weight)\n",
        "print(\"Hello world\")"
      ],
      "execution_count": 12,
      "outputs": [
        {
          "output_type": "stream",
          "text": [
            "Enter Your Name: SUJUN\n",
            "Enter Your age: 12\n",
            "Enter Your weight: 14\n",
            "Welcome SUJUN\n",
            "Your age : 12\n",
            "Your weight : 14.0\n",
            "Hello world\n"
          ],
          "name": "stdout"
        }
      ]
    },
    {
      "cell_type": "code",
      "metadata": {
        "colab": {
          "base_uri": "https://localhost:8080/"
        },
        "id": "1IK4g_LV2YdB",
        "outputId": "303b77a0-3d0e-4864-95ec-5a3843274000"
      },
      "source": [
        "print(\"Welcome {0}! Your age {1} Your Weight {2}\".format(name, age, weight))"
      ],
      "execution_count": 13,
      "outputs": [
        {
          "output_type": "stream",
          "text": [
            "Welcome SUJUN! Your age 12 Your Weight 14.0\n"
          ],
          "name": "stdout"
        }
      ]
    },
    {
      "cell_type": "code",
      "metadata": {
        "colab": {
          "base_uri": "https://localhost:8080/"
        },
        "id": "qGoaEQ7T2YdB",
        "outputId": "98f5fbe6-e8a6-4447-b6cd-1594c60f8d27"
      },
      "source": [
        "print(\"Welcome {0}!\\n Your age {1}\\n Your Weight {2}\".format(name, age, weight))"
      ],
      "execution_count": 14,
      "outputs": [
        {
          "output_type": "stream",
          "text": [
            "Welcome SUJUN!\n",
            " Your age 12\n",
            " Your Weight 14.0\n"
          ],
          "name": "stdout"
        }
      ]
    },
    {
      "cell_type": "code",
      "metadata": {
        "colab": {
          "base_uri": "https://localhost:8080/"
        },
        "id": "RMdD-X3d3OC1",
        "outputId": "b9a397ab-e175-4409-bddf-912ebd2dd19b"
      },
      "source": [
        "name =input(\"Enter your Name: \")\n",
        "age  =int(input(\"Enter your Age: \"))\n",
        "wt   =float(input(\"Enter your Weight: \"))\n",
        "print(\"welcome :\" + name)\n",
        "print(\"Your Age :\",age)\n",
        "print(\"Your Weight :\",wt)"
      ],
      "execution_count": 15,
      "outputs": [
        {
          "output_type": "stream",
          "text": [
            "Enter your Name: Akash\n",
            "Enter your Age: 22\n",
            "Enter your Weight: 23\n",
            "welcome :Akash\n",
            "Your Age : 22\n",
            "Your Weight : 23.0\n"
          ],
          "name": "stdout"
        }
      ]
    },
    {
      "cell_type": "code",
      "metadata": {
        "id": "YAOWAnZW2YdC"
      },
      "source": [
        "print(f\"Welcome {name}! Your age {age} Your Weight {weight}\")"
      ],
      "execution_count": null,
      "outputs": []
    },
    {
      "cell_type": "code",
      "metadata": {
        "colab": {
          "base_uri": "https://localhost:8080/"
        },
        "id": "eDY126OU6nhH",
        "outputId": "821984b4-2a44-4625-b7e6-261820e75dd4"
      },
      "source": [
        "print(f\"welcome {name}! your {age}! Your {wt}\")"
      ],
      "execution_count": 20,
      "outputs": [
        {
          "output_type": "stream",
          "text": [
            "welcome Akash! your 22! Your 23.0\n"
          ],
          "name": "stdout"
        }
      ]
    },
    {
      "cell_type": "code",
      "metadata": {
        "colab": {
          "base_uri": "https://localhost:8080/"
        },
        "id": "Rt_mqAqG5NII",
        "outputId": "8f9e4bfb-819e-4f33-c1c4-14540a502cea"
      },
      "source": [
        "print(\"welcome {0}\\n your age {1}\\n your weight {2}\\n\".format(name,age,weight))"
      ],
      "execution_count": 17,
      "outputs": [
        {
          "output_type": "stream",
          "text": [
            "welcome Akash\n",
            " your age 22\n",
            " your weight 14.0\n",
            "\n"
          ],
          "name": "stdout"
        }
      ]
    },
    {
      "cell_type": "code",
      "metadata": {
        "id": "Dy46pyZT6CU-"
      },
      "source": [
        ""
      ],
      "execution_count": null,
      "outputs": []
    },
    {
      "cell_type": "code",
      "metadata": {
        "colab": {
          "base_uri": "https://localhost:8080/"
        },
        "id": "cc8CtWTJ2YdC",
        "outputId": "648959ef-97d7-43cf-ae1c-35aced64b3d7"
      },
      "source": [
        "print(\"Welcome %s! Your age %d Your Weight %.2f\" %(name, age, weight))"
      ],
      "execution_count": 21,
      "outputs": [
        {
          "output_type": "stream",
          "text": [
            "Welcome Akash! Your age 22 Your Weight 14.00\n"
          ],
          "name": "stdout"
        }
      ]
    },
    {
      "cell_type": "code",
      "metadata": {
        "colab": {
          "base_uri": "https://localhost:8080/"
        },
        "id": "sLJNFj7F7eJt",
        "outputId": "a16cbac1-b610-4444-8666-8f39986f41ea"
      },
      "source": [
        "print(\"Welcome %s! Your age %d Your Weight %.3f\" %(name, age, weight))"
      ],
      "execution_count": 23,
      "outputs": [
        {
          "output_type": "stream",
          "text": [
            "Welcome Akash! Your age 22 Your Weight 14.000\n"
          ],
          "name": "stdout"
        }
      ]
    },
    {
      "cell_type": "markdown",
      "metadata": {
        "id": "rnWgOtkd2YdD"
      },
      "source": [
        "# Types Of Operators\n",
        "* Arithmetic [+, -, *, /, %, **, //]\n",
        "* Conditional Operators [==, !=, <, >, <=, >=]\n",
        "* Logical [and, or, not]\n",
        "* Bitwise Operators [&, |, ~, ^, <<, >>]\n",
        "* Assignment Operators [=, +=, -=, *=, /=, **=, %=, //=]\n",
        "* Special Operators [is , is not, in]"
      ]
    },
    {
      "cell_type": "code",
      "metadata": {
        "colab": {
          "base_uri": "https://localhost:8080/"
        },
        "id": "BvOmDL3G2YdD",
        "outputId": "5bc3ed88-4272-4378-a9d7-d78e8148b1b3"
      },
      "source": [
        "5+2"
      ],
      "execution_count": 24,
      "outputs": [
        {
          "output_type": "execute_result",
          "data": {
            "text/plain": [
              "7"
            ]
          },
          "metadata": {
            "tags": []
          },
          "execution_count": 24
        }
      ]
    },
    {
      "cell_type": "code",
      "metadata": {
        "colab": {
          "base_uri": "https://localhost:8080/"
        },
        "id": "M6rifVTI2YdD",
        "outputId": "67022f07-793b-4733-a099-6c4ac4ef328a"
      },
      "source": [
        "5-2"
      ],
      "execution_count": 25,
      "outputs": [
        {
          "output_type": "execute_result",
          "data": {
            "text/plain": [
              "3"
            ]
          },
          "metadata": {
            "tags": []
          },
          "execution_count": 25
        }
      ]
    },
    {
      "cell_type": "code",
      "metadata": {
        "colab": {
          "base_uri": "https://localhost:8080/"
        },
        "id": "XkUu89-q2YdE",
        "outputId": "d90e0f71-c3fb-48b6-e0ae-aba2aa220ffe"
      },
      "source": [
        "5*2"
      ],
      "execution_count": 26,
      "outputs": [
        {
          "output_type": "execute_result",
          "data": {
            "text/plain": [
              "10"
            ]
          },
          "metadata": {
            "tags": []
          },
          "execution_count": 26
        }
      ]
    },
    {
      "cell_type": "code",
      "metadata": {
        "colab": {
          "base_uri": "https://localhost:8080/"
        },
        "id": "6L1tZmzE2YdE",
        "outputId": "79b24bd3-6ed4-4a39-fa6d-7c1362c1f69d"
      },
      "source": [
        "5/2"
      ],
      "execution_count": 27,
      "outputs": [
        {
          "output_type": "execute_result",
          "data": {
            "text/plain": [
              "2.5"
            ]
          },
          "metadata": {
            "tags": []
          },
          "execution_count": 27
        }
      ]
    },
    {
      "cell_type": "code",
      "metadata": {
        "colab": {
          "base_uri": "https://localhost:8080/"
        },
        "id": "va-3HWs42YdF",
        "outputId": "813f68fb-e4f5-4a83-98f7-4c6241a530cc"
      },
      "source": [
        "5//2"
      ],
      "execution_count": 28,
      "outputs": [
        {
          "output_type": "execute_result",
          "data": {
            "text/plain": [
              "2"
            ]
          },
          "metadata": {
            "tags": []
          },
          "execution_count": 28
        }
      ]
    },
    {
      "cell_type": "code",
      "metadata": {
        "colab": {
          "base_uri": "https://localhost:8080/"
        },
        "id": "RnsETXnd2YdF",
        "outputId": "fb568fcb-bb9f-4b3a-dddb-7b0cb969ce02"
      },
      "source": [
        "5%2"
      ],
      "execution_count": 29,
      "outputs": [
        {
          "output_type": "execute_result",
          "data": {
            "text/plain": [
              "1"
            ]
          },
          "metadata": {
            "tags": []
          },
          "execution_count": 29
        }
      ]
    },
    {
      "cell_type": "code",
      "metadata": {
        "colab": {
          "base_uri": "https://localhost:8080/"
        },
        "id": "Q3ohxnxi2YdF",
        "outputId": "4b10bc04-c1e4-4fe1-b615-9093198bc441"
      },
      "source": [
        "5**3"
      ],
      "execution_count": 30,
      "outputs": [
        {
          "output_type": "execute_result",
          "data": {
            "text/plain": [
              "125"
            ]
          },
          "metadata": {
            "tags": []
          },
          "execution_count": 30
        }
      ]
    },
    {
      "cell_type": "code",
      "metadata": {
        "colab": {
          "base_uri": "https://localhost:8080/"
        },
        "id": "VeuCrIrM2YdG",
        "outputId": "48442dd1-0fe5-4e65-ea5b-d62661dd7d94"
      },
      "source": [
        "5>2"
      ],
      "execution_count": 31,
      "outputs": [
        {
          "output_type": "execute_result",
          "data": {
            "text/plain": [
              "True"
            ]
          },
          "metadata": {
            "tags": []
          },
          "execution_count": 31
        }
      ]
    },
    {
      "cell_type": "code",
      "metadata": {
        "colab": {
          "base_uri": "https://localhost:8080/"
        },
        "id": "UukZ9RfN2YdG",
        "outputId": "55bbd8bf-916f-4d0c-a55f-32b446636afe"
      },
      "source": [
        "5 >= 5"
      ],
      "execution_count": 32,
      "outputs": [
        {
          "output_type": "execute_result",
          "data": {
            "text/plain": [
              "True"
            ]
          },
          "metadata": {
            "tags": []
          },
          "execution_count": 32
        }
      ]
    },
    {
      "cell_type": "code",
      "metadata": {
        "colab": {
          "base_uri": "https://localhost:8080/"
        },
        "id": "ZvQpO9oq2YdH",
        "outputId": "4a25367d-3629-4917-900c-7772dc8a1c65"
      },
      "source": [
        "5<2"
      ],
      "execution_count": 33,
      "outputs": [
        {
          "output_type": "execute_result",
          "data": {
            "text/plain": [
              "False"
            ]
          },
          "metadata": {
            "tags": []
          },
          "execution_count": 33
        }
      ]
    },
    {
      "cell_type": "code",
      "metadata": {
        "colab": {
          "base_uri": "https://localhost:8080/"
        },
        "id": "JhO4gnEl2YdH",
        "outputId": "634980a6-4127-4134-e247-0605201d8c6b"
      },
      "source": [
        "5 <= 5"
      ],
      "execution_count": 34,
      "outputs": [
        {
          "output_type": "execute_result",
          "data": {
            "text/plain": [
              "True"
            ]
          },
          "metadata": {
            "tags": []
          },
          "execution_count": 34
        }
      ]
    },
    {
      "cell_type": "code",
      "metadata": {
        "colab": {
          "base_uri": "https://localhost:8080/"
        },
        "id": "8OlUHTA_2YdH",
        "outputId": "434bfbc7-ac4f-4b78-9e57-fed4e0501bab"
      },
      "source": [
        "5 == 2"
      ],
      "execution_count": 35,
      "outputs": [
        {
          "output_type": "execute_result",
          "data": {
            "text/plain": [
              "False"
            ]
          },
          "metadata": {
            "tags": []
          },
          "execution_count": 35
        }
      ]
    },
    {
      "cell_type": "code",
      "metadata": {
        "colab": {
          "base_uri": "https://localhost:8080/"
        },
        "id": "bZVqK0dv2YdI",
        "outputId": "ab69b4ea-9b45-40de-9048-8fda352ae62b"
      },
      "source": [
        "5 == 5"
      ],
      "execution_count": 36,
      "outputs": [
        {
          "output_type": "execute_result",
          "data": {
            "text/plain": [
              "True"
            ]
          },
          "metadata": {
            "tags": []
          },
          "execution_count": 36
        }
      ]
    },
    {
      "cell_type": "code",
      "metadata": {
        "colab": {
          "base_uri": "https://localhost:8080/"
        },
        "id": "XCDyoQEN2YdI",
        "outputId": "51b5774c-e921-470e-de90-25e81db9658e"
      },
      "source": [
        "5 != 2"
      ],
      "execution_count": 37,
      "outputs": [
        {
          "output_type": "execute_result",
          "data": {
            "text/plain": [
              "True"
            ]
          },
          "metadata": {
            "tags": []
          },
          "execution_count": 37
        }
      ]
    },
    {
      "cell_type": "code",
      "metadata": {
        "id": "oyTDpRGh2YdI"
      },
      "source": [
        ""
      ],
      "execution_count": 37,
      "outputs": []
    },
    {
      "cell_type": "code",
      "metadata": {
        "colab": {
          "base_uri": "https://localhost:8080/"
        },
        "id": "odHy8YD52YdJ",
        "outputId": "059956a3-cf67-458a-8d17-83550cc24383"
      },
      "source": [
        "True and False"
      ],
      "execution_count": 38,
      "outputs": [
        {
          "output_type": "execute_result",
          "data": {
            "text/plain": [
              "False"
            ]
          },
          "metadata": {
            "tags": []
          },
          "execution_count": 38
        }
      ]
    },
    {
      "cell_type": "code",
      "metadata": {
        "colab": {
          "base_uri": "https://localhost:8080/"
        },
        "id": "lztqT8UG2YdJ",
        "outputId": "f21865a4-6d77-4abc-8570-e4e5b41965b7"
      },
      "source": [
        "True and True"
      ],
      "execution_count": 39,
      "outputs": [
        {
          "output_type": "execute_result",
          "data": {
            "text/plain": [
              "True"
            ]
          },
          "metadata": {
            "tags": []
          },
          "execution_count": 39
        }
      ]
    },
    {
      "cell_type": "code",
      "metadata": {
        "colab": {
          "base_uri": "https://localhost:8080/"
        },
        "id": "Mq18GoSH2YdK",
        "outputId": "bbf5540b-086d-4b56-ad5a-3f5e2af198bf"
      },
      "source": [
        "False and False"
      ],
      "execution_count": 40,
      "outputs": [
        {
          "output_type": "execute_result",
          "data": {
            "text/plain": [
              "False"
            ]
          },
          "metadata": {
            "tags": []
          },
          "execution_count": 40
        }
      ]
    },
    {
      "cell_type": "code",
      "metadata": {
        "colab": {
          "base_uri": "https://localhost:8080/"
        },
        "id": "mWUjKSZN2YdK",
        "outputId": "814f895f-346e-4202-a7e6-201d2d725b72"
      },
      "source": [
        "True or False"
      ],
      "execution_count": 41,
      "outputs": [
        {
          "output_type": "execute_result",
          "data": {
            "text/plain": [
              "True"
            ]
          },
          "metadata": {
            "tags": []
          },
          "execution_count": 41
        }
      ]
    },
    {
      "cell_type": "code",
      "metadata": {
        "colab": {
          "base_uri": "https://localhost:8080/"
        },
        "id": "JLwgHeYN2YdK",
        "outputId": "a6f9ff89-3038-41f1-d7da-6a17defb7496"
      },
      "source": [
        "False or False"
      ],
      "execution_count": 42,
      "outputs": [
        {
          "output_type": "execute_result",
          "data": {
            "text/plain": [
              "False"
            ]
          },
          "metadata": {
            "tags": []
          },
          "execution_count": 42
        }
      ]
    },
    {
      "cell_type": "code",
      "metadata": {
        "colab": {
          "base_uri": "https://localhost:8080/"
        },
        "id": "EV8VVWQ62YdL",
        "outputId": "fb6b308e-cf54-4cc6-be8f-b7278cfeca4b"
      },
      "source": [
        "not True"
      ],
      "execution_count": 43,
      "outputs": [
        {
          "output_type": "execute_result",
          "data": {
            "text/plain": [
              "False"
            ]
          },
          "metadata": {
            "tags": []
          },
          "execution_count": 43
        }
      ]
    },
    {
      "cell_type": "code",
      "metadata": {
        "colab": {
          "base_uri": "https://localhost:8080/"
        },
        "id": "dwH2khr72YdL",
        "outputId": "08735446-4732-4e40-fb6e-b569b64d6c04"
      },
      "source": [
        "not False"
      ],
      "execution_count": 44,
      "outputs": [
        {
          "output_type": "execute_result",
          "data": {
            "text/plain": [
              "True"
            ]
          },
          "metadata": {
            "tags": []
          },
          "execution_count": 44
        }
      ]
    },
    {
      "cell_type": "code",
      "metadata": {
        "colab": {
          "base_uri": "https://localhost:8080/"
        },
        "id": "XIEW_6-k2YdM",
        "outputId": "5773196f-4385-4d64-aa19-0a9c5d7c2f1b"
      },
      "source": [
        "5 & 3"
      ],
      "execution_count": 45,
      "outputs": [
        {
          "output_type": "execute_result",
          "data": {
            "text/plain": [
              "1"
            ]
          },
          "metadata": {
            "tags": []
          },
          "execution_count": 45
        }
      ]
    },
    {
      "cell_type": "code",
      "metadata": {
        "colab": {
          "base_uri": "https://localhost:8080/"
        },
        "id": "8XLqe_Jc2YdN",
        "outputId": "4236cf44-e815-4c2f-9d64-4c184e12b08d"
      },
      "source": [
        "5 | 2"
      ],
      "execution_count": 46,
      "outputs": [
        {
          "output_type": "execute_result",
          "data": {
            "text/plain": [
              "7"
            ]
          },
          "metadata": {
            "tags": []
          },
          "execution_count": 46
        }
      ]
    },
    {
      "cell_type": "code",
      "metadata": {
        "colab": {
          "base_uri": "https://localhost:8080/"
        },
        "id": "bXORJExA2YdN",
        "outputId": "12138134-c84e-4dfe-b9b0-88bac411272d"
      },
      "source": [
        "~5"
      ],
      "execution_count": 47,
      "outputs": [
        {
          "output_type": "execute_result",
          "data": {
            "text/plain": [
              "-6"
            ]
          },
          "metadata": {
            "tags": []
          },
          "execution_count": 47
        }
      ]
    },
    {
      "cell_type": "code",
      "metadata": {
        "colab": {
          "base_uri": "https://localhost:8080/"
        },
        "id": "fAEVVZqi2YdO",
        "outputId": "02e8a100-78f3-4a45-9390-8bb02bb6dca2"
      },
      "source": [
        "2<<2\n",
        "# 0010\n",
        "# 0100\n",
        "# 1000"
      ],
      "execution_count": 48,
      "outputs": [
        {
          "output_type": "execute_result",
          "data": {
            "text/plain": [
              "8"
            ]
          },
          "metadata": {
            "tags": []
          },
          "execution_count": 48
        }
      ]
    },
    {
      "cell_type": "code",
      "metadata": {
        "colab": {
          "base_uri": "https://localhost:8080/"
        },
        "id": "ZWmfy5dD2YdO",
        "outputId": "3733c212-cb97-4e1c-ece7-9c321144242c"
      },
      "source": [
        "2>>2\n",
        "# 0010\n",
        "# 0001\n",
        "# 1000"
      ],
      "execution_count": 49,
      "outputs": [
        {
          "output_type": "execute_result",
          "data": {
            "text/plain": [
              "0"
            ]
          },
          "metadata": {
            "tags": []
          },
          "execution_count": 49
        }
      ]
    },
    {
      "cell_type": "code",
      "metadata": {
        "colab": {
          "base_uri": "https://localhost:8080/"
        },
        "id": "kK7PldRs2YdP",
        "outputId": "620c5970-9e22-4f1a-e46c-c93144412d21"
      },
      "source": [
        "~(5^2)\n",
        "# 101\n",
        "# 010\n",
        "# ---\n",
        "# 111\n"
      ],
      "execution_count": 50,
      "outputs": [
        {
          "output_type": "execute_result",
          "data": {
            "text/plain": [
              "-8"
            ]
          },
          "metadata": {
            "tags": []
          },
          "execution_count": 50
        }
      ]
    },
    {
      "cell_type": "code",
      "metadata": {
        "colab": {
          "base_uri": "https://localhost:8080/"
        },
        "id": "XC5ATDwF2YdQ",
        "outputId": "c5cad63b-5c30-4e5e-e8f3-985a00d5b152"
      },
      "source": [
        "a = 4\n",
        "b = 2\n",
        "a+b"
      ],
      "execution_count": 51,
      "outputs": [
        {
          "output_type": "execute_result",
          "data": {
            "text/plain": [
              "6"
            ]
          },
          "metadata": {
            "tags": []
          },
          "execution_count": 51
        }
      ]
    },
    {
      "cell_type": "code",
      "metadata": {
        "colab": {
          "base_uri": "https://localhost:8080/"
        },
        "id": "rfsdKeB52YdQ",
        "outputId": "dcb5476f-ea10-4de5-bc41-d153e3978813"
      },
      "source": [
        "# a = a+b\n",
        "a += b\n",
        "a"
      ],
      "execution_count": 52,
      "outputs": [
        {
          "output_type": "execute_result",
          "data": {
            "text/plain": [
              "6"
            ]
          },
          "metadata": {
            "tags": []
          },
          "execution_count": 52
        }
      ]
    },
    {
      "cell_type": "code",
      "metadata": {
        "colab": {
          "base_uri": "https://localhost:8080/"
        },
        "id": "I3y3fjUx2YdR",
        "outputId": "4e2de976-8354-4306-b889-c95b78d4bc88"
      },
      "source": [
        "a *= b\n",
        "a"
      ],
      "execution_count": 53,
      "outputs": [
        {
          "output_type": "execute_result",
          "data": {
            "text/plain": [
              "12"
            ]
          },
          "metadata": {
            "tags": []
          },
          "execution_count": 53
        }
      ]
    },
    {
      "cell_type": "code",
      "metadata": {
        "colab": {
          "base_uri": "https://localhost:8080/"
        },
        "id": "VsCPFdhr2YdR",
        "outputId": "b3a1c516-854a-459d-921c-383b7a8ce034"
      },
      "source": [
        "# in, is , not in\n",
        "\"h\" in \"Happy\""
      ],
      "execution_count": 54,
      "outputs": [
        {
          "output_type": "execute_result",
          "data": {
            "text/plain": [
              "False"
            ]
          },
          "metadata": {
            "tags": []
          },
          "execution_count": 54
        }
      ]
    },
    {
      "cell_type": "code",
      "metadata": {
        "colab": {
          "base_uri": "https://localhost:8080/"
        },
        "id": "BMJwbyXH2YdS",
        "outputId": "e13f500b-1ea4-49df-e0de-46dc7673e0b1"
      },
      "source": [
        "\"C\" not in \"Happy\""
      ],
      "execution_count": 55,
      "outputs": [
        {
          "output_type": "execute_result",
          "data": {
            "text/plain": [
              "True"
            ]
          },
          "metadata": {
            "tags": []
          },
          "execution_count": 55
        }
      ]
    },
    {
      "cell_type": "code",
      "metadata": {
        "colab": {
          "base_uri": "https://localhost:8080/"
        },
        "id": "X8tLKcFW2YdT",
        "outputId": "8d5bea8a-82a0-4895-f2b1-44aeb13c8c54"
      },
      "source": [
        "a = 2\n",
        "b = 2\n",
        "a is b"
      ],
      "execution_count": 56,
      "outputs": [
        {
          "output_type": "execute_result",
          "data": {
            "text/plain": [
              "True"
            ]
          },
          "metadata": {
            "tags": []
          },
          "execution_count": 56
        }
      ]
    },
    {
      "cell_type": "markdown",
      "metadata": {
        "id": "FzAQZmIk2YdT"
      },
      "source": [
        ""
      ]
    },
    {
      "cell_type": "code",
      "metadata": {
        "id": "HZamkiVJ2YdT"
      },
      "source": [
        ""
      ],
      "execution_count": 56,
      "outputs": []
    },
    {
      "cell_type": "markdown",
      "metadata": {
        "id": "BMVAG1IY2YdU"
      },
      "source": [
        "# Conditional Statements\n",
        "* if\n",
        "* elif\n",
        "* else"
      ]
    },
    {
      "cell_type": "code",
      "metadata": {
        "id": "9uFl4Wz02YdU"
      },
      "source": [
        "age = int(input(\"Enter your age: \"))\n",
        "if (age > 17) and (age<60):\n",
        "    print(\"You are eligible for Major Acc!\")\n",
        "else:\n",
        "    print(\"Not eligible for Major Acc\")"
      ],
      "execution_count": null,
      "outputs": []
    },
    {
      "cell_type": "code",
      "metadata": {
        "id": "Ecb4n-622YdV"
      },
      "source": [
        "age = 21\n",
        "salary = 10000\n",
        "if (age > 17) and (age<60):\n",
        "    if salary >= 20000:\n",
        "        print(\"Gold Card\")\n",
        "    else:\n",
        "        print(\"Platinum Card\")\n",
        "    print(\"You are eligible for Major Acc!\")\n",
        "elif (age > 12) and (age<18):\n",
        "    print(\" eligible for Minor Acc\")\n",
        "else:\n",
        "    print(\"Not eligible for Any Acc\")"
      ],
      "execution_count": null,
      "outputs": []
    },
    {
      "cell_type": "code",
      "metadata": {
        "id": "JymM6jAV2YdW",
        "outputId": "16f85069-7bd3-408e-fc55-d126a6878bc8"
      },
      "source": [
        "is_raining = input(\"Raining? yes/no \").lower()\n",
        "if is_raining == \"yes\":\n",
        "    print(\"Want to eat hotchpotch!\")\n",
        "else:\n",
        "    print(\"Ice Cream!\")"
      ],
      "execution_count": null,
      "outputs": [
        {
          "output_type": "stream",
          "text": [
            "Ice Cream!\n"
          ],
          "name": "stdout"
        }
      ]
    },
    {
      "cell_type": "code",
      "metadata": {
        "id": "A8Eh1Ein2YdW"
      },
      "source": [
        "# Create a Program to give grade to student's score AA(91-100),A+(76-90), A(61-75), B(46-61),C(31-45),D\n"
      ],
      "execution_count": null,
      "outputs": []
    },
    {
      "cell_type": "code",
      "metadata": {
        "id": "a0KvwcyN2YdX"
      },
      "source": [
        ""
      ],
      "execution_count": null,
      "outputs": []
    },
    {
      "cell_type": "code",
      "metadata": {
        "id": "uhLSOFUg2YdX"
      },
      "source": [
        ""
      ],
      "execution_count": null,
      "outputs": []
    },
    {
      "cell_type": "markdown",
      "metadata": {
        "id": "mJOOju3A2YdX"
      },
      "source": [
        "# While Loop"
      ]
    },
    {
      "cell_type": "code",
      "metadata": {
        "id": "Vx51HtBC2YdY"
      },
      "source": [
        ""
      ],
      "execution_count": null,
      "outputs": []
    },
    {
      "cell_type": "code",
      "metadata": {
        "id": "vePFhoiB2YdY"
      },
      "source": [
        ""
      ],
      "execution_count": null,
      "outputs": []
    },
    {
      "cell_type": "code",
      "metadata": {
        "id": "T84XbHuh2YdY"
      },
      "source": [
        ""
      ],
      "execution_count": null,
      "outputs": []
    },
    {
      "cell_type": "markdown",
      "metadata": {
        "id": "ROBGcUJI2YdZ"
      },
      "source": [
        "# For Loop"
      ]
    },
    {
      "cell_type": "code",
      "metadata": {
        "id": "vt9nkwvJ2YdZ"
      },
      "source": [
        ""
      ],
      "execution_count": null,
      "outputs": []
    },
    {
      "cell_type": "code",
      "metadata": {
        "id": "Zxir_Whq2YdZ"
      },
      "source": [
        ""
      ],
      "execution_count": null,
      "outputs": []
    },
    {
      "cell_type": "markdown",
      "metadata": {
        "id": "7CFmOPuX2Yda"
      },
      "source": [
        "# Built-in Data Structure"
      ]
    },
    {
      "cell_type": "markdown",
      "metadata": {
        "id": "euBXmz7U2Yda"
      },
      "source": [
        "* List\\[]\n",
        "* Tuple()\n",
        "* Set {}\n",
        "* Dictionary{key:Value}"
      ]
    },
    {
      "cell_type": "markdown",
      "metadata": {
        "id": "I4tIJHu42Ydb"
      },
      "source": [
        "## List"
      ]
    },
    {
      "cell_type": "code",
      "metadata": {
        "id": "S2Ilt5en2Ydb"
      },
      "source": [
        ""
      ],
      "execution_count": null,
      "outputs": []
    },
    {
      "cell_type": "code",
      "metadata": {
        "id": "u_fawZIh2Ydb"
      },
      "source": [
        ""
      ],
      "execution_count": null,
      "outputs": []
    },
    {
      "cell_type": "markdown",
      "metadata": {
        "id": "PGU-55cU2Ydc"
      },
      "source": [
        "## Tuple"
      ]
    },
    {
      "cell_type": "code",
      "metadata": {
        "id": "RlH8rwzo2Ydc"
      },
      "source": [
        ""
      ],
      "execution_count": null,
      "outputs": []
    },
    {
      "cell_type": "code",
      "metadata": {
        "id": "a7H3xPot2Ydc"
      },
      "source": [
        ""
      ],
      "execution_count": null,
      "outputs": []
    },
    {
      "cell_type": "markdown",
      "metadata": {
        "id": "7h7Imxga2Ydd"
      },
      "source": [
        "## Set"
      ]
    },
    {
      "cell_type": "code",
      "metadata": {
        "id": "tcWCC70p2Ydd"
      },
      "source": [
        ""
      ],
      "execution_count": null,
      "outputs": []
    },
    {
      "cell_type": "code",
      "metadata": {
        "id": "fi1IpsBF2Ydd"
      },
      "source": [
        ""
      ],
      "execution_count": null,
      "outputs": []
    },
    {
      "cell_type": "code",
      "metadata": {
        "id": "vjmOIlDL2Yde"
      },
      "source": [
        ""
      ],
      "execution_count": null,
      "outputs": []
    },
    {
      "cell_type": "markdown",
      "metadata": {
        "id": "RHftiTJp2Yde"
      },
      "source": [
        "## Dictionary"
      ]
    },
    {
      "cell_type": "code",
      "metadata": {
        "id": "T_ANNOqX2Yde"
      },
      "source": [
        ""
      ],
      "execution_count": null,
      "outputs": []
    },
    {
      "cell_type": "code",
      "metadata": {
        "id": "JdmzFWUk2Yde"
      },
      "source": [
        ""
      ],
      "execution_count": null,
      "outputs": []
    },
    {
      "cell_type": "code",
      "metadata": {
        "id": "Wd4bSgz62Ydf"
      },
      "source": [
        ""
      ],
      "execution_count": null,
      "outputs": []
    },
    {
      "cell_type": "markdown",
      "metadata": {
        "id": "8luRvqL12Ydf"
      },
      "source": [
        "# Function"
      ]
    },
    {
      "cell_type": "code",
      "metadata": {
        "id": "h2KCKGi72Ydf"
      },
      "source": [
        ""
      ],
      "execution_count": null,
      "outputs": []
    },
    {
      "cell_type": "code",
      "metadata": {
        "id": "HdNCiG4t2Ydf"
      },
      "source": [
        ""
      ],
      "execution_count": null,
      "outputs": []
    },
    {
      "cell_type": "markdown",
      "metadata": {
        "id": "i_AD-Lzh2Ydf"
      },
      "source": [
        "# Lambda Function"
      ]
    },
    {
      "cell_type": "code",
      "metadata": {
        "id": "HptdRtda2Ydf"
      },
      "source": [
        ""
      ],
      "execution_count": null,
      "outputs": []
    },
    {
      "cell_type": "code",
      "metadata": {
        "id": "1spMXXWI2Ydf"
      },
      "source": [
        ""
      ],
      "execution_count": null,
      "outputs": []
    },
    {
      "cell_type": "markdown",
      "metadata": {
        "id": "xtrjJ9j42Ydf"
      },
      "source": [
        "# Generator"
      ]
    },
    {
      "cell_type": "code",
      "metadata": {
        "id": "s7qu_N8s2Ydg"
      },
      "source": [
        ""
      ],
      "execution_count": null,
      "outputs": []
    },
    {
      "cell_type": "markdown",
      "metadata": {
        "id": "JD2HtkN-2Ydg"
      },
      "source": [
        "# Decorator"
      ]
    },
    {
      "cell_type": "code",
      "metadata": {
        "id": "BwAxjkX02Ydg"
      },
      "source": [
        ""
      ],
      "execution_count": 56,
      "outputs": []
    },
    {
      "cell_type": "code",
      "metadata": {
        "id": "AO-0E5Sp2Ydg"
      },
      "source": [
        ""
      ],
      "execution_count": 56,
      "outputs": []
    },
    {
      "cell_type": "code",
      "metadata": {
        "id": "OXuTrgs42Ydg"
      },
      "source": [
        ""
      ],
      "execution_count": 56,
      "outputs": []
    },
    {
      "cell_type": "code",
      "metadata": {
        "id": "MxVUh8kO2Ydg"
      },
      "source": [
        ""
      ],
      "execution_count": 56,
      "outputs": []
    },
    {
      "cell_type": "code",
      "metadata": {
        "id": "zzeZeRCi2Ydg"
      },
      "source": [
        ""
      ],
      "execution_count": 56,
      "outputs": []
    },
    {
      "cell_type": "code",
      "metadata": {
        "id": "D9gerej62Ydg"
      },
      "source": [
        ""
      ],
      "execution_count": 56,
      "outputs": []
    },
    {
      "cell_type": "code",
      "metadata": {
        "colab": {
          "base_uri": "https://localhost:8080/"
        },
        "id": "omKsq7cF2Ydh",
        "outputId": "f5519a71-8387-4dbd-dfa5-ae92b6062944"
      },
      "source": [
        "# Problem 3\n",
        "low =2\n",
        "up = 11\n",
        "for num in range(low,up+1):\n",
        "    if num%2 == 0:\n",
        "        print(num**2)"
      ],
      "execution_count": 57,
      "outputs": [
        {
          "output_type": "stream",
          "text": [
            "4\n",
            "16\n",
            "36\n",
            "64\n",
            "100\n"
          ],
          "name": "stdout"
        }
      ]
    },
    {
      "cell_type": "code",
      "metadata": {
        "colab": {
          "base_uri": "https://localhost:8080/"
        },
        "id": "TQnFKdF22Ydh",
        "outputId": "b40e39cc-e89b-4a62-f73f-5f545d4374af"
      },
      "source": [
        "while low <= up:\n",
        "    if low%2 == 0:\n",
        "        print(low**2)\n",
        "    low = low+1\n"
      ],
      "execution_count": 58,
      "outputs": [
        {
          "output_type": "stream",
          "text": [
            "4\n",
            "16\n",
            "36\n",
            "64\n",
            "100\n"
          ],
          "name": "stdout"
        }
      ]
    },
    {
      "cell_type": "code",
      "metadata": {
        "id": "MwQLUKaU2Ydh"
      },
      "source": [
        ""
      ],
      "execution_count": 58,
      "outputs": []
    },
    {
      "cell_type": "code",
      "metadata": {
        "id": "jRz7oCbo2Ydh"
      },
      "source": [
        ""
      ],
      "execution_count": 58,
      "outputs": []
    },
    {
      "cell_type": "code",
      "metadata": {
        "id": "H1Ud5Yas2Ydh"
      },
      "source": [
        "# Problem 4\n",
        "doorPassword = \"opendoor@2021\"\n",
        "\n",
        "maxx = 3\n",
        "numOfTry = 1\n",
        "while True:\n",
        "    enteredPassword = input(\"Enter Password: \")\n",
        "    if enteredPassword == doorPassword:\n",
        "        print(\"Door Opened!\")\n",
        "        break\n",
        "    else:\n",
        "        print(\"Worng Password, Try again\")\n",
        "        numOfTry = numOfTry + 1\n",
        "        if numOfTry > maxx:\n",
        "            print(\"Door Locked, You are a Robber!\")\n",
        "            break\n",
        "\n",
        "\n"
      ],
      "execution_count": null,
      "outputs": []
    },
    {
      "cell_type": "code",
      "metadata": {
        "id": "DpsGBB8X2Ydi"
      },
      "source": [
        "students =[\n",
        "    {\n",
        "  'name' : 'Faisal',\n",
        "    'id' : 20211,\n",
        "      'marks' : 90,\n",
        "    \n",
        "  },\n",
        "  {\n",
        "  'name' : 'Nahil',\n",
        "    'id' : 20212,\n",
        "      'marks' : 87,\n",
        "  },\n",
        "{\n",
        "  'name' : 'Karim',\n",
        "    'id' : 20213,\n",
        "      'marks' : 89,\n",
        "  },\n",
        "  {\n",
        "  'name' : 'ALexa',\n",
        "    'id' : 20213,\n",
        "      'marks' : 100,\n",
        "  }\n",
        "]\n"
      ],
      "execution_count": null,
      "outputs": []
    },
    {
      "cell_type": "code",
      "metadata": {
        "id": "Gl1gmD6B2Ydi"
      },
      "source": [
        "maxx = 0\n",
        "for index in range(1, len(students)):\n",
        "    if students[index][\"marks\"] > students[maxx][\"marks\"]:\n",
        "        maxx = index\n",
        "    \n",
        "print(students[maxx])\n"
      ],
      "execution_count": null,
      "outputs": []
    }
  ]
}