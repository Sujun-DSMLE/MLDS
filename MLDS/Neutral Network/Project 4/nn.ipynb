{
 "cells": [
  {
   "cell_type": "code",
   "execution_count": 1,
   "metadata": {},
   "outputs": [],
   "source": [
    "import numpy as np\n",
    "import matplotlib.pyplot as plt\n",
    "from skimage import io\n",
    "import os"
   ]
  },
  {
   "cell_type": "code",
   "execution_count": 2,
   "metadata": {},
   "outputs": [],
   "source": [
    "# Data Loading\n",
    "images = []\n",
    "labels = []\n",
    "files = os.listdir(r'processed_data')\n",
    "for  pimg in files:\n",
    "    image = io.imread(f'processed_data\\\\{pimg}').ravel()/255\n",
    "    label = int(pimg.split('.')[0][-1])\n",
    "    images.append(image)\n",
    "    labels.append(label)"
   ]
  },
  {
   "cell_type": "code",
   "execution_count": 25,
   "metadata": {},
   "outputs": [],
   "source": [
    "from sklearn.model_selection import train_test_split\n",
    "\n",
    "X_train, X_test, y_train, y_test = train_test_split(images, labels, test_size=0.25, random_state=1)"
   ]
  },
  {
   "cell_type": "code",
   "execution_count": 26,
   "metadata": {},
   "outputs": [
    {
     "data": {
      "text/plain": [
       "array([0.89411765, 0.89803922, 0.89803922, ..., 0.89019608, 0.89019608,\n",
       "       0.89019608])"
      ]
     },
     "execution_count": 26,
     "metadata": {},
     "output_type": "execute_result"
    }
   ],
   "source": [
    "xtrain = np.array([image for image in X_train])\n",
    "ytrain = np.array(y_train)\n",
    "xtrain[0]"
   ]
  },
  {
   "cell_type": "code",
   "execution_count": 27,
   "metadata": {},
   "outputs": [],
   "source": [
    "xtest = np.array([image for image in X_test])\n",
    "y_test = np.array(y_test)"
   ]
  },
  {
   "cell_type": "code",
   "execution_count": 28,
   "metadata": {},
   "outputs": [
    {
     "data": {
      "text/plain": [
       "3249"
      ]
     },
     "execution_count": 28,
     "metadata": {},
     "output_type": "execute_result"
    }
   ],
   "source": [
    "228*228//2//2//2//2"
   ]
  },
  {
   "cell_type": "markdown",
   "metadata": {},
   "source": [
    "# Modeling"
   ]
  },
  {
   "cell_type": "code",
   "execution_count": 29,
   "metadata": {},
   "outputs": [
    {
     "name": "stdout",
     "output_type": "stream",
     "text": [
      "Iteration 1, loss = 1.24068581\n",
      "Iteration 2, loss = 1.42800110\n",
      "Iteration 3, loss = 1.35102224\n",
      "Iteration 4, loss = 1.21187164\n",
      "Iteration 5, loss = 1.10461368\n",
      "Iteration 6, loss = 1.12965479\n",
      "Iteration 7, loss = 1.21355668\n",
      "Iteration 8, loss = 1.21042412\n",
      "Iteration 9, loss = 1.15064608\n",
      "Iteration 10, loss = 1.10487830\n",
      "Iteration 11, loss = 1.10118328\n",
      "Iteration 12, loss = 1.12233951\n",
      "Iteration 13, loss = 1.14352576\n",
      "Iteration 14, loss = 1.15152544\n",
      "Iteration 15, loss = 1.14340191\n",
      "Iteration 16, loss = 1.12456566\n",
      "Iteration 17, loss = 1.10576672\n",
      "Iteration 18, loss = 1.09716025\n",
      "Iteration 19, loss = 1.10188549\n",
      "Iteration 20, loss = 1.11357729\n",
      "Iteration 21, loss = 1.12144676\n",
      "Iteration 22, loss = 1.11938189\n",
      "Iteration 23, loss = 1.11001679\n",
      "Iteration 24, loss = 1.10074267\n",
      "Iteration 25, loss = 1.09713271\n",
      "Iteration 26, loss = 1.09952078\n",
      "Iteration 27, loss = 1.10452264\n",
      "Iteration 28, loss = 1.10814273\n",
      "Iteration 29, loss = 1.10826609\n",
      "Training loss did not improve more than tol=0.000100 for 10 consecutive epochs. Stopping.\n"
     ]
    },
    {
     "data": {
      "text/plain": [
       "MLPClassifier(activation='logistic', hidden_layer_sizes=(784, 228), verbose=2)"
      ]
     },
     "execution_count": 29,
     "metadata": {},
     "output_type": "execute_result"
    }
   ],
   "source": [
    "from sklearn.neural_network import MLPClassifier\n",
    "\n",
    "nn = MLPClassifier(hidden_layer_sizes=(784, 228), activation='logistic', verbose=2)\n",
    "nn.fit(xtrain, ytrain.ravel())"
   ]
  },
  {
   "cell_type": "code",
   "execution_count": 30,
   "metadata": {},
   "outputs": [
    {
     "data": {
      "text/plain": [
       "array([False,  True, False, False, False,  True,  True, False,  True,\n",
       "       False, False, False,  True, False, False, False, False, False,\n",
       "       False, False, False,  True,  True, False, False, False, False,\n",
       "       False, False, False])"
      ]
     },
     "execution_count": 30,
     "metadata": {},
     "output_type": "execute_result"
    }
   ],
   "source": [
    "ypred = nn.predict(xtest)\n",
    "y_test == ypred"
   ]
  },
  {
   "cell_type": "code",
   "execution_count": 31,
   "metadata": {},
   "outputs": [
    {
     "data": {
      "text/plain": [
       "<sklearn.metrics._plot.confusion_matrix.ConfusionMatrixDisplay at 0x1ab2b93df10>"
      ]
     },
     "execution_count": 31,
     "metadata": {},
     "output_type": "execute_result"
    },
    {
     "data": {
      "image/png": "[encoded data removed]",
      "text/plain": [
       "<Figure size 432x288 with 2 Axes>"
      ]
     },
     "metadata": {
      "needs_background": "light"
     },
     "output_type": "display_data"
    }
   ],
   "source": [
    "from sklearn.metrics import plot_confusion_matrix\n",
    "plot_confusion_matrix(nn, xtrain, ytrain)"
   ]
  },
  {
   "cell_type": "code",
   "execution_count": null,
   "metadata": {},
   "outputs": [],
   "source": []
  }
 ],
 "metadata": {
  "interpreter": {
   "hash": "14a336a61cfaefff504b47e2b8e6e50961f0feafa7b211f8ff23081790c52144"
  },
  "kernelspec": {
   "display_name": "Python 3.9.7 64-bit",
   "language": "python",
   "name": "python3"
  },
  "language_info": {
   "codemirror_mode": {
    "name": "ipython",
    "version": 3
   },
   "file_extension": ".py",
   "mimetype": "text/x-python",
   "name": "python",
   "nbconvert_exporter": "python",
   "pygments_lexer": "ipython3",
   "version": "3.9.7"
  },
  "orig_nbformat": 4
 },
 "nbformat": 4,
 "nbformat_minor": 2
}
