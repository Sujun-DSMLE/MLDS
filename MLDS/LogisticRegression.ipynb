{
 "cells": [
  {
   "cell_type": "code",
   "execution_count": 1,
   "metadata": {},
   "outputs": [],
   "source": [
    "## IMporting Libs\n",
    "import numpy as np\n",
    "import pandas as pd\n",
    "import matplotlib.pyplot as plt"
   ]
  },
  {
   "cell_type": "code",
   "execution_count": 3,
   "metadata": {},
   "outputs": [
    {
     "data": {
      "text/html": [
       "<div>\n",
       "<style scoped>\n",
       "    .dataframe tbody tr th:only-of-type {\n",
       "        vertical-align: middle;\n",
       "    }\n",
       "\n",
       "    .dataframe tbody tr th {\n",
       "        vertical-align: top;\n",
       "    }\n",
       "\n",
       "    .dataframe thead th {\n",
       "        text-align: right;\n",
       "    }\n",
       "</style>\n",
       "<table border=\"1\" class=\"dataframe\">\n",
       "  <thead>\n",
       "    <tr style=\"text-align: right;\">\n",
       "      <th></th>\n",
       "      <th>Id</th>\n",
       "      <th>SepalLengthCm</th>\n",
       "      <th>SepalWidthCm</th>\n",
       "      <th>PetalLengthCm</th>\n",
       "      <th>PetalWidthCm</th>\n",
       "      <th>Species</th>\n",
       "    </tr>\n",
       "  </thead>\n",
       "  <tbody>\n",
       "    <tr>\n",
       "      <th>0</th>\n",
       "      <td>1</td>\n",
       "      <td>5.1</td>\n",
       "      <td>3.5</td>\n",
       "      <td>1.4</td>\n",
       "      <td>0.2</td>\n",
       "      <td>Iris-setosa</td>\n",
       "    </tr>\n",
       "    <tr>\n",
       "      <th>1</th>\n",
       "      <td>2</td>\n",
       "      <td>4.9</td>\n",
       "      <td>3.0</td>\n",
       "      <td>1.4</td>\n",
       "      <td>0.2</td>\n",
       "      <td>Iris-setosa</td>\n",
       "    </tr>\n",
       "    <tr>\n",
       "      <th>2</th>\n",
       "      <td>3</td>\n",
       "      <td>4.7</td>\n",
       "      <td>3.2</td>\n",
       "      <td>1.3</td>\n",
       "      <td>0.2</td>\n",
       "      <td>Iris-setosa</td>\n",
       "    </tr>\n",
       "    <tr>\n",
       "      <th>3</th>\n",
       "      <td>4</td>\n",
       "      <td>4.6</td>\n",
       "      <td>3.1</td>\n",
       "      <td>1.5</td>\n",
       "      <td>0.2</td>\n",
       "      <td>Iris-setosa</td>\n",
       "    </tr>\n",
       "    <tr>\n",
       "      <th>4</th>\n",
       "      <td>5</td>\n",
       "      <td>5.0</td>\n",
       "      <td>3.6</td>\n",
       "      <td>1.4</td>\n",
       "      <td>0.2</td>\n",
       "      <td>Iris-setosa</td>\n",
       "    </tr>\n",
       "  </tbody>\n",
       "</table>\n",
       "</div>"
      ],
      "text/plain": [
       "   Id  SepalLengthCm  SepalWidthCm  PetalLengthCm  PetalWidthCm      Species\n",
       "0   1            5.1           3.5            1.4           0.2  Iris-setosa\n",
       "1   2            4.9           3.0            1.4           0.2  Iris-setosa\n",
       "2   3            4.7           3.2            1.3           0.2  Iris-setosa\n",
       "3   4            4.6           3.1            1.5           0.2  Iris-setosa\n",
       "4   5            5.0           3.6            1.4           0.2  Iris-setosa"
      ]
     },
     "execution_count": 3,
     "metadata": {},
     "output_type": "execute_result"
    }
   ],
   "source": [
    "## data gathering\n",
    "data = pd.read_csv('iris.csv')\n",
    "data.head()"
   ]
  },
  {
   "cell_type": "code",
   "execution_count": 4,
   "metadata": {},
   "outputs": [
    {
     "data": {
      "text/html": [
       "<div>\n",
       "<style scoped>\n",
       "    .dataframe tbody tr th:only-of-type {\n",
       "        vertical-align: middle;\n",
       "    }\n",
       "\n",
       "    .dataframe tbody tr th {\n",
       "        vertical-align: top;\n",
       "    }\n",
       "\n",
       "    .dataframe thead th {\n",
       "        text-align: right;\n",
       "    }\n",
       "</style>\n",
       "<table border=\"1\" class=\"dataframe\">\n",
       "  <thead>\n",
       "    <tr style=\"text-align: right;\">\n",
       "      <th></th>\n",
       "      <th>SepalLengthCm</th>\n",
       "      <th>SepalWidthCm</th>\n",
       "      <th>PetalLengthCm</th>\n",
       "      <th>PetalWidthCm</th>\n",
       "      <th>Species</th>\n",
       "    </tr>\n",
       "  </thead>\n",
       "  <tbody>\n",
       "    <tr>\n",
       "      <th>0</th>\n",
       "      <td>5.1</td>\n",
       "      <td>3.5</td>\n",
       "      <td>1.4</td>\n",
       "      <td>0.2</td>\n",
       "      <td>Iris-setosa</td>\n",
       "    </tr>\n",
       "    <tr>\n",
       "      <th>1</th>\n",
       "      <td>4.9</td>\n",
       "      <td>3.0</td>\n",
       "      <td>1.4</td>\n",
       "      <td>0.2</td>\n",
       "      <td>Iris-setosa</td>\n",
       "    </tr>\n",
       "    <tr>\n",
       "      <th>2</th>\n",
       "      <td>4.7</td>\n",
       "      <td>3.2</td>\n",
       "      <td>1.3</td>\n",
       "      <td>0.2</td>\n",
       "      <td>Iris-setosa</td>\n",
       "    </tr>\n",
       "    <tr>\n",
       "      <th>3</th>\n",
       "      <td>4.6</td>\n",
       "      <td>3.1</td>\n",
       "      <td>1.5</td>\n",
       "      <td>0.2</td>\n",
       "      <td>Iris-setosa</td>\n",
       "    </tr>\n",
       "    <tr>\n",
       "      <th>4</th>\n",
       "      <td>5.0</td>\n",
       "      <td>3.6</td>\n",
       "      <td>1.4</td>\n",
       "      <td>0.2</td>\n",
       "      <td>Iris-setosa</td>\n",
       "    </tr>\n",
       "  </tbody>\n",
       "</table>\n",
       "</div>"
      ],
      "text/plain": [
       "   SepalLengthCm  SepalWidthCm  PetalLengthCm  PetalWidthCm      Species\n",
       "0            5.1           3.5            1.4           0.2  Iris-setosa\n",
       "1            4.9           3.0            1.4           0.2  Iris-setosa\n",
       "2            4.7           3.2            1.3           0.2  Iris-setosa\n",
       "3            4.6           3.1            1.5           0.2  Iris-setosa\n",
       "4            5.0           3.6            1.4           0.2  Iris-setosa"
      ]
     },
     "execution_count": 4,
     "metadata": {},
     "output_type": "execute_result"
    }
   ],
   "source": [
    "## Data Pre-Processing\n",
    "data.drop(['Id'], axis=1, inplace=True)\n",
    "data.head()"
   ]
  },
  {
   "cell_type": "code",
   "execution_count": 5,
   "metadata": {},
   "outputs": [
    {
     "name": "stderr",
     "output_type": "stream",
     "text": [
      "C:\\Python3.9\\lib\\site-packages\\sklearn\\utils\\validation.py:63: DataConversionWarning: A column-vector y was passed when a 1d array was expected. Please change the shape of y to (n_samples, ), for example using ravel().\n",
      "  return f(*args, **kwargs)\n"
     ]
    },
    {
     "data": {
      "text/plain": [
       "array([0, 0, 0, 0, 0, 0, 0, 0, 0, 0, 0, 0, 0, 0, 0, 0, 0, 0, 0, 0, 0, 0,\n",
       "       0, 0, 0, 0, 0, 0, 0, 0, 0, 0, 0, 0, 0, 0, 0, 0, 0, 0, 0, 0, 0, 0,\n",
       "       0, 0, 0, 0, 0, 0, 1, 1, 1, 1, 1, 1, 1, 1, 1, 1, 1, 1, 1, 1, 1, 1,\n",
       "       1, 1, 1, 1, 1, 1, 1, 1, 1, 1, 1, 1, 1, 1, 1, 1, 1, 1, 1, 1, 1, 1,\n",
       "       1, 1, 1, 1, 1, 1, 1, 1, 1, 1, 1, 1, 2, 2, 2, 2, 2, 2, 2, 2, 2, 2,\n",
       "       2, 2, 2, 2, 2, 2, 2, 2, 2, 2, 2, 2, 2, 2, 2, 2, 2, 2, 2, 2, 2, 2,\n",
       "       2, 2, 2, 2, 2, 2, 2, 2, 2, 2, 2, 2, 2, 2, 2, 2, 2, 2])"
      ]
     },
     "execution_count": 5,
     "metadata": {},
     "output_type": "execute_result"
    }
   ],
   "source": [
    "## Labeling\n",
    "from sklearn.preprocessing import LabelEncoder\n",
    "\n",
    "encoder = LabelEncoder()\n",
    "encodedY = encoder.fit(data[['Species']])\n",
    "labeledY = encoder.transform(data[['Species']])\n",
    "labeledY"
   ]
  },
  {
   "cell_type": "code",
   "execution_count": 10,
   "metadata": {},
   "outputs": [
    {
     "data": {
      "text/plain": [
       "array([[0.22222222, 0.625     ],\n",
       "       [0.16666667, 0.41666667],\n",
       "       [0.11111111, 0.5       ],\n",
       "       [0.08333333, 0.45833333],\n",
       "       [0.19444444, 0.66666667],\n",
       "       [0.30555556, 0.79166667],\n",
       "       [0.08333333, 0.58333333],\n",
       "       [0.19444444, 0.58333333],\n",
       "       [0.02777778, 0.375     ],\n",
       "       [0.16666667, 0.45833333],\n",
       "       [0.30555556, 0.70833333],\n",
       "       [0.13888889, 0.58333333],\n",
       "       [0.13888889, 0.41666667],\n",
       "       [0.        , 0.41666667],\n",
       "       [0.41666667, 0.83333333],\n",
       "       [0.38888889, 1.        ],\n",
       "       [0.30555556, 0.79166667],\n",
       "       [0.22222222, 0.625     ],\n",
       "       [0.38888889, 0.75      ],\n",
       "       [0.22222222, 0.75      ],\n",
       "       [0.30555556, 0.58333333],\n",
       "       [0.22222222, 0.70833333],\n",
       "       [0.08333333, 0.66666667],\n",
       "       [0.22222222, 0.54166667],\n",
       "       [0.13888889, 0.58333333],\n",
       "       [0.19444444, 0.41666667],\n",
       "       [0.19444444, 0.58333333],\n",
       "       [0.25      , 0.625     ],\n",
       "       [0.25      , 0.58333333],\n",
       "       [0.11111111, 0.5       ],\n",
       "       [0.13888889, 0.45833333],\n",
       "       [0.30555556, 0.58333333],\n",
       "       [0.25      , 0.875     ],\n",
       "       [0.33333333, 0.91666667],\n",
       "       [0.16666667, 0.45833333],\n",
       "       [0.19444444, 0.5       ],\n",
       "       [0.33333333, 0.625     ],\n",
       "       [0.16666667, 0.45833333],\n",
       "       [0.02777778, 0.41666667],\n",
       "       [0.22222222, 0.58333333],\n",
       "       [0.19444444, 0.625     ],\n",
       "       [0.05555556, 0.125     ],\n",
       "       [0.02777778, 0.5       ],\n",
       "       [0.19444444, 0.625     ],\n",
       "       [0.22222222, 0.75      ],\n",
       "       [0.13888889, 0.41666667],\n",
       "       [0.22222222, 0.75      ],\n",
       "       [0.08333333, 0.5       ],\n",
       "       [0.27777778, 0.70833333],\n",
       "       [0.19444444, 0.54166667],\n",
       "       [0.75      , 0.5       ],\n",
       "       [0.58333333, 0.5       ],\n",
       "       [0.72222222, 0.45833333],\n",
       "       [0.33333333, 0.125     ],\n",
       "       [0.61111111, 0.33333333],\n",
       "       [0.38888889, 0.33333333],\n",
       "       [0.55555556, 0.54166667],\n",
       "       [0.16666667, 0.16666667],\n",
       "       [0.63888889, 0.375     ],\n",
       "       [0.25      , 0.29166667],\n",
       "       [0.19444444, 0.        ],\n",
       "       [0.44444444, 0.41666667],\n",
       "       [0.47222222, 0.08333333],\n",
       "       [0.5       , 0.375     ],\n",
       "       [0.36111111, 0.375     ],\n",
       "       [0.66666667, 0.45833333],\n",
       "       [0.36111111, 0.41666667],\n",
       "       [0.41666667, 0.29166667],\n",
       "       [0.52777778, 0.08333333],\n",
       "       [0.36111111, 0.20833333],\n",
       "       [0.44444444, 0.5       ],\n",
       "       [0.5       , 0.33333333],\n",
       "       [0.55555556, 0.20833333],\n",
       "       [0.5       , 0.33333333],\n",
       "       [0.58333333, 0.375     ],\n",
       "       [0.63888889, 0.41666667],\n",
       "       [0.69444444, 0.33333333],\n",
       "       [0.66666667, 0.41666667],\n",
       "       [0.47222222, 0.375     ],\n",
       "       [0.38888889, 0.25      ],\n",
       "       [0.33333333, 0.16666667],\n",
       "       [0.33333333, 0.16666667],\n",
       "       [0.41666667, 0.29166667],\n",
       "       [0.47222222, 0.29166667],\n",
       "       [0.30555556, 0.41666667],\n",
       "       [0.47222222, 0.58333333],\n",
       "       [0.66666667, 0.45833333],\n",
       "       [0.55555556, 0.125     ],\n",
       "       [0.36111111, 0.41666667],\n",
       "       [0.33333333, 0.20833333],\n",
       "       [0.33333333, 0.25      ],\n",
       "       [0.5       , 0.41666667],\n",
       "       [0.41666667, 0.25      ],\n",
       "       [0.19444444, 0.125     ],\n",
       "       [0.36111111, 0.29166667],\n",
       "       [0.38888889, 0.41666667],\n",
       "       [0.38888889, 0.375     ],\n",
       "       [0.52777778, 0.375     ],\n",
       "       [0.22222222, 0.20833333],\n",
       "       [0.38888889, 0.33333333],\n",
       "       [0.55555556, 0.54166667],\n",
       "       [0.41666667, 0.29166667],\n",
       "       [0.77777778, 0.41666667],\n",
       "       [0.55555556, 0.375     ],\n",
       "       [0.61111111, 0.41666667],\n",
       "       [0.91666667, 0.41666667],\n",
       "       [0.16666667, 0.20833333],\n",
       "       [0.83333333, 0.375     ],\n",
       "       [0.66666667, 0.20833333],\n",
       "       [0.80555556, 0.66666667],\n",
       "       [0.61111111, 0.5       ],\n",
       "       [0.58333333, 0.29166667],\n",
       "       [0.69444444, 0.41666667],\n",
       "       [0.38888889, 0.20833333],\n",
       "       [0.41666667, 0.33333333],\n",
       "       [0.58333333, 0.5       ],\n",
       "       [0.61111111, 0.41666667],\n",
       "       [0.94444444, 0.75      ],\n",
       "       [0.94444444, 0.25      ],\n",
       "       [0.47222222, 0.08333333],\n",
       "       [0.72222222, 0.5       ],\n",
       "       [0.36111111, 0.33333333],\n",
       "       [0.94444444, 0.33333333],\n",
       "       [0.55555556, 0.29166667],\n",
       "       [0.66666667, 0.54166667],\n",
       "       [0.80555556, 0.5       ],\n",
       "       [0.52777778, 0.33333333],\n",
       "       [0.5       , 0.41666667],\n",
       "       [0.58333333, 0.33333333],\n",
       "       [0.80555556, 0.41666667],\n",
       "       [0.86111111, 0.33333333],\n",
       "       [1.        , 0.75      ],\n",
       "       [0.58333333, 0.33333333],\n",
       "       [0.55555556, 0.33333333],\n",
       "       [0.5       , 0.25      ],\n",
       "       [0.94444444, 0.41666667],\n",
       "       [0.55555556, 0.58333333],\n",
       "       [0.58333333, 0.45833333],\n",
       "       [0.47222222, 0.41666667],\n",
       "       [0.72222222, 0.45833333],\n",
       "       [0.66666667, 0.45833333],\n",
       "       [0.72222222, 0.45833333],\n",
       "       [0.41666667, 0.29166667],\n",
       "       [0.69444444, 0.5       ],\n",
       "       [0.66666667, 0.54166667],\n",
       "       [0.66666667, 0.41666667],\n",
       "       [0.55555556, 0.20833333],\n",
       "       [0.61111111, 0.41666667],\n",
       "       [0.52777778, 0.58333333],\n",
       "       [0.44444444, 0.41666667]])"
      ]
     },
     "execution_count": 10,
     "metadata": {},
     "output_type": "execute_result"
    }
   ],
   "source": [
    "## Scaling\n",
    "from sklearn.preprocessing import StandardScaler, MinMaxScaler\n",
    "\n",
    "scaler = MinMaxScaler()\n",
    "scaledX = scaler.fit_transform(data[['SepalLengthCm', 'SepalWidthCm']])\n",
    "scaledX"
   ]
  },
  {
   "cell_type": "code",
   "execution_count": 11,
   "metadata": {},
   "outputs": [
    {
     "data": {
      "text/plain": [
       "Index(['SepalLengthCm', 'SepalWidthCm', 'PetalLengthCm', 'PetalWidthCm',\n",
       "       'Species'],\n",
       "      dtype='object')"
      ]
     },
     "execution_count": 11,
     "metadata": {},
     "output_type": "execute_result"
    }
   ],
   "source": [
    "data.columns"
   ]
  },
  {
   "cell_type": "code",
   "execution_count": 12,
   "metadata": {},
   "outputs": [
    {
     "data": {
      "text/plain": [
       "((120, 2), (120,))"
      ]
     },
     "execution_count": 12,
     "metadata": {},
     "output_type": "execute_result"
    }
   ],
   "source": [
    "## Divide Train Test Data\n",
    "from sklearn.model_selection import train_test_split\n",
    "\n",
    "xtrain, xtest, ytrain, ytest = train_test_split(\n",
    "    scaledX, labeledY, \n",
    "    test_size=0.2, random_state=49\n",
    ")\n",
    "xtrain.shape, ytrain.shape"
   ]
  },
  {
   "cell_type": "code",
   "execution_count": 20,
   "metadata": {},
   "outputs": [
    {
     "data": {
      "text/plain": [
       "array([ True,  True,  True,  True,  True,  True, False,  True,  True,\n",
       "        True,  True,  True,  True, False,  True, False,  True,  True,\n",
       "       False,  True,  True, False,  True,  True,  True, False,  True,\n",
       "        True,  True, False])"
      ]
     },
     "execution_count": 20,
     "metadata": {},
     "output_type": "execute_result"
    }
   ],
   "source": [
    "#Modelling\n",
    "from sklearn import linear_model\n",
    "\n",
    "## Init\n",
    "model = linear_model.LogisticRegression()\n",
    "\n",
    "## train\n",
    "model.fit(xtrain, ytrain)\n",
    "\n",
    "## Test Prediction\n",
    "ypred = model.predict(xtest)\n",
    "ypred == ytest"
   ]
  },
  {
   "cell_type": "code",
   "execution_count": 21,
   "metadata": {},
   "outputs": [
    {
     "name": "stdout",
     "output_type": "stream",
     "text": [
      "Confusion Matrix: \n",
      " [[8 0 0]\n",
      " [1 7 2]\n",
      " [0 4 8]]\n",
      "F1 Score:  0.7641117052881758\n"
     ]
    }
   ],
   "source": [
    "## Evaluation\n",
    "from sklearn.metrics import confusion_matrix, f1_score\n",
    "print('Confusion Matrix: \\n', confusion_matrix(ytest, ypred))\n",
    "print('F1 Score: ', f1_score(ytest, ypred, average='weighted'))"
   ]
  },
  {
   "cell_type": "code",
   "execution_count": 23,
   "metadata": {},
   "outputs": [
    {
     "data": {
      "text/plain": [
       "<sklearn.metrics._plot.confusion_matrix.ConfusionMatrixDisplay at 0x127708905e0>"
      ]
     },
     "execution_count": 23,
     "metadata": {},
     "output_type": "execute_result"
    },
    {
     "data": {
      "image/png": "[encoded data removed]",
      "text/plain": [
       "<Figure size 432x288 with 2 Axes>"
      ]
     },
     "metadata": {
      "needs_background": "light"
     },
     "output_type": "display_data"
    },
    {
     "data": {
      "image/png": "[encoded data removed]",
      "text/plain": [
       "<Figure size 432x288 with 2 Axes>"
      ]
     },
     "metadata": {
      "needs_background": "light"
     },
     "output_type": "display_data"
    }
   ],
   "source": [
    "## Evaluation Plot\n",
    "from sklearn.metrics import plot_confusion_matrix\n",
    "\n",
    "plot_confusion_matrix(model, xtrain, ytrain)\n",
    "plot_confusion_matrix(model, xtest, ytest)"
   ]
  },
  {
   "cell_type": "code",
   "execution_count": 25,
   "metadata": {},
   "outputs": [],
   "source": [
    "setosa = data[data['Species'] == 'Iris-setosa']\n",
    "versicolor = data[data['Species'] == 'Iris-versicolor']\n",
    "virginica = data[data['Species'] == 'Iris-virginica']"
   ]
  },
  {
   "cell_type": "code",
   "execution_count": 26,
   "metadata": {},
   "outputs": [
    {
     "data": {
      "image/png": "[encoded data removed]",
      "text/plain": [
       "<Figure size 1440x720 with 1 Axes>"
      ]
     },
     "metadata": {
      "needs_background": "light"
     },
     "output_type": "display_data"
    }
   ],
   "source": [
    "fig, axes = plt.subplots(1,1, figsize=(20,10))\n",
    "axes.scatter(setosa[['SepalLengthCm']], setosa[['SepalWidthCm']], label = 'Iris-Setosa')\n",
    "axes.scatter(versicolor[['SepalLengthCm']], versicolor[['SepalWidthCm']], label = 'Iris-Versicolor')\n",
    "axes.scatter(virginica[['SepalLengthCm']], virginica[['SepalWidthCm']], label = 'Iris-Virginica')\n",
    "plt.legend()\n",
    "plt.show()"
   ]
  },
  {
   "cell_type": "code",
   "execution_count": 28,
   "metadata": {},
   "outputs": [
    {
     "data": {
      "text/plain": [
       "{'C': 1.0,\n",
       " 'class_weight': None,\n",
       " 'dual': False,\n",
       " 'fit_intercept': True,\n",
       " 'intercept_scaling': 1,\n",
       " 'l1_ratio': None,\n",
       " 'max_iter': 100,\n",
       " 'multi_class': 'auto',\n",
       " 'n_jobs': None,\n",
       " 'penalty': 'l2',\n",
       " 'random_state': None,\n",
       " 'solver': 'lbfgs',\n",
       " 'tol': 0.0001,\n",
       " 'verbose': 0,\n",
       " 'warm_start': False}"
      ]
     },
     "execution_count": 28,
     "metadata": {},
     "output_type": "execute_result"
    }
   ],
   "source": [
    "## Task \n",
    "linear_model.LogisticRegression().get_params()"
   ]
  },
  {
   "cell_type": "code",
   "execution_count": 34,
   "metadata": {},
   "outputs": [
    {
     "name": "stderr",
     "output_type": "stream",
     "text": [
      "C:\\Python3.9\\lib\\site-packages\\sklearn\\model_selection\\_search.py:922: UserWarning: One or more of the test scores are non-finite: [       nan        nan        nan ... 0.79166667 0.79166667        nan]\n",
      "  warnings.warn(\n"
     ]
    },
    {
     "data": {
      "text/plain": [
       "GridSearchCV(cv=5, estimator=LogisticRegression(), n_jobs=-1,\n",
       "             param_grid={'C': [3, 4, 5, 6, 7, 8, 9, 10, 11, 12, 13, 14],\n",
       "                         'max_iter': [100, 200, 300, 400, 500, 600, 700, 800,\n",
       "                                      900],\n",
       "                         'multi_class': ['ovo', 'ovr'],\n",
       "                         'penalty': ['l1', 'l2', 'elasticnet', 'none'],\n",
       "                         'solver': ['lbfgs', 'newton-cg', 'saga', 'sag',\n",
       "                                    'liblinear']},\n",
       "             scoring='accuracy')"
      ]
     },
     "execution_count": 34,
     "metadata": {},
     "output_type": "execute_result"
    }
   ],
   "source": [
    "## Finding Best K through Hyperparameter tuning\n",
    "from sklearn import model_selection\n",
    "gridmodel = linear_model.LogisticRegression()\n",
    "\n",
    "##\n",
    "grid = model_selection.GridSearchCV(\n",
    "    gridmodel,\n",
    "    param_grid={\n",
    "        'penalty': ['l1', 'l2','elasticnet', 'none'],\n",
    "        'max_iter': list(range(100,1000, 100)),\n",
    "        'solver': ['lbfgs','newton-cg','saga','sag', 'liblinear'],\n",
    "        'C': list(range(3,15, 1)),\n",
    "        'multi_class': ['ovo','ovr'],\n",
    "    },cv=5, n_jobs=-1, scoring='accuracy'\n",
    ")\n",
    "grid.fit(xtrain, ytrain)"
   ]
  },
  {
   "cell_type": "code",
   "execution_count": 35,
   "metadata": {},
   "outputs": [
    {
     "data": {
      "text/plain": [
       "({'C': 5,\n",
       "  'max_iter': 100,\n",
       "  'multi_class': 'ovr',\n",
       "  'penalty': 'l2',\n",
       "  'solver': 'liblinear'},\n",
       " LogisticRegression(C=5, multi_class='ovr', solver='liblinear'))"
      ]
     },
     "execution_count": 35,
     "metadata": {},
     "output_type": "execute_result"
    }
   ],
   "source": [
    "grid.best_params_, grid.best_estimator_"
   ]
  },
  {
   "cell_type": "code",
   "execution_count": 36,
   "metadata": {},
   "outputs": [
    {
     "data": {
      "image/png": "[encoded data removed]",
      "text/plain": [
       "<Figure size 1440x720 with 1 Axes>"
      ]
     },
     "metadata": {
      "needs_background": "light"
     },
     "output_type": "display_data"
    }
   ],
   "source": [
    "## Visualize Model\n",
    "finalmodel = grid.best_estimator_\n",
    "finalmodel.fit(xtrain, ytrain)\n",
    "\n",
    "##\n",
    "xmin, xmax = xtrain[:, 0].min(), xtrain[:, 0].max()\n",
    "ymin, ymax = xtrain[:, 1].min(), xtrain[:, 1].max()\n",
    "xmin, xmax, ymin, ymax\n",
    "\n",
    "xx, yy = np.meshgrid(\n",
    "    np.arange(xmin, xmax, 0.2), np.arange(ymin, ymax, 0.2)\n",
    ")\n",
    "# np.c_[xx.ravel(), yy.ravel()]\n",
    "yhat = finalmodel.predict(np.c_[xx.ravel(), yy.ravel()])\n",
    "yhat.shape, xx.shape\n",
    "##\n",
    "yhat = yhat.reshape(xx.shape)\n",
    "yhat.shape\n",
    "\n",
    "## Plotting\n",
    "plt.figure(1, figsize=(20,10))\n",
    "plt.set_cmap(plt.cm.Paired)\n",
    "plt.pcolormesh(xx, yy, yhat, shading='auto')\n",
    "\n",
    "plt.scatter(scaledX[:,0], scaledX[:, 1], c = labeledY, edgecolors='black')\n",
    "plt.xlim(xx.min(), xx.max())\n",
    "plt.ylim(yy.min(), yy.max())\n",
    "plt.show()"
   ]
  }
 ],
 "metadata": {
  "interpreter": {
   "hash": "14a336a61cfaefff504b47e2b8e6e50961f0feafa7b211f8ff23081790c52144"
  },
  "kernelspec": {
   "display_name": "Python 3.9.7 64-bit",
   "name": "python3"
  },
  "language_info": {
   "codemirror_mode": {
    "name": "ipython",
    "version": 3
   },
   "file_extension": ".py",
   "mimetype": "text/x-python",
   "name": "python",
   "nbconvert_exporter": "python",
   "pygments_lexer": "ipython3",
   "version": "3.9.7"
  },
  "orig_nbformat": 4
 },
 "nbformat": 4,
 "nbformat_minor": 2
}
