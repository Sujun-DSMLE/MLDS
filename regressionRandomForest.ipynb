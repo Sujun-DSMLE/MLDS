{
 "cells": [
  {
   "cell_type": "markdown",
   "source": [
    "# 8 Steps Of Machine Learning\r\n",
    "* Data Gathering\r\n",
    "* Data pre-processing\r\n",
    "* Feature Engineering\r\n",
    "* Choosing Model\r\n",
    "* Training Model\r\n",
    "* Test Model/ Model Evaluation\r\n",
    "* Parameter Tuning\r\n",
    "* Prediction\r\n"
   ],
   "metadata": {}
  },
  {
   "cell_type": "code",
   "execution_count": 33,
   "source": [
    "import numpy as np\r\n",
    "import pandas as pd\r\n",
    "import matplotlib.pyplot as plt\r\n",
    "%matplotlib inline"
   ],
   "outputs": [],
   "metadata": {}
  },
  {
   "cell_type": "code",
   "execution_count": 34,
   "source": [
    "import random\r\n",
    "random.seed(41)"
   ],
   "outputs": [],
   "metadata": {}
  },
  {
   "cell_type": "code",
   "execution_count": 35,
   "source": [
    "# Data Gathering\r\n",
    "from sklearn.metrics import mean_squared_error, r2_score\r\n",
    "from sklearn import linear_model\r\n",
    "from sklearn import model_selection\r\n",
    "import seaborn as sns\r\n",
    "df = pd.read_csv(\"FuelConsumption.csv\")\r\n",
    "df.head()\r\n",
    "df.describe()\r\n",
    "\r\n",
    "#data Pre-Processing\r\n",
    "df.info()\r\n",
    "data = df[[\"ENGINESIZE\", \"CYLINDERS\", \"FUELCONSUMPTION_CITY\",\r\n",
    "           \"FUELCONSUMPTION_HWY\", \"FUELCONSUMPTION_COMB\", \"CO2EMISSIONS\"]]\r\n",
    "data.info()\r\n",
    "\r\n",
    "## Feature Engineering Analyssis\r\n",
    "corr = data.corr()\r\n",
    "# sns.heatmap(corr)\r\n",
    "# sns.pairplot(data)\r\n",
    "data = df[[\"ENGINESIZE\", \"CYLINDERS\", \"FUELCONSUMPTION_CITY\",\r\n",
    "           \"FUELCONSUMPTION_HWY\", \"FUELCONSUMPTION_COMB\", \"CO2EMISSIONS\"]]\r\n",
    "\r\n",
    "## Split data into training and test set\r\n",
    "X = data[[\"ENGINESIZE\",\"FUELCONSUMPTION_COMB\"]]\r\n",
    "Y = data[[\"CO2EMISSIONS\"]]\r\n",
    "xtrain, xtest, ytrain, ytest = model_selection.train_test_split(\r\n",
    "    X, Y, test_size=0.2, random_state=41)\r\n",
    "\r\n",
    "\r\n"
   ],
   "outputs": [
    {
     "output_type": "stream",
     "name": "stdout",
     "text": [
      "<class 'pandas.core.frame.DataFrame'>\n",
      "RangeIndex: 1067 entries, 0 to 1066\n",
      "Data columns (total 13 columns):\n",
      " #   Column                    Non-Null Count  Dtype  \n",
      "---  ------                    --------------  -----  \n",
      " 0   MODELYEAR                 1067 non-null   int64  \n",
      " 1   MAKE                      1067 non-null   object \n",
      " 2   MODEL                     1067 non-null   object \n",
      " 3   VEHICLECLASS              1067 non-null   object \n",
      " 4   ENGINESIZE                1067 non-null   float64\n",
      " 5   CYLINDERS                 1067 non-null   int64  \n",
      " 6   TRANSMISSION              1067 non-null   object \n",
      " 7   FUELTYPE                  1067 non-null   object \n",
      " 8   FUELCONSUMPTION_CITY      1067 non-null   float64\n",
      " 9   FUELCONSUMPTION_HWY       1067 non-null   float64\n",
      " 10  FUELCONSUMPTION_COMB      1067 non-null   float64\n",
      " 11  FUELCONSUMPTION_COMB_MPG  1067 non-null   int64  \n",
      " 12  CO2EMISSIONS              1067 non-null   int64  \n",
      "dtypes: float64(4), int64(4), object(5)\n",
      "memory usage: 108.5+ KB\n",
      "<class 'pandas.core.frame.DataFrame'>\n",
      "RangeIndex: 1067 entries, 0 to 1066\n",
      "Data columns (total 6 columns):\n",
      " #   Column                Non-Null Count  Dtype  \n",
      "---  ------                --------------  -----  \n",
      " 0   ENGINESIZE            1067 non-null   float64\n",
      " 1   CYLINDERS             1067 non-null   int64  \n",
      " 2   FUELCONSUMPTION_CITY  1067 non-null   float64\n",
      " 3   FUELCONSUMPTION_HWY   1067 non-null   float64\n",
      " 4   FUELCONSUMPTION_COMB  1067 non-null   float64\n",
      " 5   CO2EMISSIONS          1067 non-null   int64  \n",
      "dtypes: float64(4), int64(2)\n",
      "memory usage: 50.1 KB\n"
     ]
    }
   ],
   "metadata": {}
  },
  {
   "cell_type": "code",
   "execution_count": 36,
   "source": [
    "### Modeling\r\n",
    "from sklearn import ensemble\r\n",
    "\r\n",
    "## Initialize\r\n",
    "rf = ensemble.RandomForestRegressor()\r\n",
    "\r\n",
    "## \r\n",
    "rf.fit(xtrain, ytrain.values.ravel())\r\n",
    "\r\n",
    "## Test Prediction\r\n",
    "ypred = rf.predict(xtest)\r\n",
    "ypred, ytest\r\n",
    "## Evaluation\r\n",
    "print(\"MSE: \", mean_squared_error(ypred, ytest))\r\n",
    "print(\"R2 Score: \", r2_score(ypred, ytest))"
   ],
   "outputs": [
    {
     "output_type": "stream",
     "name": "stdout",
     "text": [
      "MSE:  174.34487896638908\n",
      "R2 Score:  0.9564637913477686\n"
     ]
    }
   ],
   "metadata": {}
  },
  {
   "cell_type": "code",
   "execution_count": 37,
   "source": [
    "## Hyper Prameter Tuning\r\n",
    "from sklearn import model_selection\r\n",
    "\r\n",
    "forest = ensemble.RandomForestRegressor()\r\n",
    "\r\n",
    "rgrid = model_selection.RandomizedSearchCV(\r\n",
    "    forest,\r\n",
    "    param_distributions={\r\n",
    "        'max_depth': list(range(3, 40)),\r\n",
    "        'n_estimators': list(range(100,2001, 50)),\r\n",
    "        'max_features': ['auto','sqrt'],\r\n",
    "        'min_samples_split': list(range(3,100,3)),\r\n",
    "        'min_samples_leaf': list(range(3,80,2)),\r\n",
    "        'bootstrap': [True, False],\r\n",
    "    },\r\n",
    "    cv=5, n_jobs=-1, scoring='neg_mean_squared_error', verbose=3\r\n",
    ")\r\n",
    "\r\n",
    "rgrid.fit(xtrain, ytrain)"
   ],
   "outputs": [
    {
     "output_type": "stream",
     "name": "stdout",
     "text": [
      "Fitting 5 folds for each of 10 candidates, totalling 50 fits\n"
     ]
    },
    {
     "output_type": "stream",
     "name": "stderr",
     "text": [
      "C:\\Python3.9\\lib\\site-packages\\sklearn\\model_selection\\_search.py:880: DataConversionWarning: A column-vector y was passed when a 1d array was expected. Please change the shape of y to (n_samples,), for example using ravel().\n",
      "  self.best_estimator_.fit(X, y, **fit_params)\n"
     ]
    },
    {
     "output_type": "execute_result",
     "data": {
      "text/plain": [
       "RandomizedSearchCV(cv=5, estimator=RandomForestRegressor(), n_jobs=-1,\n",
       "                   param_distributions={'bootstrap': [True, False],\n",
       "                                        'max_depth': [3, 4, 5, 6, 7, 8, 9, 10,\n",
       "                                                      11, 12, 13, 14, 15, 16,\n",
       "                                                      17, 18, 19, 20, 21, 22,\n",
       "                                                      23, 24, 25, 26, 27, 28,\n",
       "                                                      29, 30, 31, 32, ...],\n",
       "                                        'max_features': ['auto', 'sqrt'],\n",
       "                                        'min_samples_leaf': [3, 5, 7, 9, 11, 13,\n",
       "                                                             15, 17, 19, 21, 23,\n",
       "                                                             25, 27, 29, 31, 33,\n",
       "                                                             35, 37, 39, 41, 43,\n",
       "                                                             45, 47, 49, 51, 53,\n",
       "                                                             55, 57, 59, 61, ...],\n",
       "                                        'min_samples_split': [3, 6, 9, 12, 15,\n",
       "                                                              18, 21, 24, 27,\n",
       "                                                              30, 33, 36, 39,\n",
       "                                                              42, 45, 48, 51,\n",
       "                                                              54, 57, 60, 63,\n",
       "                                                              66, 69, 72, 75,\n",
       "                                                              78, 81, 84, 87,\n",
       "                                                              90, ...],\n",
       "                                        'n_estimators': [100, 150, 200, 250,\n",
       "                                                         300, 350, 400, 450,\n",
       "                                                         500, 550, 600, 650,\n",
       "                                                         700, 750, 800, 850,\n",
       "                                                         900, 950, 1000, 1050,\n",
       "                                                         1100, 1150, 1200, 1250,\n",
       "                                                         1300, 1350, 1400, 1450,\n",
       "                                                         1500, 1550, ...]},\n",
       "                   scoring='neg_mean_squared_error', verbose=3)"
      ]
     },
     "metadata": {},
     "execution_count": 37
    }
   ],
   "metadata": {}
  },
  {
   "cell_type": "code",
   "execution_count": 38,
   "source": [
    "rgrid.best_params_"
   ],
   "outputs": [
    {
     "output_type": "execute_result",
     "data": {
      "text/plain": [
       "{'n_estimators': 150,\n",
       " 'min_samples_split': 39,\n",
       " 'min_samples_leaf': 27,\n",
       " 'max_features': 'auto',\n",
       " 'max_depth': 15,\n",
       " 'bootstrap': False}"
      ]
     },
     "metadata": {},
     "execution_count": 38
    }
   ],
   "metadata": {}
  },
  {
   "cell_type": "code",
   "execution_count": 39,
   "source": [
    "## Final Model\r\n",
    "ypred = rgrid.predict(xtest)\r\n",
    "## Evaluation\r\n",
    "print(\"MSE: \", mean_squared_error(ypred, ytest))\r\n",
    "print(\"R2 Score: \", r2_score(ypred, ytest))"
   ],
   "outputs": [
    {
     "output_type": "stream",
     "name": "stdout",
     "text": [
      "MSE:  252.3492673156856\n",
      "R2 Score:  0.9352883542187549\n"
     ]
    }
   ],
   "metadata": {}
  },
  {
   "cell_type": "code",
   "execution_count": 40,
   "source": [
    "## Tree Analyssis\r\n",
    "\r\n",
    "## Split data into training and test set\r\n",
    "\r\n",
    "fig, axis = plt.subplots(1,1, figsize=(25,10))\r\n",
    "\r\n",
    "\r\n",
    "## Test Prediction\r\n",
    "ypred = rgrid.predict(xtest)\r\n",
    "## Evaluation\r\n",
    "\r\n",
    "print(\"MSE: \", mean_squared_error(ypred, ytest))\r\n",
    "print(\"R2 Score: \", r2_score(ypred, ytest))\r\n",
    "\r\n",
    "## Visualize\r\n",
    "## Regression Analyssis\r\n",
    "line0 = np.linspace(1, 8.4, 500).reshape(-1, 1)\r\n",
    "line1 = np.linspace(4.7, 26, 500).reshape(-1, 1)\r\n",
    "\r\n",
    "line = pd.DataFrame(\r\n",
    "    {\r\n",
    "        \"EngineSize\": line0[:, 0],\r\n",
    "        \"FuelComb\": line1[:, 0]\r\n",
    "    }\r\n",
    ")\r\n",
    "\r\n",
    "\r\n",
    "axis.scatter(xtest[[\"ENGINESIZE\"]], ytest, label=\"Actual Data\", c=\"hotpink\")\r\n",
    "axis.plot(line[['EngineSize']], rgrid.predict(line),\r\n",
    "          label=\"Regression Line\", c=\"black\", linewidth=4)\r\n",
    "axis.legend()\r\n",
    "axis.set_title(\"Random Forest\")\r\n",
    "axis.set_xlabel(\"Fuel_Comb\")\r\n",
    "axis.set_ylabel(\"CO2Emission\")\r\n",
    "plt.show()"
   ],
   "outputs": [
    {
     "output_type": "stream",
     "name": "stdout",
     "text": [
      "MSE:  252.3492673156856\n",
      "R2 Score:  0.9352883542187549\n"
     ]
    },
    {
     "output_type": "display_data",
     "data": {
      "image/png": "[encoded data removed]",
      "text/plain": [
       "<Figure size 1800x720 with 1 Axes>"
      ]
     },
     "metadata": {
      "needs_background": "light"
     }
    }
   ],
   "metadata": {}
  },
  {
   "cell_type": "code",
   "execution_count": 41,
   "source": [
    "forest.get_params().keys()\r\n"
   ],
   "outputs": [
    {
     "output_type": "execute_result",
     "data": {
      "text/plain": [
       "dict_keys(['bootstrap', 'ccp_alpha', 'criterion', 'max_depth', 'max_features', 'max_leaf_nodes', 'max_samples', 'min_impurity_decrease', 'min_impurity_split', 'min_samples_leaf', 'min_samples_split', 'min_weight_fraction_leaf', 'n_estimators', 'n_jobs', 'oob_score', 'random_state', 'verbose', 'warm_start'])"
      ]
     },
     "metadata": {},
     "execution_count": 41
    }
   ],
   "metadata": {}
  },
  {
   "cell_type": "code",
   "execution_count": 42,
   "source": [
    "## Tree Analyssis\r\n",
    "\r\n",
    "## Split data into training and test set\r\n",
    "\r\n",
    "\r\n",
    "\r\n",
    "\r\n",
    "## Test Prediction\r\n",
    "ypred = rgrid.predict(xtest)\r\n",
    "## Evaluation\r\n",
    "\r\n",
    "print(\"MSE: \", mean_squared_error(ypred, ytest))\r\n",
    "print(\"R2 Score: \", r2_score(ypred, ytest))\r\n",
    "\r\n",
    "## Visualize\r\n",
    "## Regression Analyssis\r\n",
    "line0 = np.linspace(1, 8.4, 500).reshape(-1, 1)\r\n",
    "line1 = np.linspace(4.7, 26, 500).reshape(-1, 1)\r\n",
    "\r\n",
    "line = pd.DataFrame(\r\n",
    "    {\r\n",
    "        \"EngineSize\": line0[:, 0],\r\n",
    "        \"FuelComb\": line1[:, 0]\r\n",
    "    }\r\n",
    ")\r\n",
    "\r\n",
    "fig = plt.figure()\r\n",
    "axes = plt.axes(projection='3d')\r\n",
    "axes.scatter3D(\r\n",
    "    xtest[['ENGINESIZE']], xtest[['FUELCONSUMPTION_COMB']], ytest, label='Data'\r\n",
    ")\r\n",
    "axes.plot3D(\r\n",
    "    line[['EngineSize']].values.ravel(), line[['FuelComb']].values.ravel(), rgrid.predict(line), color='darkorange', label='Regression Line'\r\n",
    ")\r\n",
    "axes.legend()\r\n",
    "axes.set_title(\"Random Forest\")\r\n",
    "axes.set_xlabel(\"ENGINESIZE\")\r\n",
    "axes.set_ylabel('FUELCONSUMPTION')\r\n",
    "axes.set_zlabel(\"CO2Emission\")\r\n",
    "plt.show()"
   ],
   "outputs": [
    {
     "output_type": "stream",
     "name": "stdout",
     "text": [
      "MSE:  252.3492673156856\n",
      "R2 Score:  0.9352883542187549\n"
     ]
    },
    {
     "output_type": "display_data",
     "data": {
      "image/png": "[encoded data removed]",
      "text/plain": [
       "<Figure size 432x288 with 1 Axes>"
      ]
     },
     "metadata": {
      "needs_background": "light"
     }
    }
   ],
   "metadata": {}
  },
  {
   "cell_type": "code",
   "execution_count": 43,
   "source": [
    "line[['EngineSize']].values.ravel()"
   ],
   "outputs": [
    {
     "output_type": "execute_result",
     "data": {
      "text/plain": [
       "array([1.        , 1.01482966, 1.02965932, 1.04448898, 1.05931864,\n",
       "       1.0741483 , 1.08897796, 1.10380762, 1.11863727, 1.13346693,\n",
       "       1.14829659, 1.16312625, 1.17795591, 1.19278557, 1.20761523,\n",
       "       1.22244489, 1.23727455, 1.25210421, 1.26693387, 1.28176353,\n",
       "       1.29659319, 1.31142285, 1.32625251, 1.34108216, 1.35591182,\n",
       "       1.37074148, 1.38557114, 1.4004008 , 1.41523046, 1.43006012,\n",
       "       1.44488978, 1.45971944, 1.4745491 , 1.48937876, 1.50420842,\n",
       "       1.51903808, 1.53386774, 1.54869739, 1.56352705, 1.57835671,\n",
       "       1.59318637, 1.60801603, 1.62284569, 1.63767535, 1.65250501,\n",
       "       1.66733467, 1.68216433, 1.69699399, 1.71182365, 1.72665331,\n",
       "       1.74148297, 1.75631263, 1.77114228, 1.78597194, 1.8008016 ,\n",
       "       1.81563126, 1.83046092, 1.84529058, 1.86012024, 1.8749499 ,\n",
       "       1.88977956, 1.90460922, 1.91943888, 1.93426854, 1.9490982 ,\n",
       "       1.96392786, 1.97875752, 1.99358717, 2.00841683, 2.02324649,\n",
       "       2.03807615, 2.05290581, 2.06773547, 2.08256513, 2.09739479,\n",
       "       2.11222445, 2.12705411, 2.14188377, 2.15671343, 2.17154309,\n",
       "       2.18637275, 2.2012024 , 2.21603206, 2.23086172, 2.24569138,\n",
       "       2.26052104, 2.2753507 , 2.29018036, 2.30501002, 2.31983968,\n",
       "       2.33466934, 2.349499  , 2.36432866, 2.37915832, 2.39398798,\n",
       "       2.40881764, 2.42364729, 2.43847695, 2.45330661, 2.46813627,\n",
       "       2.48296593, 2.49779559, 2.51262525, 2.52745491, 2.54228457,\n",
       "       2.55711423, 2.57194389, 2.58677355, 2.60160321, 2.61643287,\n",
       "       2.63126253, 2.64609218, 2.66092184, 2.6757515 , 2.69058116,\n",
       "       2.70541082, 2.72024048, 2.73507014, 2.7498998 , 2.76472946,\n",
       "       2.77955912, 2.79438878, 2.80921844, 2.8240481 , 2.83887776,\n",
       "       2.85370741, 2.86853707, 2.88336673, 2.89819639, 2.91302605,\n",
       "       2.92785571, 2.94268537, 2.95751503, 2.97234469, 2.98717435,\n",
       "       3.00200401, 3.01683367, 3.03166333, 3.04649299, 3.06132265,\n",
       "       3.0761523 , 3.09098196, 3.10581162, 3.12064128, 3.13547094,\n",
       "       3.1503006 , 3.16513026, 3.17995992, 3.19478958, 3.20961924,\n",
       "       3.2244489 , 3.23927856, 3.25410822, 3.26893788, 3.28376754,\n",
       "       3.29859719, 3.31342685, 3.32825651, 3.34308617, 3.35791583,\n",
       "       3.37274549, 3.38757515, 3.40240481, 3.41723447, 3.43206413,\n",
       "       3.44689379, 3.46172345, 3.47655311, 3.49138277, 3.50621242,\n",
       "       3.52104208, 3.53587174, 3.5507014 , 3.56553106, 3.58036072,\n",
       "       3.59519038, 3.61002004, 3.6248497 , 3.63967936, 3.65450902,\n",
       "       3.66933868, 3.68416834, 3.698998  , 3.71382766, 3.72865731,\n",
       "       3.74348697, 3.75831663, 3.77314629, 3.78797595, 3.80280561,\n",
       "       3.81763527, 3.83246493, 3.84729459, 3.86212425, 3.87695391,\n",
       "       3.89178357, 3.90661323, 3.92144289, 3.93627255, 3.9511022 ,\n",
       "       3.96593186, 3.98076152, 3.99559118, 4.01042084, 4.0252505 ,\n",
       "       4.04008016, 4.05490982, 4.06973948, 4.08456914, 4.0993988 ,\n",
       "       4.11422846, 4.12905812, 4.14388778, 4.15871743, 4.17354709,\n",
       "       4.18837675, 4.20320641, 4.21803607, 4.23286573, 4.24769539,\n",
       "       4.26252505, 4.27735471, 4.29218437, 4.30701403, 4.32184369,\n",
       "       4.33667335, 4.35150301, 4.36633267, 4.38116232, 4.39599198,\n",
       "       4.41082164, 4.4256513 , 4.44048096, 4.45531062, 4.47014028,\n",
       "       4.48496994, 4.4997996 , 4.51462926, 4.52945892, 4.54428858,\n",
       "       4.55911824, 4.5739479 , 4.58877756, 4.60360721, 4.61843687,\n",
       "       4.63326653, 4.64809619, 4.66292585, 4.67775551, 4.69258517,\n",
       "       4.70741483, 4.72224449, 4.73707415, 4.75190381, 4.76673347,\n",
       "       4.78156313, 4.79639279, 4.81122244, 4.8260521 , 4.84088176,\n",
       "       4.85571142, 4.87054108, 4.88537074, 4.9002004 , 4.91503006,\n",
       "       4.92985972, 4.94468938, 4.95951904, 4.9743487 , 4.98917836,\n",
       "       5.00400802, 5.01883768, 5.03366733, 5.04849699, 5.06332665,\n",
       "       5.07815631, 5.09298597, 5.10781563, 5.12264529, 5.13747495,\n",
       "       5.15230461, 5.16713427, 5.18196393, 5.19679359, 5.21162325,\n",
       "       5.22645291, 5.24128257, 5.25611222, 5.27094188, 5.28577154,\n",
       "       5.3006012 , 5.31543086, 5.33026052, 5.34509018, 5.35991984,\n",
       "       5.3747495 , 5.38957916, 5.40440882, 5.41923848, 5.43406814,\n",
       "       5.4488978 , 5.46372745, 5.47855711, 5.49338677, 5.50821643,\n",
       "       5.52304609, 5.53787575, 5.55270541, 5.56753507, 5.58236473,\n",
       "       5.59719439, 5.61202405, 5.62685371, 5.64168337, 5.65651303,\n",
       "       5.67134269, 5.68617234, 5.701002  , 5.71583166, 5.73066132,\n",
       "       5.74549098, 5.76032064, 5.7751503 , 5.78997996, 5.80480962,\n",
       "       5.81963928, 5.83446894, 5.8492986 , 5.86412826, 5.87895792,\n",
       "       5.89378758, 5.90861723, 5.92344689, 5.93827655, 5.95310621,\n",
       "       5.96793587, 5.98276553, 5.99759519, 6.01242485, 6.02725451,\n",
       "       6.04208417, 6.05691383, 6.07174349, 6.08657315, 6.10140281,\n",
       "       6.11623246, 6.13106212, 6.14589178, 6.16072144, 6.1755511 ,\n",
       "       6.19038076, 6.20521042, 6.22004008, 6.23486974, 6.2496994 ,\n",
       "       6.26452906, 6.27935872, 6.29418838, 6.30901804, 6.3238477 ,\n",
       "       6.33867735, 6.35350701, 6.36833667, 6.38316633, 6.39799599,\n",
       "       6.41282565, 6.42765531, 6.44248497, 6.45731463, 6.47214429,\n",
       "       6.48697395, 6.50180361, 6.51663327, 6.53146293, 6.54629259,\n",
       "       6.56112224, 6.5759519 , 6.59078156, 6.60561122, 6.62044088,\n",
       "       6.63527054, 6.6501002 , 6.66492986, 6.67975952, 6.69458918,\n",
       "       6.70941884, 6.7242485 , 6.73907816, 6.75390782, 6.76873747,\n",
       "       6.78356713, 6.79839679, 6.81322645, 6.82805611, 6.84288577,\n",
       "       6.85771543, 6.87254509, 6.88737475, 6.90220441, 6.91703407,\n",
       "       6.93186373, 6.94669339, 6.96152305, 6.97635271, 6.99118236,\n",
       "       7.00601202, 7.02084168, 7.03567134, 7.050501  , 7.06533066,\n",
       "       7.08016032, 7.09498998, 7.10981964, 7.1246493 , 7.13947896,\n",
       "       7.15430862, 7.16913828, 7.18396794, 7.1987976 , 7.21362725,\n",
       "       7.22845691, 7.24328657, 7.25811623, 7.27294589, 7.28777555,\n",
       "       7.30260521, 7.31743487, 7.33226453, 7.34709419, 7.36192385,\n",
       "       7.37675351, 7.39158317, 7.40641283, 7.42124248, 7.43607214,\n",
       "       7.4509018 , 7.46573146, 7.48056112, 7.49539078, 7.51022044,\n",
       "       7.5250501 , 7.53987976, 7.55470942, 7.56953908, 7.58436874,\n",
       "       7.5991984 , 7.61402806, 7.62885772, 7.64368737, 7.65851703,\n",
       "       7.67334669, 7.68817635, 7.70300601, 7.71783567, 7.73266533,\n",
       "       7.74749499, 7.76232465, 7.77715431, 7.79198397, 7.80681363,\n",
       "       7.82164329, 7.83647295, 7.85130261, 7.86613226, 7.88096192,\n",
       "       7.89579158, 7.91062124, 7.9254509 , 7.94028056, 7.95511022,\n",
       "       7.96993988, 7.98476954, 7.9995992 , 8.01442886, 8.02925852,\n",
       "       8.04408818, 8.05891784, 8.07374749, 8.08857715, 8.10340681,\n",
       "       8.11823647, 8.13306613, 8.14789579, 8.16272545, 8.17755511,\n",
       "       8.19238477, 8.20721443, 8.22204409, 8.23687375, 8.25170341,\n",
       "       8.26653307, 8.28136273, 8.29619238, 8.31102204, 8.3258517 ,\n",
       "       8.34068136, 8.35551102, 8.37034068, 8.38517034, 8.4       ])"
      ]
     },
     "metadata": {},
     "execution_count": 43
    }
   ],
   "metadata": {}
  },
  {
   "cell_type": "code",
   "execution_count": null,
   "source": [],
   "outputs": [],
   "metadata": {}
  }
 ],
 "metadata": {
  "orig_nbformat": 4,
  "language_info": {
   "name": "python",
   "version": "3.9.7",
   "mimetype": "text/x-python",
   "codemirror_mode": {
    "name": "ipython",
    "version": 3
   },
   "pygments_lexer": "ipython3",
   "nbconvert_exporter": "python",
   "file_extension": ".py"
  },
  "kernelspec": {
   "name": "python3",
   "display_name": "Python 3.9.7 64-bit"
  },
  "interpreter": {
   "hash": "14a336a61cfaefff504b47e2b8e6e50961f0feafa7b211f8ff23081790c52144"
  }
 },
 "nbformat": 4,
 "nbformat_minor": 2
}