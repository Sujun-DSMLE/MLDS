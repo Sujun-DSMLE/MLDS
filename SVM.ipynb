{
 "cells": [
  {
   "cell_type": "code",
   "execution_count": null,
   "metadata": {},
   "outputs": [],
   "source": [
    "## Importing Libs\n",
    "import numpy as np\n",
    "import pandas as pd\n",
    "import matplotlib.pyplot as plt"
   ]
  },
  {
   "cell_type": "code",
   "execution_count": null,
   "metadata": {},
   "outputs": [],
   "source": [
    "## data gathering\n",
    "data = pd.read_csv('iris.csv')\n",
    "data.head()"
   ]
  },
  {
   "cell_type": "code",
   "execution_count": null,
   "metadata": {},
   "outputs": [],
   "source": [
    "## Data Pre-Processing\n",
    "data.drop(['Id'], axis=1, inplace=True)\n",
    "data.head()"
   ]
  },
  {
   "cell_type": "code",
   "execution_count": null,
   "metadata": {},
   "outputs": [],
   "source": [
    "## Labeling\n",
    "from sklearn.preprocessing import LabelEncoder\n",
    "\n",
    "encoder = LabelEncoder()\n",
    "encodedY = encoder.fit(data[['Species']])\n",
    "labeledY = encoder.transform(data[['Species']])\n",
    "labeledY"
   ]
  },
  {
   "cell_type": "code",
   "execution_count": null,
   "metadata": {},
   "outputs": [],
   "source": [
    "## Scaling\n",
    "from sklearn.preprocessing import StandardScaler, MinMaxScaler\n",
    "\n",
    "scaler = StandardScaler()\n",
    "scaledX = scaler.fit_transform(data[['SepalLengthCm', 'SepalWidthCm']])\n",
    "scaledX"
   ]
  },
  {
   "cell_type": "code",
   "execution_count": null,
   "metadata": {},
   "outputs": [],
   "source": [
    "data.columns"
   ]
  },
  {
   "cell_type": "code",
   "execution_count": null,
   "metadata": {},
   "outputs": [],
   "source": [
    "## Divide Train Test Data\n",
    "from sklearn.model_selection import train_test_split\n",
    "\n",
    "xtrain, xtest, ytrain, ytest = train_test_split(\n",
    "    scaledX, labeledY, \n",
    "    test_size=0.2, random_state=49\n",
    ")\n",
    "xtrain.shape, ytrain.shape"
   ]
  },
  {
   "cell_type": "code",
   "execution_count": null,
   "metadata": {},
   "outputs": [],
   "source": [
    "# Modelling\n",
    "from sklearn import svm\n",
    "\n",
    "model = svm.SVC(kernel='linear')\n",
    "\n",
    "model.fit(xtrain, ytrain)\n",
    "\n",
    "ypred = model.predict(xtest)\n",
    "\n",
    "ypred == ytest"
   ]
  },
  {
   "cell_type": "code",
   "execution_count": null,
   "metadata": {},
   "outputs": [],
   "source": [
    "## Evaluation\n",
    "from sklearn.metrics import confusion_matrix, f1_score\n",
    "print('Confusion Matrix: \\n', confusion_matrix(ytest, ypred))\n",
    "print('F1 Score: ', f1_score(ytest, ypred, average='weighted'))"
   ]
  },
  {
   "cell_type": "code",
   "execution_count": null,
   "metadata": {},
   "outputs": [],
   "source": [
    "## Evaluation Plot\n",
    "from sklearn.metrics import plot_confusion_matrix\n",
    "\n",
    "plot_confusion_matrix(model, xtrain, ytrain)\n",
    "plot_confusion_matrix(model, xtest, ytest)"
   ]
  },
  {
   "cell_type": "code",
   "execution_count": null,
   "metadata": {},
   "outputs": [],
   "source": [
    "setosa = data[data['Species'] == 'Iris-setosa']\n",
    "versicolor = data[data['Species'] == 'Iris-versicolor']\n",
    "virginica = data[data['Species'] == 'Iris-virginica']"
   ]
  },
  {
   "cell_type": "code",
   "execution_count": null,
   "metadata": {},
   "outputs": [],
   "source": [
    "fig, axes = plt.subplots(1,1, figsize=(20,10))\n",
    "axes.scatter(setosa[['SepalLengthCm']], setosa[['SepalWidthCm']], label = 'Iris-Setosa')\n",
    "axes.scatter(versicolor[['SepalLengthCm']], versicolor[['SepalWidthCm']], label = 'Iris-Versicolor')\n",
    "axes.scatter(virginica[['SepalLengthCm']], virginica[['SepalWidthCm']], label = 'Iris-Virginica')\n",
    "plt.legend()\n",
    "plt.show()"
   ]
  },
  {
   "cell_type": "code",
   "execution_count": null,
   "metadata": {},
   "outputs": [],
   "source": [
    "## Task \n",
    "svm.SVC(kernel='linear').get_params()"
   ]
  },
  {
   "cell_type": "code",
   "execution_count": null,
   "metadata": {},
   "outputs": [],
   "source": [
    "## Finding Best K through Hyperparameter tuning\n",
    "from sklearn import model_selection\n",
    "gridmodel = svm.SVC()\n",
    "\n",
    "##\n",
    "grid = model_selection.GridSearchCV(\n",
    "    gridmodel,\n",
    "    param_grid={\n",
    "        'kernel': ['linear', 'rbf','poly', 'sigmoid'],\n",
    "        'degree': [3,4,5,6,7,8,9, 10, 11],\n",
    "        'gamma': ['scale', 'auto'],\n",
    "        'max_iter': list(range(100,1000, 100)),\n",
    "        'C': list(range(3,100, 1)),\n",
    "        'decision_function_shape': ['ovo','ovr'],\n",
    "    },cv=5, n_jobs=-1, scoring='accuracy'\n",
    ")\n",
    "grid.fit(xtrain, ytrain)"
   ]
  },
  {
   "cell_type": "code",
   "execution_count": null,
   "metadata": {},
   "outputs": [],
   "source": [
    "grid.best_params_, grid.best_estimator_"
   ]
  },
  {
   "cell_type": "code",
   "execution_count": null,
   "metadata": {},
   "outputs": [],
   "source": [
    "## Visualize Model\n",
    "finalmodel = svm.SVC(C=61, decision_function_shape='ovo', kernel='linear', max_iter=600)\n",
    "finalmodel.fit(xtrain, ytrain)\n",
    "\n",
    "##\n",
    "xmin, xmax = xtrain[:, 0].min(), xtrain[:, 0].max()\n",
    "ymin, ymax = xtrain[:, 1].min(), xtrain[:, 1].max()\n",
    "xmin, xmax, ymin, ymax\n",
    "\n",
    "xx, yy = np.meshgrid(\n",
    "    np.arange(xmin, xmax, 0.01), np.arange(ymin, ymax, 0.01)\n",
    ")\n",
    "# np.c_[xx.ravel(), yy.ravel()]\n",
    "yhat = finalmodel.predict(np.c_[xx.ravel(), yy.ravel()])\n",
    "yhat.shape, xx.shape\n",
    "##\n",
    "yhat = yhat.reshape(xx.shape)\n",
    "yhat.shape\n",
    "\n",
    "## Plotting\n",
    "plt.figure(1, figsize=(20,10))\n",
    "plt.set_cmap(plt.cm.Paired)\n",
    "plt.pcolormesh(xx, yy, yhat, shading='auto')\n",
    "\n",
    "plt.scatter(scaledX[:,0], scaledX[:, 1], c = labeledY, edgecolors='black')\n",
    "plt.xlim(xx.min(), xx.max())\n",
    "plt.ylim(yy.min(), yy.max())\n",
    "plt.show()"
   ]
  },
  {
   "cell_type": "code",
   "execution_count": null,
   "metadata": {},
   "outputs": [],
   "source": [
    "## Visualize Model\n",
    "finalmodel = svm.SVC(C=61, decision_function_shape='ovo', kernel='poly', max_iter=600)\n",
    "finalmodel.fit(xtrain, ytrain)\n",
    "\n",
    "##\n",
    "xmin, xmax = xtrain[:, 0].min(), xtrain[:, 0].max()\n",
    "ymin, ymax = xtrain[:, 1].min(), xtrain[:, 1].max()\n",
    "xmin, xmax, ymin, ymax\n",
    "\n",
    "xx, yy = np.meshgrid(\n",
    "    np.arange(xmin, xmax, 0.01), np.arange(ymin, ymax, 0.01)\n",
    ")\n",
    "# np.c_[xx.ravel(), yy.ravel()]\n",
    "yhat = finalmodel.predict(np.c_[xx.ravel(), yy.ravel()])\n",
    "yhat.shape, xx.shape\n",
    "##\n",
    "yhat = yhat.reshape(xx.shape)\n",
    "yhat.shape\n",
    "\n",
    "## Plotting\n",
    "plt.figure(1, figsize=(20,10))\n",
    "plt.set_cmap(plt.cm.Paired)\n",
    "plt.pcolormesh(xx, yy, yhat, shading='auto')\n",
    "\n",
    "plt.scatter(scaledX[:,0], scaledX[:, 1], c = labeledY, edgecolors='black')\n",
    "plt.xlim(xx.min(), xx.max())\n",
    "plt.ylim(yy.min(), yy.max())\n",
    "plt.show()"
   ]
  },
  {
   "cell_type": "code",
   "execution_count": null,
   "metadata": {},
   "outputs": [],
   "source": [
    "## Visualize Model\n",
    "finalmodel = svm.SVC(C=61, decision_function_shape='ovo', kernel='rbf', max_iter=600)\n",
    "finalmodel.fit(xtrain, ytrain)\n",
    "\n",
    "##\n",
    "xmin, xmax = xtrain[:, 0].min(), xtrain[:, 0].max()\n",
    "ymin, ymax = xtrain[:, 1].min(), xtrain[:, 1].max()\n",
    "xmin, xmax, ymin, ymax\n",
    "\n",
    "xx, yy = np.meshgrid(\n",
    "    np.arange(xmin, xmax, 0.01), np.arange(ymin, ymax, 0.01)\n",
    ")\n",
    "# np.c_[xx.ravel(), yy.ravel()]\n",
    "yhat = finalmodel.predict(np.c_[xx.ravel(), yy.ravel()])\n",
    "yhat.shape, xx.shape\n",
    "##\n",
    "yhat = yhat.reshape(xx.shape)\n",
    "yhat.shape\n",
    "\n",
    "## Plotting\n",
    "plt.figure(1, figsize=(20,10))\n",
    "plt.set_cmap(plt.cm.Paired)\n",
    "plt.pcolormesh(xx, yy, yhat, shading='auto')\n",
    "\n",
    "plt.scatter(scaledX[:,0], scaledX[:, 1], c = labeledY, edgecolors='black')\n",
    "plt.xlim(xx.min(), xx.max())\n",
    "plt.ylim(yy.min(), yy.max())\n",
    "plt.show()"
   ]
  },
  {
   "cell_type": "code",
   "execution_count": null,
   "metadata": {},
   "outputs": [],
   "source": [
    "## Visualize Model\n",
    "finalmodel = svm.SVC(C=61, decision_function_shape='ovo', kernel='sigmoid', max_iter=600)\n",
    "finalmodel.fit(xtrain, ytrain)\n",
    "\n",
    "##\n",
    "xmin, xmax = xtrain[:, 0].min(), xtrain[:, 0].max()\n",
    "ymin, ymax = xtrain[:, 1].min(), xtrain[:, 1].max()\n",
    "xmin, xmax, ymin, ymax\n",
    "\n",
    "xx, yy = np.meshgrid(\n",
    "    np.arange(xmin, xmax, 0.01), np.arange(ymin, ymax, 0.01)\n",
    ")\n",
    "# np.c_[xx.ravel(), yy.ravel()]\n",
    "yhat = finalmodel.predict(np.c_[xx.ravel(), yy.ravel()])\n",
    "yhat.shape, xx.shape\n",
    "##\n",
    "yhat = yhat.reshape(xx.shape)\n",
    "yhat.shape\n",
    "\n",
    "## Plotting\n",
    "plt.figure(1, figsize=(20,10))\n",
    "plt.set_cmap(plt.cm.Paired)\n",
    "plt.pcolormesh(xx, yy, yhat, shading='auto')\n",
    "\n",
    "plt.scatter(scaledX[:,0], scaledX[:, 1], c = labeledY, edgecolors='black')\n",
    "plt.xlim(xx.min(), xx.max())\n",
    "plt.ylim(yy.min(), yy.max())\n",
    "plt.show()"
   ]
  }
 ],
 "metadata": {
  "interpreter": {
   "hash": "14a336a61cfaefff504b47e2b8e6e50961f0feafa7b211f8ff23081790c52144"
  },
  "kernelspec": {
   "display_name": "Python 3.9.7 64-bit",
   "name": "python3"
  },
  "language_info": {
   "codemirror_mode": {
    "name": "ipython",
    "version": 3
   },
   "file_extension": ".py",
   "mimetype": "text/x-python",
   "name": "python",
   "nbconvert_exporter": "python",
   "pygments_lexer": "ipython3",
   "version": "3.9.7"
  },
  "orig_nbformat": 4
 },
 "nbformat": 4,
 "nbformat_minor": 2
}
